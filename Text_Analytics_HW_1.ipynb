{
  "nbformat": 4,
  "nbformat_minor": 0,
  "metadata": {
    "kernelspec": {
      "display_name": "Python 3",
      "language": "python",
      "name": "python3"
    },
    "language_info": {
      "codemirror_mode": {
        "name": "ipython",
        "version": 3
      },
      "file_extension": ".py",
      "mimetype": "text/x-python",
      "name": "python",
      "nbconvert_exporter": "python",
      "pygments_lexer": "ipython3",
      "version": "3.7.7"
    },
    "colab": {
      "name": "Text Analytics HW 1.ipynb",
      "provenance": [],
      "collapsed_sections": [
        "q5YCLsCjGIOK",
        "twruyI9xGIOL",
        "aoVB0R6vGIOL",
        "LmGU8BllGIOM",
        "ZjJLvYh9GIOM"
      ]
    }
  },
  "cells": [
    {
      "cell_type": "markdown",
      "metadata": {
        "id": "0ynV3jm7GINt"
      },
      "source": [
        "# Text Analytics Group Assignment #1"
      ]
    },
    {
      "cell_type": "markdown",
      "metadata": {
        "id": "Pr1TeJrSGIN3"
      },
      "source": [
        "**MIS 284N - Section B**   \n",
        "   \n",
        "**Members:**   \n",
        "Patricia Schutter (pls949)   \n",
        "Sujay Chebbi (sc64344)   \n",
        "Immanuel Ponminissery (ijp284)   \n",
        "Vikram Seth (vs22826)   \n",
        "Lai Jiang (lj9384)"
      ]
    },
    {
      "cell_type": "markdown",
      "metadata": {
        "id": "RIgOUbheGIN4"
      },
      "source": [
        "## Forum Summary "
      ]
    },
    {
      "cell_type": "markdown",
      "metadata": {
        "id": "M2L-rmszGIN4"
      },
      "source": [
        "The Edmunds discussion forum from which we chose to scrape data in order to gain insights from social media conversations is titled ***High End Luxury Sedans***.  \n",
        "   \n",
        "While technically the forum exists within the Audi/Audi A8 category, it is used as a general purpose discussion page for users to express opinions on a multitude of luxury car brands and models.  There are 463 pages of forum posts, from which we fetched the 4,500 least recent messages. The range of years in which these messages were posted was 1994-2004.   \n",
        "   \n",
        "The attributes of each message that were scraped and output into a CSV file included **Date, UserID, and Message.**   \n",
        "   \n",
        "The forum can be found at this [URL](https://forums.edmunds.com/discussion/1232/audi/a8/high-end-luxury-cars)."
      ]
    },
    {
      "cell_type": "markdown",
      "metadata": {
        "id": "93kn5W6eGIN5"
      },
      "source": [
        "## Scraping"
      ]
    },
    {
      "cell_type": "markdown",
      "metadata": {
        "id": "t_LKcSivGIN5"
      },
      "source": [
        "The following code only executes properly in the *Google Collab* environment."
      ]
    },
    {
      "cell_type": "code",
      "metadata": {
        "id": "oz75Pk8qGIN5"
      },
      "source": [
        "!pip install selenium\n",
        "!apt-get -q update # to update ubuntu to correctly run APT install\n",
        "!apt install -yq chromium-chromedriver\n",
        "!cp /usr/lib/chromium-browser/chromedriver /usr/bin\n",
        "\n",
        "import sys\n",
        "import pandas as pd\n",
        "import nltk\n",
        "nltk.download('stopwords')\n",
        "from nltk.corpus import stopwords\n",
        "import re\n",
        "sys.path.insert(0,'/usr/lib/chromium-browser/chromedriver')\n",
        "from selenium import webdriver\n",
        "chrome_options = webdriver.ChromeOptions()\n",
        "chrome_options.add_argument('--headless')\n",
        "chrome_options.add_argument('--no-sandbox')\n",
        "chrome_options.add_argument('--disable-dev-shm-usage')\n",
        "chrome_prefs = {}\n",
        "chrome_options.experimental_options[\"prefs\"] = chrome_prefs\n",
        "prefs = {\"profile.managed_default_content_settings.images\": 2}\n",
        "chrome_options.add_experimental_option(\"prefs\", prefs)\n",
        "\n",
        "driver = webdriver.Chrome(options=chrome_options)\n",
        "driver.set_page_load_timeout(600)\n",
        "driver.get('https://forums.edmunds.com/discussion/1232/audi/a8/high-end-luxury-cars')\n",
        "data = pd.DataFrame(columns=['date', 'userid', 'message'])\n",
        "\n",
        "ids = driver.find_elements_by_xpath(\"//*[contains(@id,'Comment_')]\")\n",
        "comment_ids = []\n",
        "\n",
        "#for pages in range(1,5):\n",
        "for i in ids:\n",
        "    comment_ids.append(i.get_attribute('id'))\n",
        "\n",
        "for j in comment_ids:\n",
        "      #Extract dates from for each user on a page\n",
        "      user_date = driver.find_elements_by_xpath('//*[@id=\"' + j +'\"]/div/div[2]/div[2]/span[1]/a/time')[0]\n",
        "      date = user_date.get_attribute('title')\n",
        "\n",
        "      #Extract user ids from each user on a page\n",
        "      userid_element = driver.find_elements_by_xpath('//*[@id=\"' + j +'\"]/div/div[2]/div[1]/span[1]/a[2]')[0]\n",
        "      userid = userid_element.text\n",
        "\n",
        "      #Extract Message for each user on a page\n",
        "      user_message = driver.find_elements_by_xpath('//*[@id=\"' + j +'\"]/div/div[3]/div/div[1]')[0]\n",
        "      comment = user_message.text\n",
        "                                    \n",
        "      #Adding date, userid and comment for each user in a dataframe    \n",
        "      data.loc[len(data)] = [date,userid,comment]\n",
        "        \n",
        "del i,j"
      ],
      "execution_count": null,
      "outputs": []
    },
    {
      "cell_type": "code",
      "metadata": {
        "id": "8_2kMSGIGIN6"
      },
      "source": [
        "#While Loop used to go through pages of forum\n",
        "\n",
        "page_number = 1\n",
        "while data.shape[0]<4500:\n",
        "  page_number = page_number+1\n",
        "  print(page_number)\n",
        "  new_address = 'https://forums.edmunds.com/discussion/1232/audi/a8/high-end-luxury-cars/p'+str(page_number)\n",
        "  #driver = webdriver.Chrome('chromedriver', options=chrome_options)\n",
        "  driver = webdriver.Chrome(options=chrome_options)\n",
        "  driver.set_page_load_timeout(600)\n",
        "  driver.get(new_address)\n",
        "  ids = driver.find_elements_by_xpath(\"//*[contains(@id,'Comment_')]\")\n",
        "  comment_ids = []\n",
        "  for i in ids:\n",
        "    comment_ids.append(i.get_attribute('id'))\n",
        "  for j in comment_ids:\n",
        "    #Extract dates from for each user on a page\n",
        "    user_date = driver.find_elements_by_xpath('//*[@id=\"' + j +'\"]/div/div[2]/div[2]/span[1]/a/time')[0]\n",
        "    date = user_date.get_attribute('title')\n",
        "\n",
        "    #Extract user ids from each user on a page\n",
        "    userid_element = driver.find_elements_by_xpath('//*[@id=\"' + j +'\"]/div/div[2]/div[1]/span[1]/a[2]')[0]\n",
        "    userid = userid_element.text\n",
        "\n",
        "    #Extract Message for each user on a page\n",
        "    user_message = driver.find_elements_by_xpath('//*[@id=\"' + j +'\"]/div/div[3]/div/div[1]')[0]\n",
        "    comment = user_message.text\n",
        "                                   \n",
        "    #Adding date, userid and comment for each user in a dataframe    \n",
        "    data.loc[len(data)] = [date,userid,comment]"
      ],
      "execution_count": null,
      "outputs": []
    },
    {
      "cell_type": "markdown",
      "metadata": {
        "id": "TYDDQYCFGIN7"
      },
      "source": [
        "The above code, when executed, outputs a CSV file titled *HW1_Data_v2.csv* which we will now read in for further analysis."
      ]
    },
    {
      "cell_type": "code",
      "metadata": {
        "id": "GTaj1LEBGIN7",
        "outputId": "eba17b50-ea7e-4274-9ea6-4272f6d048e9"
      },
      "source": [
        "import pandas as pd\n",
        "import nltk\n",
        "from nltk.corpus import stopwords\n",
        "import re\n",
        "import sys\n",
        "\n",
        "raw_data = pd.read_csv('HW1_Data_v2.csv', index_col=[0])\n",
        "raw_data.head()"
      ],
      "execution_count": null,
      "outputs": [
        {
          "output_type": "execute_result",
          "data": {
            "text/html": [
              "<div>\n",
              "<style scoped>\n",
              "    .dataframe tbody tr th:only-of-type {\n",
              "        vertical-align: middle;\n",
              "    }\n",
              "\n",
              "    .dataframe tbody tr th {\n",
              "        vertical-align: top;\n",
              "    }\n",
              "\n",
              "    .dataframe thead th {\n",
              "        text-align: right;\n",
              "    }\n",
              "</style>\n",
              "<table border=\"1\" class=\"dataframe\">\n",
              "  <thead>\n",
              "    <tr style=\"text-align: right;\">\n",
              "      <th></th>\n",
              "      <th>date</th>\n",
              "      <th>userid</th>\n",
              "      <th>message</th>\n",
              "    </tr>\n",
              "  </thead>\n",
              "  <tbody>\n",
              "    <tr>\n",
              "      <th>0</th>\n",
              "      <td>November 23, 1999 6:20AM</td>\n",
              "      <td>enigma23</td>\n",
              "      <td>All great cars, so let the discussions begin!!!</td>\n",
              "    </tr>\n",
              "    <tr>\n",
              "      <th>1</th>\n",
              "      <td>November 27, 1999 5:29AM</td>\n",
              "      <td>merc1</td>\n",
              "      <td>I guess no one wants to talk anymore huh?\\n\\nM</td>\n",
              "    </tr>\n",
              "    <tr>\n",
              "      <th>2</th>\n",
              "      <td>November 27, 1999 3:17PM</td>\n",
              "      <td>bmwboys</td>\n",
              "      <td>I was talking wiht a friend of mine about this...</td>\n",
              "    </tr>\n",
              "    <tr>\n",
              "      <th>3</th>\n",
              "      <td>November 27, 1999 6:29PM</td>\n",
              "      <td>bernard1</td>\n",
              "      <td>Currently we own a vehicle from Lexus, both of...</td>\n",
              "    </tr>\n",
              "    <tr>\n",
              "      <th>4</th>\n",
              "      <td>November 27, 1999 9:40PM</td>\n",
              "      <td>merc1</td>\n",
              "      <td>What \"toys\" does the LS400 offer that are not ...</td>\n",
              "    </tr>\n",
              "  </tbody>\n",
              "</table>\n",
              "</div>"
            ],
            "text/plain": [
              "                       date    userid  \\\n",
              "0  November 23, 1999 6:20AM  enigma23   \n",
              "1  November 27, 1999 5:29AM     merc1   \n",
              "2  November 27, 1999 3:17PM   bmwboys   \n",
              "3  November 27, 1999 6:29PM  bernard1   \n",
              "4  November 27, 1999 9:40PM     merc1   \n",
              "\n",
              "                                             message  \n",
              "0    All great cars, so let the discussions begin!!!  \n",
              "1     I guess no one wants to talk anymore huh?\\n\\nM  \n",
              "2  I was talking wiht a friend of mine about this...  \n",
              "3  Currently we own a vehicle from Lexus, both of...  \n",
              "4  What \"toys\" does the LS400 offer that are not ...  "
            ]
          },
          "metadata": {
            "tags": []
          },
          "execution_count": 1
        }
      ]
    },
    {
      "cell_type": "markdown",
      "metadata": {
        "id": "gKZVhW0NGIN9"
      },
      "source": [
        "Additionally, we read in a CSV file titled *Car models and brands* for a reference of model-brand combinations. "
      ]
    },
    {
      "cell_type": "code",
      "metadata": {
        "id": "R9_DoA9hGIN9"
      },
      "source": [
        "cars = pd.read_csv('car models and brands.csv')\n",
        "cars.columns = [\"brand\",\"model\"]"
      ],
      "execution_count": null,
      "outputs": []
    },
    {
      "cell_type": "markdown",
      "metadata": {
        "id": "3hVskOIgGIN9"
      },
      "source": [
        "## Task A"
      ]
    },
    {
      "cell_type": "markdown",
      "metadata": {
        "id": "0FpJj1mtGIN9"
      },
      "source": [
        "First, we remove all stopwords from the \"Message\" attribute of each post, transform any mention of a specific model into its manufacturing brand name, and removed all duplicate mentions of each brand, allowing us to calculate frequency counts of words in order to identify the *Top 10 Brands by Frequency.*   "
      ]
    },
    {
      "cell_type": "markdown",
      "metadata": {
        "id": "XDUlZ8CUGIN-"
      },
      "source": [
        "We first define functions for **data pre-processing** as:"
      ]
    },
    {
      "cell_type": "code",
      "metadata": {
        "id": "RGXevkr5GIN-"
      },
      "source": [
        "#Removing all Stopwords\n",
        "\n",
        "stop_words = set(stopwords.words('english'))\n",
        "\n",
        "#Create a new column of messages without stopwords\n",
        "def rid_stopwords(sentence):\n",
        "  sentence = str(sentence)\n",
        "  sentence = sentence.lower()\n",
        "  sentence_split = re.split('\\s|,|\\.',sentence)\n",
        "  filtered = []\n",
        "  for word in sentence_split:\n",
        "    if word not in stop_words:\n",
        "      filtered.append(word)\n",
        "  sentence = ' '.join(filtered)\n",
        "  return sentence\n",
        "\n",
        "\n",
        "#Replacing Car Model Name with Brand Names\n",
        "def convert_model_to_brand(sentence):\n",
        "  temp = []\n",
        "  sentence = str(sentence)\n",
        "  sentence = sentence.lower()\n",
        "  sentence = re.split('\\s|,|\\.',sentence)\n",
        "  for i in sentence:\n",
        "    if i in list(cars['model']):\n",
        "      address = list(cars['model']).index(i)\n",
        "      temp.append(list(cars['brand'])[address])\n",
        "    else:\n",
        "      temp.append(i)\n",
        "  return ' '.join(temp)\n",
        "\n",
        "#Removing multiple mentions of the same brand name within each message\n",
        "def rid_mult_mentions(sentence):\n",
        "  sentence = str(sentence)\n",
        "  sentence_split = sentence.split()\n",
        "  new_s = []\n",
        "  for i in sentence_split:\n",
        "    if i not in list(cars['brand']):\n",
        "      new_s.append(i)\n",
        "    else:\n",
        "      if new_s.count(i) == 0:\n",
        "        new_s.append(i)\n",
        "  return ' '.join(new_s)"
      ],
      "execution_count": null,
      "outputs": []
    },
    {
      "cell_type": "code",
      "metadata": {
        "id": "BPPoiGRmGIN-",
        "outputId": "20ad3ef4-9a7a-443f-fed0-0443c4eae200"
      },
      "source": [
        "#Execute the pre-processing functions\n",
        "\n",
        "raw_data['message_without_stopwords'] = raw_data['message'].map(rid_stopwords)\n",
        "\n",
        "raw_data['message_with_only_model_names'] = raw_data['message_without_stopwords'].map(convert_model_to_brand)\n",
        "\n",
        "raw_data['message_only_models_no_stopwords_unique_brand'] = raw_data['message_with_only_model_names'].map(rid_mult_mentions)\n",
        "\n",
        "raw_data.head()"
      ],
      "execution_count": null,
      "outputs": [
        {
          "output_type": "execute_result",
          "data": {
            "text/html": [
              "<div>\n",
              "<style scoped>\n",
              "    .dataframe tbody tr th:only-of-type {\n",
              "        vertical-align: middle;\n",
              "    }\n",
              "\n",
              "    .dataframe tbody tr th {\n",
              "        vertical-align: top;\n",
              "    }\n",
              "\n",
              "    .dataframe thead th {\n",
              "        text-align: right;\n",
              "    }\n",
              "</style>\n",
              "<table border=\"1\" class=\"dataframe\">\n",
              "  <thead>\n",
              "    <tr style=\"text-align: right;\">\n",
              "      <th></th>\n",
              "      <th>date</th>\n",
              "      <th>userid</th>\n",
              "      <th>message</th>\n",
              "      <th>message_without_stopwords</th>\n",
              "      <th>message_with_only_model_names</th>\n",
              "      <th>message_only_models_no_stopwords_unique_brand</th>\n",
              "    </tr>\n",
              "  </thead>\n",
              "  <tbody>\n",
              "    <tr>\n",
              "      <th>0</th>\n",
              "      <td>November 23, 1999 6:20AM</td>\n",
              "      <td>enigma23</td>\n",
              "      <td>All great cars, so let the discussions begin!!!</td>\n",
              "      <td>great cars  let discussions begin!!!</td>\n",
              "      <td>great car  let discussions begin!!!</td>\n",
              "      <td>great car let discussions begin!!!</td>\n",
              "    </tr>\n",
              "    <tr>\n",
              "      <th>1</th>\n",
              "      <td>November 27, 1999 5:29AM</td>\n",
              "      <td>merc1</td>\n",
              "      <td>I guess no one wants to talk anymore huh?\\n\\nM</td>\n",
              "      <td>guess one wants talk anymore huh?</td>\n",
              "      <td>guess one wants talk anymore huh?</td>\n",
              "      <td>guess one wants talk anymore huh?</td>\n",
              "    </tr>\n",
              "    <tr>\n",
              "      <th>2</th>\n",
              "      <td>November 27, 1999 3:17PM</td>\n",
              "      <td>bmwboys</td>\n",
              "      <td>I was talking wiht a friend of mine about this...</td>\n",
              "      <td>talking wiht friend mine line autos  came conc...</td>\n",
              "      <td>talking wiht friend mine line autos  came conc...</td>\n",
              "      <td>talking wiht friend mine line autos came concl...</td>\n",
              "    </tr>\n",
              "    <tr>\n",
              "      <th>3</th>\n",
              "      <td>November 27, 1999 6:29PM</td>\n",
              "      <td>bernard1</td>\n",
              "      <td>Currently we own a vehicle from Lexus, both of...</td>\n",
              "      <td>currently vehicle lexus  german makes volvo  o...</td>\n",
              "      <td>currently vehicle lexus  german makes volvo  o...</td>\n",
              "      <td>currently vehicle lexus german makes volvo off...</td>\n",
              "    </tr>\n",
              "    <tr>\n",
              "      <th>4</th>\n",
              "      <td>November 27, 1999 9:40PM</td>\n",
              "      <td>merc1</td>\n",
              "      <td>What \"toys\" does the LS400 offer that are not ...</td>\n",
              "      <td>\"toys\" ls400 offer available s-class 7-series ...</td>\n",
              "      <td>\"toys\" ls400 offer available mercedes 7-series...</td>\n",
              "      <td>\"toys\" ls400 offer available mercedes 7-series...</td>\n",
              "    </tr>\n",
              "  </tbody>\n",
              "</table>\n",
              "</div>"
            ],
            "text/plain": [
              "                       date    userid  \\\n",
              "0  November 23, 1999 6:20AM  enigma23   \n",
              "1  November 27, 1999 5:29AM     merc1   \n",
              "2  November 27, 1999 3:17PM   bmwboys   \n",
              "3  November 27, 1999 6:29PM  bernard1   \n",
              "4  November 27, 1999 9:40PM     merc1   \n",
              "\n",
              "                                             message  \\\n",
              "0    All great cars, so let the discussions begin!!!   \n",
              "1     I guess no one wants to talk anymore huh?\\n\\nM   \n",
              "2  I was talking wiht a friend of mine about this...   \n",
              "3  Currently we own a vehicle from Lexus, both of...   \n",
              "4  What \"toys\" does the LS400 offer that are not ...   \n",
              "\n",
              "                           message_without_stopwords  \\\n",
              "0               great cars  let discussions begin!!!   \n",
              "1                 guess one wants talk anymore huh?    \n",
              "2  talking wiht friend mine line autos  came conc...   \n",
              "3  currently vehicle lexus  german makes volvo  o...   \n",
              "4  \"toys\" ls400 offer available s-class 7-series ...   \n",
              "\n",
              "                       message_with_only_model_names  \\\n",
              "0                great car  let discussions begin!!!   \n",
              "1                 guess one wants talk anymore huh?    \n",
              "2  talking wiht friend mine line autos  came conc...   \n",
              "3  currently vehicle lexus  german makes volvo  o...   \n",
              "4  \"toys\" ls400 offer available mercedes 7-series...   \n",
              "\n",
              "       message_only_models_no_stopwords_unique_brand  \n",
              "0                 great car let discussions begin!!!  \n",
              "1                  guess one wants talk anymore huh?  \n",
              "2  talking wiht friend mine line autos came concl...  \n",
              "3  currently vehicle lexus german makes volvo off...  \n",
              "4  \"toys\" ls400 offer available mercedes 7-series...  "
            ]
          },
          "metadata": {
            "tags": []
          },
          "execution_count": 4
        }
      ]
    },
    {
      "cell_type": "markdown",
      "metadata": {
        "id": "8UYZLvVtGIN_"
      },
      "source": [
        "After doing the pre-processsing, we exported the adjusted data frame into a new CSV file. From that file we calcualted word frequencies spanning all messages, and found each word's value count."
      ]
    },
    {
      "cell_type": "code",
      "metadata": {
        "id": "uKE9vuRtGIN_"
      },
      "source": [
        "raw_data.to_csv(\"hw_1_clean_comments.csv\")\n",
        "word_frequency = raw_data.message_only_models_no_stopwords_unique_brand.str.split(expand=True).stack().value_counts()\n",
        "word_frequency.to_csv(\"hw_1_word_frequency.csv\")"
      ],
      "execution_count": null,
      "outputs": []
    },
    {
      "cell_type": "markdown",
      "metadata": {
        "id": "lH3m5xr9GIN_"
      },
      "source": [
        "   "
      ]
    },
    {
      "cell_type": "markdown",
      "metadata": {
        "id": "tHCdOytuGIOA"
      },
      "source": [
        "**The Top 10 Brands were identified through an index-match with the DataFrame \"cars\".**"
      ]
    },
    {
      "cell_type": "code",
      "metadata": {
        "id": "XFCyhmrUGIOA",
        "outputId": "f476828a-d76d-4e60-aafc-c496be57d6e9"
      },
      "source": [
        "mask = word_frequency.index.isin(cars['brand'])\n",
        "top_10_brands = word_frequency[mask]\n",
        "top_10_brands = top_10_brands[:10]\n",
        "top_10_brands = top_10_brands.to_frame().reset_index()\n",
        "top_10_brands.columns=['Brand','Frequency']\n",
        "top_10_brands"
      ],
      "execution_count": null,
      "outputs": [
        {
          "output_type": "execute_result",
          "data": {
            "text/html": [
              "<div>\n",
              "<style scoped>\n",
              "    .dataframe tbody tr th:only-of-type {\n",
              "        vertical-align: middle;\n",
              "    }\n",
              "\n",
              "    .dataframe tbody tr th {\n",
              "        vertical-align: top;\n",
              "    }\n",
              "\n",
              "    .dataframe thead th {\n",
              "        text-align: right;\n",
              "    }\n",
              "</style>\n",
              "<table border=\"1\" class=\"dataframe\">\n",
              "  <thead>\n",
              "    <tr style=\"text-align: right;\">\n",
              "      <th></th>\n",
              "      <th>Brand</th>\n",
              "      <th>Frequency</th>\n",
              "    </tr>\n",
              "  </thead>\n",
              "  <tbody>\n",
              "    <tr>\n",
              "      <th>0</th>\n",
              "      <td>car</td>\n",
              "      <td>2573</td>\n",
              "    </tr>\n",
              "    <tr>\n",
              "      <th>1</th>\n",
              "      <td>mercedes</td>\n",
              "      <td>1173</td>\n",
              "    </tr>\n",
              "    <tr>\n",
              "      <th>2</th>\n",
              "      <td>bmw</td>\n",
              "      <td>1087</td>\n",
              "    </tr>\n",
              "    <tr>\n",
              "      <th>3</th>\n",
              "      <td>audi</td>\n",
              "      <td>639</td>\n",
              "    </tr>\n",
              "    <tr>\n",
              "      <th>4</th>\n",
              "      <td>toyota</td>\n",
              "      <td>468</td>\n",
              "    </tr>\n",
              "    <tr>\n",
              "      <th>5</th>\n",
              "      <td>problem</td>\n",
              "      <td>457</td>\n",
              "    </tr>\n",
              "    <tr>\n",
              "      <th>6</th>\n",
              "      <td>sedan</td>\n",
              "      <td>282</td>\n",
              "    </tr>\n",
              "    <tr>\n",
              "      <th>7</th>\n",
              "      <td>cadillac</td>\n",
              "      <td>224</td>\n",
              "    </tr>\n",
              "    <tr>\n",
              "      <th>8</th>\n",
              "      <td>honda</td>\n",
              "      <td>205</td>\n",
              "    </tr>\n",
              "    <tr>\n",
              "      <th>9</th>\n",
              "      <td>volkswagen</td>\n",
              "      <td>203</td>\n",
              "    </tr>\n",
              "  </tbody>\n",
              "</table>\n",
              "</div>"
            ],
            "text/plain": [
              "        Brand  Frequency\n",
              "0         car       2573\n",
              "1    mercedes       1173\n",
              "2         bmw       1087\n",
              "3        audi        639\n",
              "4      toyota        468\n",
              "5     problem        457\n",
              "6       sedan        282\n",
              "7    cadillac        224\n",
              "8       honda        205\n",
              "9  volkswagen        203"
            ]
          },
          "metadata": {
            "tags": []
          },
          "execution_count": 6
        }
      ]
    },
    {
      "cell_type": "code",
      "metadata": {
        "id": "lFNYanhNGIOA"
      },
      "source": [
        "#Define a lift function\n",
        "def lift(calcLiftList, listofcomments, frequencyList):\n",
        "  results = []\n",
        "  totalComments = 4500\n",
        "  for i in calcLiftList:\n",
        "    counter = 0\n",
        "    word_list = i\n",
        "    all_comments = list(listofcomments)\n",
        "    \n",
        "    for comment in all_comments:\n",
        "      comment = str(comment)\n",
        "      comment = comment.split()\n",
        "\n",
        "      temp_1 = comment.count(word_list[0])\n",
        "      temp_2 = comment.count(word_list[1])\n",
        "\n",
        "      if (temp_1>=1) and (temp_2>=1):\n",
        "        counter = counter+1\n",
        "      else:\n",
        "        counter = counter+0\n",
        "  \n",
        "    firstWord = i[0]\n",
        "    secondWord = i[1]\n",
        "    #listFrequency = list(stackedFrequencyList)\n",
        "    listFrequency = list(frequencyList)\n",
        "    firstWordIndex = listFrequency.index(firstWord)\n",
        "    firstWordCountIndex = firstWordIndex+1\n",
        "    firstWordCount = listFrequency[firstWordCountIndex]\n",
        "    secondWordIndex = listFrequency.index(secondWord)\n",
        "    secondWordCountIndex = secondWordIndex+1\n",
        "    secondWordCount = listFrequency[secondWordCountIndex]\n",
        "    lift = (totalComments*counter)/(firstWordCount*secondWordCount)\n",
        "    results.append(i)\n",
        "    results.append(lift)\n",
        "  \n",
        "  return results"
      ],
      "execution_count": null,
      "outputs": []
    },
    {
      "cell_type": "code",
      "metadata": {
        "id": "sqq7BXmVGIOB"
      },
      "source": [
        "#Changing the original frequency list to search through it for word counts\n",
        "frequency_list = pd.read_csv('hw_1_word_frequency.csv')\n",
        "frequency_list = frequency_list.rename(columns={'Unnamed: 0':'Word','0':'Count'})\n",
        "frequency_list.set_index('Word')\n",
        "stackedFrequencyList = frequency_list.stack()"
      ],
      "execution_count": null,
      "outputs": []
    },
    {
      "cell_type": "code",
      "metadata": {
        "id": "f_bYRfIZGIOC"
      },
      "source": [
        "brandXBrandLiftWordList = pd.read_csv('brand lift words.csv')\n",
        "brandXBrandLiftWordList = list(brandXBrandLiftWordList['combo'])\n",
        "brandXBrandLiftWordList\n",
        "splitbrandXBrandLiftWordList = [brandXBrandLiftWordList[i:i+2] for i in range(0, len(brandXBrandLiftWordList), 2)]"
      ],
      "execution_count": null,
      "outputs": []
    },
    {
      "cell_type": "code",
      "metadata": {
        "id": "IzbwkJV4GIOC",
        "outputId": "aad387fb-1161-4556-cb09-96539af9496a"
      },
      "source": [
        "#Read in the Brand x Brand list in\n",
        "clean_data = pd.read_csv(\"hw_1_clean_comments.csv\")\n",
        "lift(splitbrandXBrandLiftWordList,clean_data['message_only_models_no_stopwords_unique_brand'],stackedFrequencyList)"
      ],
      "execution_count": null,
      "outputs": [
        {
          "output_type": "execute_result",
          "data": {
            "text/plain": [
              "[['mercedes', 'mercedes'],\n",
              " 3.836317135549872,\n",
              " ['lexus', 'mercedes'],\n",
              " 0.7512108415149962,\n",
              " ['bmw', 'mercedes'],\n",
              " 1.5987595790286036,\n",
              " ['audi', 'mercedes'],\n",
              " 1.663004454690633,\n",
              " ['lincoln', 'mercedes'],\n",
              " 1.7050298380221653,\n",
              " ['jaguar', 'mercedes'],\n",
              " 1.4935280451377364,\n",
              " ['toyota', 'mercedes'],\n",
              " 1.5984654731457801,\n",
              " ['infiniti', 'mercedes'],\n",
              " 1.6879795396419437,\n",
              " ['cadillac', 'mercedes'],\n",
              " 1.5756302521008403,\n",
              " ['acura', 'mercedes'],\n",
              " 1.8367821436875145,\n",
              " ['lexus', 'lexus'],\n",
              " 0.6646019372093835,\n",
              " ['bmw', 'lexus'],\n",
              " 0.686137968015114,\n",
              " ['audi', 'lexus'],\n",
              " 0.61467201377602,\n",
              " ['lincoln', 'lexus'],\n",
              " 0.7939102414421146,\n",
              " ['jaguar', 'lexus'],\n",
              " 0.4940995036545895,\n",
              " ['toyota', 'lexus'],\n",
              " 0.8329770915583272,\n",
              " ['infiniti', 'lexus'],\n",
              " 0.8458646616541353,\n",
              " ['cadillac', 'lexus'],\n",
              " 0.7552363050483352,\n",
              " ['acura', 'lexus'],\n",
              " 0.8915569556301822,\n",
              " ['bmw', 'bmw'],\n",
              " 4.139834406623735,\n",
              " ['audi', 'bmw'],\n",
              " 1.99541314122083,\n",
              " ['lincoln', 'bmw'],\n",
              " 1.7085030884478907,\n",
              " ['jaguar', 'bmw'],\n",
              " 1.559021608601305,\n",
              " ['toyota', 'bmw'],\n",
              " 1.3091784020946855,\n",
              " ['infiniti', 'bmw'],\n",
              " 1.9250229990800367,\n",
              " ['cadillac', 'bmw'],\n",
              " 1.922065974503877,\n",
              " ['acura', 'bmw'],\n",
              " 1.9570126285857656,\n",
              " ['audi', 'audi'],\n",
              " 7.042253521126761,\n",
              " ['lincoln', 'audi'],\n",
              " 1.676727028839705,\n",
              " ['jaguar', 'audi'],\n",
              " 1.9711142171092715,\n",
              " ['toyota', 'audi'],\n",
              " 1.0683760683760684,\n",
              " ['infiniti', 'audi'],\n",
              " 2.5,\n",
              " ['cadillac', 'audi'],\n",
              " 2.4522132796780682,\n",
              " ['acura', 'audi'],\n",
              " 2.219376867264191,\n",
              " ['lincoln', 'lincoln'],\n",
              " 71.42857142857143,\n",
              " ['jaguar', 'lincoln'],\n",
              " 1.4540167211922936,\n",
              " ['toyota', 'lincoln'],\n",
              " 1.678876678876679,\n",
              " ['infiniti', 'lincoln'],\n",
              " 3.2142857142857144,\n",
              " ['cadillac', 'lincoln'],\n",
              " 8.60969387755102,\n",
              " ['acura', 'lincoln'],\n",
              " 3.463203463203463,\n",
              " ['jaguar', 'jaguar'],\n",
              " 8.128896917429055,\n",
              " ['toyota', 'jaguar'],\n",
              " 1.198864748483069,\n",
              " ['infiniti', 'jaguar'],\n",
              " 2.2900763358778624,\n",
              " ['cadillac', 'jaguar'],\n",
              " 1.686886586695747,\n",
              " ['acura', 'jaguar'],\n",
              " 1.8043025676613462,\n",
              " ['toyota', 'toyota'],\n",
              " 9.615384615384615,\n",
              " ['infiniti', 'toyota'],\n",
              " 1.5865384615384615,\n",
              " ['cadillac', 'toyota'],\n",
              " 1.1160714285714286,\n",
              " ['acura', 'toyota'],\n",
              " 1.8648018648018647,\n",
              " ['infiniti', 'infiniti'],\n",
              " 22.5,\n",
              " ['cadillac', 'infiniti'],\n",
              " 3.6160714285714284,\n",
              " ['acura', 'infiniti'],\n",
              " 6.136363636363637,\n",
              " ['cadillac', 'cadillac'],\n",
              " 20.089285714285715,\n",
              " ['acura', 'cadillac'],\n",
              " 3.2873376623376624,\n",
              " ['acura', 'acura'],\n",
              " 27.272727272727273]"
            ]
          },
          "metadata": {
            "tags": []
          },
          "execution_count": 10
        }
      ]
    },
    {
      "cell_type": "markdown",
      "metadata": {
        "id": "o0raJFosGIOE"
      },
      "source": [
        "Below is the **Similarity (Lift) Matrix** between brands."
      ]
    },
    {
      "cell_type": "code",
      "metadata": {
        "id": "S1wA2xLyGIOE",
        "outputId": "a923c818-b051-42ae-b1e6-99269d2e413d"
      },
      "source": [
        "from sklearn import manifold\n",
        "import matplotlib.pyplot as plt\n",
        "import numpy as np\n",
        "import seaborn as sns\n",
        "\n",
        "sim = pd.read_csv('lift_table.csv')\n",
        "sim.set_index('Unnamed: 0', drop = True, inplace= True)\n",
        "sim.index.rename('Brands', inplace = True)\n",
        "fig,ax = plt.subplots(figsize = (15,9))\n",
        "sns.heatmap(sim, annot=True,fmt ='.4g')"
      ],
      "execution_count": null,
      "outputs": [
        {
          "output_type": "execute_result",
          "data": {
            "text/plain": [
              "<AxesSubplot:ylabel='Brands'>"
            ]
          },
          "metadata": {
            "tags": []
          },
          "execution_count": 11
        },
        {
          "output_type": "display_data",
          "data": {
            "image/png": "[encoded data removed]",
            "text/plain": [
              "<Figure size 1080x648 with 2 Axes>"
            ]
          },
          "metadata": {
            "tags": [],
            "needs_background": "light"
          }
        }
      ]
    },
    {
      "cell_type": "markdown",
      "metadata": {
        "id": "JqXm-_TxGIOG"
      },
      "source": [
        "Below is the **Dissimilarity Matrix** between brands."
      ]
    },
    {
      "cell_type": "code",
      "metadata": {
        "id": "xgMvyxOoGIOH",
        "outputId": "9deac078-ed43-4877-9b68-2da0d77b14fa"
      },
      "source": [
        "dis = sim.apply(np.reciprocal).copy()\n",
        "fig,ax = plt.subplots(figsize = (15,9))\n",
        "sns.heatmap(dis, annot=True, fmt = '.4g')"
      ],
      "execution_count": null,
      "outputs": [
        {
          "output_type": "execute_result",
          "data": {
            "text/plain": [
              "<AxesSubplot:ylabel='Brands'>"
            ]
          },
          "metadata": {
            "tags": []
          },
          "execution_count": 12
        },
        {
          "output_type": "display_data",
          "data": {
            "image/png": "[encoded data removed]",
            "text/plain": [
              "<Figure size 1080x648 with 2 Axes>"
            ]
          },
          "metadata": {
            "tags": [],
            "needs_background": "light"
          }
        }
      ]
    },
    {
      "cell_type": "markdown",
      "metadata": {
        "id": "2yfbSOQZGIOH"
      },
      "source": [
        "Below is the **MDS Map** of the brands."
      ]
    },
    {
      "cell_type": "code",
      "metadata": {
        "id": "HzQwVK5eGIOH",
        "outputId": "3df9a244-f6ae-47a9-984b-2fbf28e406d1"
      },
      "source": [
        "trial1 = manifold.MDS(n_components = 2,random_state=0, dissimilarity='precomputed')\n",
        "coords = trial1.fit_transform(dis)\n",
        "x = list()\n",
        "y = list()\n",
        "for i in range(0,len(coords)):\n",
        "  x.append(coords[i][0])\n",
        "  y.append(coords[i][1])\n",
        "plt.scatter(x,y)\n",
        "plt.xticks([])\n",
        "plt.yticks([])\n",
        "plt.title('MDS Plot')\n",
        "\n",
        "for i in range(0,len(coords)):\n",
        "  plt.annotate(list(sim.index.values)[i],(x[i],y[i]))\n"
      ],
      "execution_count": null,
      "outputs": [
        {
          "output_type": "display_data",
          "data": {
            "image/png": "[encoded data removed]",
            "text/plain": [
              "<Figure size 432x288 with 1 Axes>"
            ]
          },
          "metadata": {
            "tags": []
          }
        }
      ]
    },
    {
      "cell_type": "markdown",
      "metadata": {
        "id": "pdtV5WovGIOI"
      },
      "source": [
        "## Task B"
      ]
    },
    {
      "cell_type": "markdown",
      "metadata": {
        "id": "qmZjdBQjGIOI"
      },
      "source": [
        "The two brands with the most highest lift values and lowest distance on the MDS plot are *Acura* and *Infiniti*. A useful insight to the brand managers of both brands would be that this similarity score indicates that they are each other's top competitors in their market. Both of their parent companies, Nissan and Honda respectively, are Japanese mass-producers of luxury sedans. The public shows similar brand perception and popularity between the two makes.\n",
        "\n",
        "This insight is relevant, as the MDS plot shows no data points in the center. This means that there is not one brand that is uniquely more similar to all other brands in the market. From a brand manager's perspective, an MDS plot with roughly equidistant points and lacks centrality indicates that consumers don't have one specific brand that they view as similar to most. The brand managers of Acura and Infiniti can use this information to position their brand strategy around each other, as opposed to one brand that is consistently a competitor to all makes in the entry-level luxury sedan market. "
      ]
    },
    {
      "cell_type": "markdown",
      "metadata": {
        "id": "7gWZmovlGIOI"
      },
      "source": [
        "## Task C"
      ]
    },
    {
      "cell_type": "code",
      "metadata": {
        "id": "pKPCj3C9GIOI"
      },
      "source": [
        "#Read in the Brand X Attribute list to run lift\n",
        "attributeXBrandLiftList = pd.read_csv('attribute x brand list.csv')\n",
        "attributeXBrandLiftList = list(attributeXBrandLiftList['combo'])\n",
        "splitAttributeXBrandList = [attributeXBrandLiftList[i:i+2] for i in range(0, len(attributeXBrandLiftList), 2)]\n",
        "attribute_lift =lift(splitAttributeXBrandList,clean_data['message_only_models_no_stopwords_unique_brand'],stackedFrequencyList)"
      ],
      "execution_count": null,
      "outputs": []
    },
    {
      "cell_type": "code",
      "metadata": {
        "id": "ZmmXRql0GIOI",
        "outputId": "e3e93335-15a6-4933-f840-804bf76ed68f"
      },
      "source": [
        "attributeXBrand = pd.read_csv('attribute x brand.csv')\n",
        "attributeXBrand = attributeXBrand.dropna(how='all', axis='columns')\n",
        "attributeXBrandDF = attributeXBrand[:5]\n",
        "attributeXBrandDF.set_index('Unnamed: 0', drop = True, inplace= True)\n",
        "attributeXBrandDF.index.rename('Attribute', inplace = True)\n",
        "fig,ax = plt.subplots(figsize = (9,6))\n",
        "sns.heatmap(attributeXBrandDF,annot = True, fmt ='.4g')"
      ],
      "execution_count": null,
      "outputs": [
        {
          "output_type": "execute_result",
          "data": {
            "text/plain": [
              "<AxesSubplot:ylabel='Attribute'>"
            ]
          },
          "metadata": {
            "tags": []
          },
          "execution_count": 15
        },
        {
          "output_type": "display_data",
          "data": {
            "image/png": "[encoded data removed]",
            "text/plain": [
              "<Figure size 648x432 with 2 Axes>"
            ]
          },
          "metadata": {
            "tags": [],
            "needs_background": "light"
          }
        }
      ]
    },
    {
      "cell_type": "markdown",
      "metadata": {
        "id": "b0-ZHNa-GIOJ"
      },
      "source": [
        "The five most frequently mentioned attributes of cars in the discussion are **luxury, interior, quality, design, and reliability,** in that order. The above matrix shows the association values between each of the five most common attributes have and the top five most popular brands. "
      ]
    },
    {
      "cell_type": "markdown",
      "metadata": {
        "id": "uarBuH4iGIOK"
      },
      "source": [
        "## Task D"
      ]
    },
    {
      "cell_type": "markdown",
      "metadata": {
        "id": "q5YCLsCjGIOK"
      },
      "source": [
        "### Mercedes"
      ]
    },
    {
      "cell_type": "markdown",
      "metadata": {
        "id": "CZfNTm2mGIOL"
      },
      "source": [
        "***Product Manager***   \n",
        "The product manager of Mercedes should use the above table to understand which of the most important attributes to consumers have the lowest assocation with their brand. Mercedes is ranked the lowest for design among the top five brands, indicating the need for a break from previous model design patterns. With that, they should focus on the luxurious and interior aspects of their next model, as Mercedes has the lowest associaions in the market for both of these attributes. Some actionable advice would be to design new models with increased interior space and finer material, as well as design the cabin for more amenities to increase customer perception of \"luxury\". \n",
        "\n",
        "***Marketing Manager***  \n",
        "Mercedes' marketing manager should orient their strategy toward playing into the attributes that customers tend to associate most with Mercedes, thereby playing into the brand's strenghts. Mercedes has the second highest association of these brands for quality, and they have the third highest association for reliability. In advertising, the marketing manager should emphasize these characteristics through positive messaging related to the materials and durability of their products.  "
      ]
    },
    {
      "cell_type": "markdown",
      "metadata": {
        "id": "twruyI9xGIOL"
      },
      "source": [
        "### Lexus"
      ]
    },
    {
      "cell_type": "markdown",
      "metadata": {
        "id": "kCqzyWKdGIOL"
      },
      "source": [
        "***Product Manager***   \n",
        "A product manager at Lexus needs to focus redesigning around both overall design as well as interior. For both attributes, Lexus has the second lowest level of association, placing directly behind BMW. If the product manager were able to further improve upon these attributes by following trends for both interior and overall design similar to Audi or Lincoln, Lexus’ customer perception would be substantially improved, as these are the lowest association attributes for the brand itself.\n",
        "\n",
        "***Marketing Manager***  \n",
        "The highest attribute associations between Lexus are in reliability and quality, where the brand is the second and third most highly associated, respectively, trailing Lincoln in both cases. Lexus should lean heavily on these characteristics in advertising to potentially absorb a portion of Lincoln’s luxurious sedan markets share, since the differences in these attributes' lift values are realtively small. This strategy would be efficient, as the remaining attributes have substantially higher differences in lift, suggesting that marketing on reliability and quality may yield more realistic success. "
      ]
    },
    {
      "cell_type": "markdown",
      "metadata": {
        "id": "aoVB0R6vGIOL"
      },
      "source": [
        "### BMW"
      ]
    },
    {
      "cell_type": "markdown",
      "metadata": {
        "id": "MecnRDlvGIOM"
      },
      "source": [
        "***Product Manager***    \n",
        "We would recommend that a BMW product manager focus on the quality and reliability of future products, as BMW's brand ranks lowest and second lowest, respectively, in these attribute association levels. This makes sense, as quality and reliability go hand-in-hand in customer perception of capabilitly and durability. This could be done by procuring higher quality engine parts, paints, and wheels, while also and ensuring opitmal customer service during service repaires to build higher levels of positive associations related to BMW and reliability.\n",
        "\n",
        "***Marketing Manager***  \n",
        "A BMW marketing manager to focus on the more positive aspects of BMW cars, which include luxury, interior, and design. These three attributes define BMW's brand perception in the first place as the interior of many BMW cars are what attract customers. Advertisements should display the luxury of BMW's interior design."
      ]
    },
    {
      "cell_type": "markdown",
      "metadata": {
        "id": "LmGU8BllGIOM"
      },
      "source": [
        "### Lincoln"
      ]
    },
    {
      "cell_type": "markdown",
      "metadata": {
        "id": "cDZMetZPGIOM"
      },
      "source": [
        "***Product Manager***   \n",
        "We would recommend that a Lincoln product manager focus on the luxurious aspects of future Lincoln cars. People do not tend to associate Lincoln with luxury as they might for the other 4 brands. This might include using higher quality material for upholstery and for the dashboard, or adding interior amenities. Relative to other brands, Lincoln has high association values for all other attributes, which means that a focus on luxurious design could establish consistent high values for all attributes. \n",
        "\n",
        "***Marketing Manager***    \n",
        "A Lincoln marketing manager should focus on the premier aspects of their cars, which include their reliability and design. Lincoln advertisements should display how reliable their vehicles, perhaps with metrics such as engine life, owner satisfaction, and fuel efficiency. Their advertisements should also display the exceptional exterior design. Since Lincoln is relatively close to Audi in the MDS plot as compared to the other top five brands, this strategy would also be efficient as Lincoln could potentially gain higher a association value for design than Audi and solidify an even higher lift for reliability than Audi, giving Lincoln potential to gain market share. "
      ]
    },
    {
      "cell_type": "markdown",
      "metadata": {
        "id": "ZjJLvYh9GIOM"
      },
      "source": [
        "### Audi"
      ]
    },
    {
      "cell_type": "markdown",
      "metadata": {
        "id": "ro1_P5kVGIOM"
      },
      "source": [
        "***Product Manager***     \n",
        "An Audi product manager should look at this analysis and wonder why their reliability ranks the worst among the 4 other popular car brands, while ranking the best in luxury, interior, quality and design. Audi clearly takes care of the aesthetics of their cars and build quality, but when it comes to reliability it seems like they are lacking quite a bit. Examples of improving reliability could be importing or building very high quality engine parts and combustion engines and quality transmission fluid.\n",
        "\n",
        "***Marketing Manager***   \n",
        "We would recommend an Audi marketing manager to focus on any aspect of luxury, interior, quality, and design. Advertisements should include high quality displays of Audi's exterior and interior. To increase customer perception of reliability, considering that the only attribute for which Audi doesn't have the highst lift value is reliability, Audi advertisements should include any product improvements or features that express sentiment of durability or useability. "
      ]
    },
    {
      "cell_type": "markdown",
      "metadata": {
        "id": "JC9PuaDsGION"
      },
      "source": [
        "## Task E"
      ]
    },
    {
      "cell_type": "markdown",
      "metadata": {
        "id": "LE6j1b46GION"
      },
      "source": [
        "We measured the \"aspirational\" quality of a car by creating a list of phrases that had hints of aspiration or desire. This list can be seen below."
      ]
    },
    {
      "cell_type": "code",
      "metadata": {
        "id": "jRMxg_4DGION",
        "outputId": "c1050208-eeb7-446b-bf1c-8ca11aef496c"
      },
      "source": [
        "task_e_words = pd.read_csv('aspirational_words.csv')\n",
        "task_e_words.tail(10) "
      ],
      "execution_count": null,
      "outputs": [
        {
          "output_type": "execute_result",
          "data": {
            "text/html": [
              "<div>\n",
              "<style scoped>\n",
              "    .dataframe tbody tr th:only-of-type {\n",
              "        vertical-align: middle;\n",
              "    }\n",
              "\n",
              "    .dataframe tbody tr th {\n",
              "        vertical-align: top;\n",
              "    }\n",
              "\n",
              "    .dataframe thead th {\n",
              "        text-align: right;\n",
              "    }\n",
              "</style>\n",
              "<table border=\"1\" class=\"dataframe\">\n",
              "  <thead>\n",
              "    <tr style=\"text-align: right;\">\n",
              "      <th></th>\n",
              "      <th>quality</th>\n",
              "      <th>terms</th>\n",
              "    </tr>\n",
              "  </thead>\n",
              "  <tbody>\n",
              "    <tr>\n",
              "      <th>57</th>\n",
              "      <td>aspiration</td>\n",
              "      <td>demanding for</td>\n",
              "    </tr>\n",
              "    <tr>\n",
              "      <th>58</th>\n",
              "      <td>aspiration</td>\n",
              "      <td>hoping for</td>\n",
              "    </tr>\n",
              "    <tr>\n",
              "      <th>59</th>\n",
              "      <td>aspiration</td>\n",
              "      <td>fancying to</td>\n",
              "    </tr>\n",
              "    <tr>\n",
              "      <th>60</th>\n",
              "      <td>aspiration</td>\n",
              "      <td>sight for</td>\n",
              "    </tr>\n",
              "    <tr>\n",
              "      <th>61</th>\n",
              "      <td>aspiration</td>\n",
              "      <td>thirsting for</td>\n",
              "    </tr>\n",
              "    <tr>\n",
              "      <th>62</th>\n",
              "      <td>aspiration</td>\n",
              "      <td>urging to</td>\n",
              "    </tr>\n",
              "    <tr>\n",
              "      <th>63</th>\n",
              "      <td>aspiration</td>\n",
              "      <td>might buy</td>\n",
              "    </tr>\n",
              "    <tr>\n",
              "      <th>64</th>\n",
              "      <td>aspiration</td>\n",
              "      <td>might want</td>\n",
              "    </tr>\n",
              "    <tr>\n",
              "      <th>65</th>\n",
              "      <td>aspiration</td>\n",
              "      <td>would like</td>\n",
              "    </tr>\n",
              "    <tr>\n",
              "      <th>66</th>\n",
              "      <td>aspiration</td>\n",
              "      <td>test drive</td>\n",
              "    </tr>\n",
              "  </tbody>\n",
              "</table>\n",
              "</div>"
            ],
            "text/plain": [
              "       quality           terms\n",
              "57  aspiration   demanding for\n",
              "58  aspiration      hoping for\n",
              "59  aspiration     fancying to\n",
              "60  aspiration       sight for\n",
              "61  aspiration  thirsting for \n",
              "62  aspiration       urging to\n",
              "63  aspiration       might buy\n",
              "64  aspiration      might want\n",
              "65  aspiration      would like\n",
              "66  aspiration      test drive"
            ]
          },
          "metadata": {
            "tags": []
          },
          "execution_count": 16
        }
      ]
    },
    {
      "cell_type": "markdown",
      "metadata": {
        "id": "JZFZCUmgGION"
      },
      "source": [
        "We then added the word \"aspiration\" to the end of comments in which aspirational bigrams were present and removed multiple instances of the word from each comment. We did a lift analysis by these five car brands with respect to the number of times \"aspiration\" appeared. "
      ]
    },
    {
      "cell_type": "code",
      "metadata": {
        "id": "I9KR5K6iGION"
      },
      "source": [
        "def replace_aspirational_terms(sentence):\n",
        "  sentence = str(sentence)\n",
        "  sentence = sentence.lower()\n",
        "  sentence = re.split('\\s|,|\\.',sentence)\n",
        "  sentence = ' '.join(sentence)\n",
        "\n",
        "  for i in range(0,len(list(task_e_words['terms']))):\n",
        "    if list(task_e_words['terms'])[i] in sentence:\n",
        "      sentence = sentence+' aspiration'\n",
        "    else:\n",
        "      pass\n",
        "  \n",
        "  if 'aspiration' in sentence:\n",
        "    sentence = sentence.split()\n",
        "    count_aspiration = sentence.count('aspiration')\n",
        "    sentence = ' '.join(sentence[0:-1*count_aspiration+1])\n",
        "  \n",
        "  return sentence"
      ],
      "execution_count": null,
      "outputs": []
    },
    {
      "cell_type": "code",
      "metadata": {
        "id": "giw6kkKvGIOO",
        "outputId": "d0878e37-cc2a-4a02-8840-d22fccf893e9"
      },
      "source": [
        "raw_aspiration_data = pd.read_csv('HW1_Data_v2.csv',index_col=[0])\n",
        "raw_aspiration_data['message_with_aspiration'] = raw_aspiration_data['message'].map(replace_aspirational_terms)\n",
        "raw_aspiration_data['with_aspiration_and_brand'] = raw_aspiration_data['message_with_aspiration'].map(convert_model_to_brand)\n",
        "raw_aspiration_data['with_aspiration_and_brand_mentioned_once'] = raw_aspiration_data['with_aspiration_and_brand'].map(rid_mult_mentions)\n",
        "raw_aspiration_data.head()"
      ],
      "execution_count": null,
      "outputs": [
        {
          "output_type": "execute_result",
          "data": {
            "text/html": [
              "<div>\n",
              "<style scoped>\n",
              "    .dataframe tbody tr th:only-of-type {\n",
              "        vertical-align: middle;\n",
              "    }\n",
              "\n",
              "    .dataframe tbody tr th {\n",
              "        vertical-align: top;\n",
              "    }\n",
              "\n",
              "    .dataframe thead th {\n",
              "        text-align: right;\n",
              "    }\n",
              "</style>\n",
              "<table border=\"1\" class=\"dataframe\">\n",
              "  <thead>\n",
              "    <tr style=\"text-align: right;\">\n",
              "      <th></th>\n",
              "      <th>date</th>\n",
              "      <th>userid</th>\n",
              "      <th>message</th>\n",
              "      <th>message_with_aspiration</th>\n",
              "      <th>with_aspiration_and_brand</th>\n",
              "      <th>with_aspiration_and_brand_mentioned_once</th>\n",
              "    </tr>\n",
              "  </thead>\n",
              "  <tbody>\n",
              "    <tr>\n",
              "      <th>0</th>\n",
              "      <td>November 23, 1999 6:20AM</td>\n",
              "      <td>enigma23</td>\n",
              "      <td>All great cars, so let the discussions begin!!!</td>\n",
              "      <td>all great cars  so let the discussions begin!!!</td>\n",
              "      <td>all great car  so let the discussions begin!!!</td>\n",
              "      <td>all great car so let the discussions begin!!!</td>\n",
              "    </tr>\n",
              "    <tr>\n",
              "      <th>1</th>\n",
              "      <td>November 27, 1999 5:29AM</td>\n",
              "      <td>merc1</td>\n",
              "      <td>I guess no one wants to talk anymore huh?\\n\\nM</td>\n",
              "      <td>i guess no one wants to talk anymore huh?  m</td>\n",
              "      <td>i guess no one wants to talk anymore huh?  m</td>\n",
              "      <td>i guess no one wants to talk anymore huh? m</td>\n",
              "    </tr>\n",
              "    <tr>\n",
              "      <th>2</th>\n",
              "      <td>November 27, 1999 3:17PM</td>\n",
              "      <td>bmwboys</td>\n",
              "      <td>I was talking wiht a friend of mine about this...</td>\n",
              "      <td>i was talking wiht a friend of mine about this...</td>\n",
              "      <td>i was talking wiht a friend of mine about this...</td>\n",
              "      <td>i was talking wiht a friend of mine about this...</td>\n",
              "    </tr>\n",
              "    <tr>\n",
              "      <th>3</th>\n",
              "      <td>November 27, 1999 6:29PM</td>\n",
              "      <td>bernard1</td>\n",
              "      <td>Currently we own a vehicle from Lexus, both of...</td>\n",
              "      <td>currently we own a vehicle from lexus  both of...</td>\n",
              "      <td>currently we own a vehicle from lexus  both of...</td>\n",
              "      <td>currently we own a vehicle from lexus both of ...</td>\n",
              "    </tr>\n",
              "    <tr>\n",
              "      <th>4</th>\n",
              "      <td>November 27, 1999 9:40PM</td>\n",
              "      <td>merc1</td>\n",
              "      <td>What \"toys\" does the LS400 offer that are not ...</td>\n",
              "      <td>what \"toys\" does the ls400 offer that are not ...</td>\n",
              "      <td>what \"toys\" does the ls400 offer that are not ...</td>\n",
              "      <td>what \"toys\" does the ls400 offer that are not ...</td>\n",
              "    </tr>\n",
              "  </tbody>\n",
              "</table>\n",
              "</div>"
            ],
            "text/plain": [
              "                       date    userid  \\\n",
              "0  November 23, 1999 6:20AM  enigma23   \n",
              "1  November 27, 1999 5:29AM     merc1   \n",
              "2  November 27, 1999 3:17PM   bmwboys   \n",
              "3  November 27, 1999 6:29PM  bernard1   \n",
              "4  November 27, 1999 9:40PM     merc1   \n",
              "\n",
              "                                             message  \\\n",
              "0    All great cars, so let the discussions begin!!!   \n",
              "1     I guess no one wants to talk anymore huh?\\n\\nM   \n",
              "2  I was talking wiht a friend of mine about this...   \n",
              "3  Currently we own a vehicle from Lexus, both of...   \n",
              "4  What \"toys\" does the LS400 offer that are not ...   \n",
              "\n",
              "                             message_with_aspiration  \\\n",
              "0    all great cars  so let the discussions begin!!!   \n",
              "1       i guess no one wants to talk anymore huh?  m   \n",
              "2  i was talking wiht a friend of mine about this...   \n",
              "3  currently we own a vehicle from lexus  both of...   \n",
              "4  what \"toys\" does the ls400 offer that are not ...   \n",
              "\n",
              "                           with_aspiration_and_brand  \\\n",
              "0     all great car  so let the discussions begin!!!   \n",
              "1       i guess no one wants to talk anymore huh?  m   \n",
              "2  i was talking wiht a friend of mine about this...   \n",
              "3  currently we own a vehicle from lexus  both of...   \n",
              "4  what \"toys\" does the ls400 offer that are not ...   \n",
              "\n",
              "            with_aspiration_and_brand_mentioned_once  \n",
              "0      all great car so let the discussions begin!!!  \n",
              "1        i guess no one wants to talk anymore huh? m  \n",
              "2  i was talking wiht a friend of mine about this...  \n",
              "3  currently we own a vehicle from lexus both of ...  \n",
              "4  what \"toys\" does the ls400 offer that are not ...  "
            ]
          },
          "metadata": {
            "tags": []
          },
          "execution_count": 18
        }
      ]
    },
    {
      "cell_type": "code",
      "metadata": {
        "id": "wneCzDXSGIOO"
      },
      "source": [
        "word_frequency_aspiration = raw_aspiration_data.with_aspiration_and_brand_mentioned_once.str.split(expand=True).stack().value_counts()\n",
        "word_frequency_aspiration.to_csv(\"hw_1_word_frequency_with_aspiration.csv\")"
      ],
      "execution_count": null,
      "outputs": []
    },
    {
      "cell_type": "markdown",
      "metadata": {
        "id": "hGQmaXWEGIOO"
      },
      "source": [
        "We then created a Frequency list including \"aspiration\". Stopwords were not removed here, as the aspiration bigram synonyms themselves included terms such as \"to\"."
      ]
    },
    {
      "cell_type": "code",
      "metadata": {
        "id": "dFFcgC4qGIOO",
        "outputId": "003d4ff6-6a5a-4012-cc45-a7a17ac78240"
      },
      "source": [
        "frequency_list_aspiration = pd.read_csv('hw_1_word_frequency_with_aspiration.csv')\n",
        "frequency_list_aspiration[:5]"
      ],
      "execution_count": null,
      "outputs": [
        {
          "output_type": "execute_result",
          "data": {
            "text/html": [
              "<div>\n",
              "<style scoped>\n",
              "    .dataframe tbody tr th:only-of-type {\n",
              "        vertical-align: middle;\n",
              "    }\n",
              "\n",
              "    .dataframe tbody tr th {\n",
              "        vertical-align: top;\n",
              "    }\n",
              "\n",
              "    .dataframe thead th {\n",
              "        text-align: right;\n",
              "    }\n",
              "</style>\n",
              "<table border=\"1\" class=\"dataframe\">\n",
              "  <thead>\n",
              "    <tr style=\"text-align: right;\">\n",
              "      <th></th>\n",
              "      <th>Unnamed: 0</th>\n",
              "      <th>0</th>\n",
              "    </tr>\n",
              "  </thead>\n",
              "  <tbody>\n",
              "    <tr>\n",
              "      <th>0</th>\n",
              "      <td>the</td>\n",
              "      <td>26202</td>\n",
              "    </tr>\n",
              "    <tr>\n",
              "      <th>1</th>\n",
              "      <td>a</td>\n",
              "      <td>10721</td>\n",
              "    </tr>\n",
              "    <tr>\n",
              "      <th>2</th>\n",
              "      <td>and</td>\n",
              "      <td>10015</td>\n",
              "    </tr>\n",
              "    <tr>\n",
              "      <th>3</th>\n",
              "      <td>to</td>\n",
              "      <td>9439</td>\n",
              "    </tr>\n",
              "    <tr>\n",
              "      <th>4</th>\n",
              "      <td>i</td>\n",
              "      <td>9233</td>\n",
              "    </tr>\n",
              "  </tbody>\n",
              "</table>\n",
              "</div>"
            ],
            "text/plain": [
              "  Unnamed: 0      0\n",
              "0        the  26202\n",
              "1          a  10721\n",
              "2        and  10015\n",
              "3         to   9439\n",
              "4          i   9233"
            ]
          },
          "metadata": {
            "tags": []
          },
          "execution_count": 20
        }
      ]
    },
    {
      "cell_type": "code",
      "metadata": {
        "id": "MOLNn2ryGIOP",
        "outputId": "8d0d47d3-e05a-46ca-9175-50e6e514a9e0"
      },
      "source": [
        "frequency_list_aspiration = pd.read_csv('hw_1_word_frequency_with_aspiration.csv')\n",
        "frequency_list_aspiration = frequency_list_aspiration.rename(columns={'Unnamed: 0':'Word','0':'Count'})\n",
        "frequency_list_aspiration\n",
        "frequency_list_aspiration.set_index('Word')\n",
        "\n",
        "#Get Aspiration X Brand Association List\n",
        "stackedFrequencyListAspiration = frequency_list_aspiration.stack()\n",
        "brandXAspirationWordList = pd.read_csv('brand x aspiration list.csv')\n",
        "brandXAspirationWordList = list(brandXAspirationWordList['combo'])\n",
        "splitbrandXAspirationWordList = [brandXAspirationWordList[i:i+2] for i in range(0, len(brandXAspirationWordList), 2)]\n",
        "lift(splitbrandXAspirationWordList,raw_aspiration_data['with_aspiration_and_brand_mentioned_once'],stackedFrequencyListAspiration)"
      ],
      "execution_count": null,
      "outputs": [
        {
          "output_type": "execute_result",
          "data": {
            "text/plain": [
              "[['mercedes', 'aspiration'],\n",
              " 2.1462592367549345,\n",
              " ['lexus', 'aspiration'],\n",
              " 0.9955985434328237,\n",
              " ['bmw', 'aspiration'],\n",
              " 2.366345311130587,\n",
              " ['audi', 'aspiration'],\n",
              " 2.3006134969325154,\n",
              " ['lincoln', 'aspiration'],\n",
              " 1.2269938650306749]"
            ]
          },
          "metadata": {
            "tags": []
          },
          "execution_count": 21
        }
      ]
    },
    {
      "cell_type": "markdown",
      "metadata": {
        "id": "vOaZjO2KGIOP"
      },
      "source": [
        "We then plotted the lift associations between each brand and \"aspiration\" to gauge which one had the highest co-mention frequency of its brand name and aspirational bigrams."
      ]
    },
    {
      "cell_type": "code",
      "metadata": {
        "id": "WFfXVm_XGIOP",
        "outputId": "1fb396c7-60d6-4274-8517-0733d2d1bbc4"
      },
      "source": [
        "aspirationXBrand = pd.read_csv('aspiration x brand.csv')\n",
        "aspirationXBrand = aspirationXBrand.dropna(how='all', axis='columns')\n",
        "aspirationXBrandDF = aspirationXBrand[:1]\n",
        "aspirationXBrandDF.set_index('Unnamed: 0', drop = True, inplace= True)\n",
        "aspirationXBrandDF.index.rename('Aspiration', inplace = True)\n",
        "fig,ax = plt.subplots(figsize = (9,6))\n",
        "sns.heatmap(aspirationXBrandDF,annot = True, fmt ='.4g')"
      ],
      "execution_count": null,
      "outputs": [
        {
          "output_type": "execute_result",
          "data": {
            "text/plain": [
              "<AxesSubplot:ylabel='Aspiration'>"
            ]
          },
          "metadata": {
            "tags": []
          },
          "execution_count": 22
        },
        {
          "output_type": "display_data",
          "data": {
            "image/png": "[encoded data removed]",
            "text/plain": [
              "<Figure size 648x432 with 2 Axes>"
            ]
          },
          "metadata": {
            "tags": [],
            "needs_background": "light"
          }
        }
      ]
    },
    {
      "cell_type": "markdown",
      "metadata": {
        "id": "rWxspJM1GIOP"
      },
      "source": [
        "As the above plot displays, Audi has the highest lift value with the term, and therefore the highest aspirational value. This means that within forums of consumers with interest in entry-level luxury sedans, posts that inclue Audi's name most frequently include aspirational phrases that may be positively correlated to consumer interest or increasing demand, relative to the other four most popular brands. It leads by a substantial margin, with BMW coming in second. While Lincoln was relatively high in comparison to other brands in multiple attributes, they are lowest in aspirational value.   \n",
        "   \n",
        "Considering that within the list of the top five most popular brands Audi conceptually perceived to be most similar to BMW, having a high aspiration value could indicate that Audi has the potential to gain some of BMW's currently held market share. If consumers have indicated excitement towards the potential to purchase Audi products in the future, BMW should be concerned with differentiating themselves from Audi to avoid this potential increase in competition."
      ]
    },
    {
      "cell_type": "markdown",
      "metadata": {
        "id": "O0xNDO7rGIOQ"
      },
      "source": [
        "## Audi Consideration"
      ]
    },
    {
      "cell_type": "code",
      "metadata": {
        "id": "0PMxmabXGIOQ",
        "outputId": "69ed6cea-bb6c-47cc-8d10-47acdd1c3496"
      },
      "source": [
        "word_frequency.loc['audi']/len(raw_data)\n",
        "print('No. of messages that contain Audi/Total no. of messages is {:.4f}'.format(word_frequency.loc['audi']/len(raw_data)))"
      ],
      "execution_count": null,
      "outputs": [
        {
          "output_type": "stream",
          "text": [
            "No. of messages that contain Audi/Total no. of messages is 0.1420\n"
          ],
          "name": "stdout"
        }
      ]
    },
    {
      "cell_type": "markdown",
      "metadata": {
        "id": "CiPxSacLGIOR"
      },
      "source": [
        "Considering the relatively low proportion of messages within the forum that include the word \"audi\", any concerns regarding bias towards Audi from the forum's subheading are mitigated."
      ]
    }
  ]
}