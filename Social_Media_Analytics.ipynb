{
  "nbformat": 4,
  "nbformat_minor": 0,
  "metadata": {
    "colab": {
      "name": "main_2.ipynb",
      "provenance": [],
      "collapsed_sections": [],
      "toc_visible": true
    },
    "kernelspec": {
      "name": "python3",
      "display_name": "Python 3"
    }
  },
  "cells": [
    {
      "cell_type": "markdown",
      "metadata": {
        "id": "xCEhxJVQ59u3"
      },
      "source": [
        "# Assignment 1\r\n",
        "\r\n",
        "Members:\r\n",
        "*  Immanuel Ponminissery - ijp284 - 12PM section\r\n",
        "*  Marshall Wurangian - mw38759 - 1:30 PM section \r\n",
        "*  Yuhan Yin - yy8996 - 1:30 PM section\r\n",
        "*  Patricia Schutter - pls949 - 1:30 PM section\r\n",
        "* Troy Walton - tdw2395 - 12PM section\r\n",
        "* Xuxian Chen - xc3984 - 12PM section"
      ]
    },
    {
      "cell_type": "code",
      "metadata": {
        "colab": {
          "base_uri": "https://localhost:8080/"
        },
        "id": "uXCuMgyq51er",
        "outputId": "1a529194-4afd-4a1c-9db1-8c77416a278d"
      },
      "source": [
        "#Importing required libraries\r\n",
        "import numpy as np\r\n",
        "import pandas as pd\r\n",
        "import matplotlib.pyplot as plt\r\n",
        "from sklearn.model_selection import train_test_split\r\n",
        "\r\n",
        "%matplotlib inline\r\n",
        "%pylab inline\r\n",
        "import seaborn as sns\r\n",
        "\r\n",
        "import os\r\n",
        "from google.colab import drive \r\n",
        "import numpy as np\r\n",
        "drive.mount('/content/drive', force_remount=True)\r\n",
        "os.chdir('/content/drive/Shared drives/UTMSBA SMA/HW1') #/HW1_trial_2"
      ],
      "execution_count": null,
      "outputs": [
        {
          "output_type": "stream",
          "text": [
            "Populating the interactive namespace from numpy and matplotlib\n",
            "Mounted at /content/drive\n"
          ],
          "name": "stdout"
        }
      ]
    },
    {
      "cell_type": "markdown",
      "metadata": {
        "id": "otJn2AoYN5hG"
      },
      "source": [
        "# Part 1"
      ]
    },
    {
      "cell_type": "markdown",
      "metadata": {
        "id": "TOgUz3Kq2p3G"
      },
      "source": [
        "## Inspecting Variables"
      ]
    },
    {
      "cell_type": "code",
      "metadata": {
        "id": "IGYbRqFJJ-a0",
        "colab": {
          "base_uri": "https://localhost:8080/",
          "height": 363
        },
        "outputId": "ac48591f-11bb-4d81-ec0d-ca8feceffbd0"
      },
      "source": [
        "# Read the dataset from Kaggle\n",
        "train_df = pd.read_csv('part 1 data/train.csv')\n",
        "train_df[:10]"
      ],
      "execution_count": null,
      "outputs": [
        {
          "output_type": "execute_result",
          "data": {
            "text/html": [
              "<div>\n",
              "<style scoped>\n",
              "    .dataframe tbody tr th:only-of-type {\n",
              "        vertical-align: middle;\n",
              "    }\n",
              "\n",
              "    .dataframe tbody tr th {\n",
              "        vertical-align: top;\n",
              "    }\n",
              "\n",
              "    .dataframe thead th {\n",
              "        text-align: right;\n",
              "    }\n",
              "</style>\n",
              "<table border=\"1\" class=\"dataframe\">\n",
              "  <thead>\n",
              "    <tr style=\"text-align: right;\">\n",
              "      <th></th>\n",
              "      <th>Choice</th>\n",
              "      <th>A_follower_count</th>\n",
              "      <th>A_following_count</th>\n",
              "      <th>A_listed_count</th>\n",
              "      <th>A_mentions_received</th>\n",
              "      <th>A_retweets_received</th>\n",
              "      <th>A_mentions_sent</th>\n",
              "      <th>A_retweets_sent</th>\n",
              "      <th>A_posts</th>\n",
              "      <th>A_network_feature_1</th>\n",
              "      <th>A_network_feature_2</th>\n",
              "      <th>A_network_feature_3</th>\n",
              "      <th>B_follower_count</th>\n",
              "      <th>B_following_count</th>\n",
              "      <th>B_listed_count</th>\n",
              "      <th>B_mentions_received</th>\n",
              "      <th>B_retweets_received</th>\n",
              "      <th>B_mentions_sent</th>\n",
              "      <th>B_retweets_sent</th>\n",
              "      <th>B_posts</th>\n",
              "      <th>B_network_feature_1</th>\n",
              "      <th>B_network_feature_2</th>\n",
              "      <th>B_network_feature_3</th>\n",
              "    </tr>\n",
              "  </thead>\n",
              "  <tbody>\n",
              "    <tr>\n",
              "      <th>0</th>\n",
              "      <td>0</td>\n",
              "      <td>228</td>\n",
              "      <td>302</td>\n",
              "      <td>3</td>\n",
              "      <td>0.583979</td>\n",
              "      <td>0.100503</td>\n",
              "      <td>0.100503</td>\n",
              "      <td>0.100503</td>\n",
              "      <td>0.362150</td>\n",
              "      <td>2</td>\n",
              "      <td>166.500000</td>\n",
              "      <td>11355.000000</td>\n",
              "      <td>34463</td>\n",
              "      <td>29808</td>\n",
              "      <td>1689</td>\n",
              "      <td>15.430498</td>\n",
              "      <td>3.984029</td>\n",
              "      <td>8.204331</td>\n",
              "      <td>0.332423</td>\n",
              "      <td>6.988815</td>\n",
              "      <td>66</td>\n",
              "      <td>75.530303</td>\n",
              "      <td>1916.893939</td>\n",
              "    </tr>\n",
              "    <tr>\n",
              "      <th>1</th>\n",
              "      <td>0</td>\n",
              "      <td>21591</td>\n",
              "      <td>1179</td>\n",
              "      <td>228</td>\n",
              "      <td>90.456506</td>\n",
              "      <td>25.798292</td>\n",
              "      <td>5.709329</td>\n",
              "      <td>1.111159</td>\n",
              "      <td>5.176620</td>\n",
              "      <td>369</td>\n",
              "      <td>18.442971</td>\n",
              "      <td>1330.366048</td>\n",
              "      <td>39262</td>\n",
              "      <td>848</td>\n",
              "      <td>1610</td>\n",
              "      <td>40.495021</td>\n",
              "      <td>8.943607</td>\n",
              "      <td>3.227677</td>\n",
              "      <td>0.564343</td>\n",
              "      <td>1.070321</td>\n",
              "      <td>163</td>\n",
              "      <td>132.030675</td>\n",
              "      <td>2931.515337</td>\n",
              "    </tr>\n",
              "    <tr>\n",
              "      <th>2</th>\n",
              "      <td>0</td>\n",
              "      <td>7310</td>\n",
              "      <td>1215</td>\n",
              "      <td>101</td>\n",
              "      <td>25.503644</td>\n",
              "      <td>9.556347</td>\n",
              "      <td>5.361519</td>\n",
              "      <td>0.591206</td>\n",
              "      <td>3.589718</td>\n",
              "      <td>95</td>\n",
              "      <td>68.927835</td>\n",
              "      <td>5999.896907</td>\n",
              "      <td>3622</td>\n",
              "      <td>482</td>\n",
              "      <td>206</td>\n",
              "      <td>0.734696</td>\n",
              "      <td>0.354379</td>\n",
              "      <td>0.603202</td>\n",
              "      <td>0.100503</td>\n",
              "      <td>0.603202</td>\n",
              "      <td>3</td>\n",
              "      <td>10.333333</td>\n",
              "      <td>277.333333</td>\n",
              "    </tr>\n",
              "    <tr>\n",
              "      <th>3</th>\n",
              "      <td>0</td>\n",
              "      <td>20</td>\n",
              "      <td>7</td>\n",
              "      <td>2</td>\n",
              "      <td>7.690824</td>\n",
              "      <td>0.277306</td>\n",
              "      <td>1.331508</td>\n",
              "      <td>0.100503</td>\n",
              "      <td>2.830627</td>\n",
              "      <td>6</td>\n",
              "      <td>2.000000</td>\n",
              "      <td>96.166667</td>\n",
              "      <td>19562</td>\n",
              "      <td>17637</td>\n",
              "      <td>278</td>\n",
              "      <td>572.874856</td>\n",
              "      <td>390.293681</td>\n",
              "      <td>27.552040</td>\n",
              "      <td>7.167557</td>\n",
              "      <td>32.101906</td>\n",
              "      <td>1762</td>\n",
              "      <td>23.469296</td>\n",
              "      <td>1395.845634</td>\n",
              "    </tr>\n",
              "    <tr>\n",
              "      <th>4</th>\n",
              "      <td>1</td>\n",
              "      <td>45589</td>\n",
              "      <td>862</td>\n",
              "      <td>2641</td>\n",
              "      <td>148.854279</td>\n",
              "      <td>36.998884</td>\n",
              "      <td>27.881768</td>\n",
              "      <td>3.333492</td>\n",
              "      <td>23.861282</td>\n",
              "      <td>551</td>\n",
              "      <td>127.404293</td>\n",
              "      <td>2833.847943</td>\n",
              "      <td>7554</td>\n",
              "      <td>1711</td>\n",
              "      <td>181</td>\n",
              "      <td>21.601866</td>\n",
              "      <td>3.581661</td>\n",
              "      <td>6.764657</td>\n",
              "      <td>1.119727</td>\n",
              "      <td>4.563246</td>\n",
              "      <td>85</td>\n",
              "      <td>48.500000</td>\n",
              "      <td>1993.627907</td>\n",
              "    </tr>\n",
              "    <tr>\n",
              "      <th>5</th>\n",
              "      <td>0</td>\n",
              "      <td>285735</td>\n",
              "      <td>276251</td>\n",
              "      <td>3417</td>\n",
              "      <td>19.327582</td>\n",
              "      <td>7.292016</td>\n",
              "      <td>0.100503</td>\n",
              "      <td>0.100503</td>\n",
              "      <td>0.100503</td>\n",
              "      <td>60</td>\n",
              "      <td>44.806452</td>\n",
              "      <td>4144.258065</td>\n",
              "      <td>11147</td>\n",
              "      <td>1500</td>\n",
              "      <td>474</td>\n",
              "      <td>40.592512</td>\n",
              "      <td>5.923009</td>\n",
              "      <td>19.648064</td>\n",
              "      <td>1.861765</td>\n",
              "      <td>12.261029</td>\n",
              "      <td>128</td>\n",
              "      <td>107.431818</td>\n",
              "      <td>2481.136364</td>\n",
              "    </tr>\n",
              "    <tr>\n",
              "      <th>6</th>\n",
              "      <td>0</td>\n",
              "      <td>285735</td>\n",
              "      <td>276251</td>\n",
              "      <td>3417</td>\n",
              "      <td>19.327582</td>\n",
              "      <td>7.292016</td>\n",
              "      <td>0.100503</td>\n",
              "      <td>0.100503</td>\n",
              "      <td>0.100503</td>\n",
              "      <td>60</td>\n",
              "      <td>44.806452</td>\n",
              "      <td>4144.258065</td>\n",
              "      <td>185616</td>\n",
              "      <td>1001</td>\n",
              "      <td>15117</td>\n",
              "      <td>266.013874</td>\n",
              "      <td>54.345230</td>\n",
              "      <td>13.111904</td>\n",
              "      <td>0.334766</td>\n",
              "      <td>13.665173</td>\n",
              "      <td>928</td>\n",
              "      <td>172.986229</td>\n",
              "      <td>5321.646186</td>\n",
              "    </tr>\n",
              "    <tr>\n",
              "      <th>7</th>\n",
              "      <td>1</td>\n",
              "      <td>9512</td>\n",
              "      <td>12</td>\n",
              "      <td>213</td>\n",
              "      <td>52.167068</td>\n",
              "      <td>23.182288</td>\n",
              "      <td>0.362150</td>\n",
              "      <td>0.100503</td>\n",
              "      <td>6.806045</td>\n",
              "      <td>195</td>\n",
              "      <td>11.678571</td>\n",
              "      <td>564.040816</td>\n",
              "      <td>8120</td>\n",
              "      <td>710</td>\n",
              "      <td>959</td>\n",
              "      <td>7.368643</td>\n",
              "      <td>2.088375</td>\n",
              "      <td>1.598798</td>\n",
              "      <td>0.595812</td>\n",
              "      <td>1.332849</td>\n",
              "      <td>29</td>\n",
              "      <td>205.533333</td>\n",
              "      <td>4302.466667</td>\n",
              "    </tr>\n",
              "    <tr>\n",
              "      <th>8</th>\n",
              "      <td>1</td>\n",
              "      <td>2273871</td>\n",
              "      <td>4524</td>\n",
              "      <td>11946</td>\n",
              "      <td>6782.405338</td>\n",
              "      <td>2944.524245</td>\n",
              "      <td>12.955723</td>\n",
              "      <td>2.791861</td>\n",
              "      <td>66.206208</td>\n",
              "      <td>21678</td>\n",
              "      <td>6.859364</td>\n",
              "      <td>1113.202016</td>\n",
              "      <td>298668</td>\n",
              "      <td>551</td>\n",
              "      <td>6209</td>\n",
              "      <td>493.256379</td>\n",
              "      <td>206.660552</td>\n",
              "      <td>4.115212</td>\n",
              "      <td>0.854539</td>\n",
              "      <td>3.075463</td>\n",
              "      <td>2021</td>\n",
              "      <td>75.970098</td>\n",
              "      <td>3865.446569</td>\n",
              "    </tr>\n",
              "    <tr>\n",
              "      <th>9</th>\n",
              "      <td>0</td>\n",
              "      <td>182598</td>\n",
              "      <td>1402</td>\n",
              "      <td>3831</td>\n",
              "      <td>145.844910</td>\n",
              "      <td>74.002958</td>\n",
              "      <td>23.549189</td>\n",
              "      <td>0.100503</td>\n",
              "      <td>15.953243</td>\n",
              "      <td>567</td>\n",
              "      <td>276.496516</td>\n",
              "      <td>8038.066202</td>\n",
              "      <td>117913</td>\n",
              "      <td>1299</td>\n",
              "      <td>9950</td>\n",
              "      <td>189.755230</td>\n",
              "      <td>67.310223</td>\n",
              "      <td>11.294831</td>\n",
              "      <td>2.567269</td>\n",
              "      <td>10.933766</td>\n",
              "      <td>791</td>\n",
              "      <td>185.542033</td>\n",
              "      <td>5535.939774</td>\n",
              "    </tr>\n",
              "  </tbody>\n",
              "</table>\n",
              "</div>"
            ],
            "text/plain": [
              "   Choice  A_follower_count  ...  B_network_feature_2  B_network_feature_3\n",
              "0       0               228  ...            75.530303          1916.893939\n",
              "1       0             21591  ...           132.030675          2931.515337\n",
              "2       0              7310  ...            10.333333           277.333333\n",
              "3       0                20  ...            23.469296          1395.845634\n",
              "4       1             45589  ...            48.500000          1993.627907\n",
              "5       0            285735  ...           107.431818          2481.136364\n",
              "6       0            285735  ...           172.986229          5321.646186\n",
              "7       1              9512  ...           205.533333          4302.466667\n",
              "8       1           2273871  ...            75.970098          3865.446569\n",
              "9       0            182598  ...           185.542033          5535.939774\n",
              "\n",
              "[10 rows x 23 columns]"
            ]
          },
          "metadata": {
            "tags": []
          },
          "execution_count": 47
        }
      ]
    },
    {
      "cell_type": "code",
      "metadata": {
        "id": "xagkBgUqJ-dG",
        "colab": {
          "base_uri": "https://localhost:8080/"
        },
        "outputId": "bddc42a5-7e6e-40e5-d943-63838c0bd5d8"
      },
      "source": [
        "train_df.columns"
      ],
      "execution_count": null,
      "outputs": [
        {
          "output_type": "execute_result",
          "data": {
            "text/plain": [
              "Index(['Choice', 'A_follower_count', 'A_following_count', 'A_listed_count',\n",
              "       'A_mentions_received', 'A_retweets_received', 'A_mentions_sent',\n",
              "       'A_retweets_sent', 'A_posts', 'A_network_feature_1',\n",
              "       'A_network_feature_2', 'A_network_feature_3', 'B_follower_count',\n",
              "       'B_following_count', 'B_listed_count', 'B_mentions_received',\n",
              "       'B_retweets_received', 'B_mentions_sent', 'B_retweets_sent', 'B_posts',\n",
              "       'B_network_feature_1', 'B_network_feature_2', 'B_network_feature_3'],\n",
              "      dtype='object')"
            ]
          },
          "metadata": {
            "tags": []
          },
          "execution_count": 48
        }
      ]
    },
    {
      "cell_type": "code",
      "metadata": {
        "id": "mQiMm-IEJ-ho",
        "colab": {
          "base_uri": "https://localhost:8080/"
        },
        "outputId": "8dedb64e-e473-41ec-9c21-6f84e18b30df"
      },
      "source": [
        "# Dataframe Dimensions\n",
        "train_df.shape"
      ],
      "execution_count": null,
      "outputs": [
        {
          "output_type": "execute_result",
          "data": {
            "text/plain": [
              "(5500, 23)"
            ]
          },
          "metadata": {
            "tags": []
          },
          "execution_count": 49
        }
      ]
    },
    {
      "cell_type": "markdown",
      "metadata": {
        "id": "-G9WdUDuOXao"
      },
      "source": [
        "Finding correlation coefficients between variables"
      ]
    },
    {
      "cell_type": "code",
      "metadata": {
        "id": "pDgwRMoPJ-kw",
        "colab": {
          "base_uri": "https://localhost:8080/",
          "height": 342
        },
        "outputId": "349f38ad-488f-4da3-9948-fc5d6ebca2e4"
      },
      "source": [
        "# Finding correlation coefficients between variables for person A\n",
        "a = train_df.iloc[:,1:12]\n",
        "a_corr = a.corr()\n",
        "a_heatmap = sns.heatmap(\n",
        "    a_corr, \n",
        "    vmin=-1, vmax=1, center=0,\n",
        "    cmap=sns.diverging_palette(250, 15, n=25),\n",
        "    square=True,\n",
        "    linewidths=.5\n",
        ")\n",
        "a_heatmap.set_xticklabels(\n",
        "    a_heatmap.get_xticklabels(),\n",
        "    rotation=45,\n",
        "    horizontalalignment='right'\n",
        ");"
      ],
      "execution_count": null,
      "outputs": [
        {
          "output_type": "display_data",
          "data": {
            "image/png": "[encoded data removed]",
            "text/plain": [
              "<Figure size 432x288 with 2 Axes>"
            ]
          },
          "metadata": {
            "tags": [],
            "needs_background": "light"
          }
        }
      ]
    },
    {
      "cell_type": "markdown",
      "metadata": {
        "id": "jMpqpfH8OdFW"
      },
      "source": [
        "Test if correlation coefficients of corresponding columns in B are the same with A"
      ]
    },
    {
      "cell_type": "code",
      "metadata": {
        "id": "1Kt2uDiYJ-nU",
        "colab": {
          "base_uri": "https://localhost:8080/",
          "height": 342
        },
        "outputId": "76decfaa-032a-47bd-80a6-ce601b6b8cc2"
      },
      "source": [
        "b = train_df.iloc[:,12:23]\n",
        "\n",
        "b_corr = b.corr()\n",
        "b_heatmap = sns.heatmap(\n",
        "    b_corr, \n",
        "    vmin=-1, vmax=1, center=0,\n",
        "    cmap=sns.diverging_palette(250, 15, n=25),\n",
        "    square=True,\n",
        "    linewidths=.5\n",
        ")\n",
        "b_heatmap.set_xticklabels(\n",
        "    b_heatmap.get_xticklabels(),\n",
        "    rotation=45,\n",
        "    horizontalalignment='right'\n",
        ");"
      ],
      "execution_count": null,
      "outputs": [
        {
          "output_type": "display_data",
          "data": {
            "image/png": "[encoded data removed]",
            "text/plain": [
              "<Figure size 432x288 with 2 Axes>"
            ]
          },
          "metadata": {
            "tags": [],
            "needs_background": "light"
          }
        }
      ]
    },
    {
      "cell_type": "code",
      "metadata": {
        "colab": {
          "base_uri": "https://localhost:8080/",
          "height": 373
        },
        "id": "iRWy2FAFKTKg",
        "outputId": "45122d97-f033-440c-dda0-feba8e2858b8"
      },
      "source": [
        "# Correlation coefficient values between variables for person A\n",
        "a_corr"
      ],
      "execution_count": null,
      "outputs": [
        {
          "output_type": "execute_result",
          "data": {
            "text/html": [
              "<div>\n",
              "<style scoped>\n",
              "    .dataframe tbody tr th:only-of-type {\n",
              "        vertical-align: middle;\n",
              "    }\n",
              "\n",
              "    .dataframe tbody tr th {\n",
              "        vertical-align: top;\n",
              "    }\n",
              "\n",
              "    .dataframe thead th {\n",
              "        text-align: right;\n",
              "    }\n",
              "</style>\n",
              "<table border=\"1\" class=\"dataframe\">\n",
              "  <thead>\n",
              "    <tr style=\"text-align: right;\">\n",
              "      <th></th>\n",
              "      <th>A_follower_count</th>\n",
              "      <th>A_following_count</th>\n",
              "      <th>A_listed_count</th>\n",
              "      <th>A_mentions_received</th>\n",
              "      <th>A_retweets_received</th>\n",
              "      <th>A_mentions_sent</th>\n",
              "      <th>A_retweets_sent</th>\n",
              "      <th>A_posts</th>\n",
              "      <th>A_network_feature_1</th>\n",
              "      <th>A_network_feature_2</th>\n",
              "      <th>A_network_feature_3</th>\n",
              "    </tr>\n",
              "  </thead>\n",
              "  <tbody>\n",
              "    <tr>\n",
              "      <th>A_follower_count</th>\n",
              "      <td>1.000000</td>\n",
              "      <td>0.115834</td>\n",
              "      <td>0.815952</td>\n",
              "      <td>0.511609</td>\n",
              "      <td>0.521888</td>\n",
              "      <td>0.018456</td>\n",
              "      <td>0.094799</td>\n",
              "      <td>0.042993</td>\n",
              "      <td>0.622146</td>\n",
              "      <td>-0.153272</td>\n",
              "      <td>-0.036082</td>\n",
              "    </tr>\n",
              "    <tr>\n",
              "      <th>A_following_count</th>\n",
              "      <td>0.115834</td>\n",
              "      <td>1.000000</td>\n",
              "      <td>0.100696</td>\n",
              "      <td>0.058140</td>\n",
              "      <td>0.051819</td>\n",
              "      <td>0.111342</td>\n",
              "      <td>-0.083883</td>\n",
              "      <td>0.138373</td>\n",
              "      <td>0.047236</td>\n",
              "      <td>0.043642</td>\n",
              "      <td>0.097762</td>\n",
              "    </tr>\n",
              "    <tr>\n",
              "      <th>A_listed_count</th>\n",
              "      <td>0.815952</td>\n",
              "      <td>0.100696</td>\n",
              "      <td>1.000000</td>\n",
              "      <td>0.734589</td>\n",
              "      <td>0.747752</td>\n",
              "      <td>0.061729</td>\n",
              "      <td>0.155630</td>\n",
              "      <td>0.053975</td>\n",
              "      <td>0.705268</td>\n",
              "      <td>-0.080056</td>\n",
              "      <td>-0.038574</td>\n",
              "    </tr>\n",
              "    <tr>\n",
              "      <th>A_mentions_received</th>\n",
              "      <td>0.511609</td>\n",
              "      <td>0.058140</td>\n",
              "      <td>0.734589</td>\n",
              "      <td>1.000000</td>\n",
              "      <td>0.990021</td>\n",
              "      <td>0.023336</td>\n",
              "      <td>0.050100</td>\n",
              "      <td>0.026512</td>\n",
              "      <td>0.922340</td>\n",
              "      <td>-0.062407</td>\n",
              "      <td>-0.038079</td>\n",
              "    </tr>\n",
              "    <tr>\n",
              "      <th>A_retweets_received</th>\n",
              "      <td>0.521888</td>\n",
              "      <td>0.051819</td>\n",
              "      <td>0.747752</td>\n",
              "      <td>0.990021</td>\n",
              "      <td>1.000000</td>\n",
              "      <td>0.019130</td>\n",
              "      <td>0.043846</td>\n",
              "      <td>0.033068</td>\n",
              "      <td>0.928273</td>\n",
              "      <td>-0.065266</td>\n",
              "      <td>-0.040301</td>\n",
              "    </tr>\n",
              "    <tr>\n",
              "      <th>A_mentions_sent</th>\n",
              "      <td>0.018456</td>\n",
              "      <td>0.111342</td>\n",
              "      <td>0.061729</td>\n",
              "      <td>0.023336</td>\n",
              "      <td>0.019130</td>\n",
              "      <td>1.000000</td>\n",
              "      <td>0.582630</td>\n",
              "      <td>0.607040</td>\n",
              "      <td>0.032608</td>\n",
              "      <td>0.064242</td>\n",
              "      <td>0.035437</td>\n",
              "    </tr>\n",
              "    <tr>\n",
              "      <th>A_retweets_sent</th>\n",
              "      <td>0.094799</td>\n",
              "      <td>-0.083883</td>\n",
              "      <td>0.155630</td>\n",
              "      <td>0.050100</td>\n",
              "      <td>0.043846</td>\n",
              "      <td>0.582630</td>\n",
              "      <td>1.000000</td>\n",
              "      <td>0.379318</td>\n",
              "      <td>0.081908</td>\n",
              "      <td>-0.048761</td>\n",
              "      <td>-0.042127</td>\n",
              "    </tr>\n",
              "    <tr>\n",
              "      <th>A_posts</th>\n",
              "      <td>0.042993</td>\n",
              "      <td>0.138373</td>\n",
              "      <td>0.053975</td>\n",
              "      <td>0.026512</td>\n",
              "      <td>0.033068</td>\n",
              "      <td>0.607040</td>\n",
              "      <td>0.379318</td>\n",
              "      <td>1.000000</td>\n",
              "      <td>0.074683</td>\n",
              "      <td>-0.066125</td>\n",
              "      <td>-0.018347</td>\n",
              "    </tr>\n",
              "    <tr>\n",
              "      <th>A_network_feature_1</th>\n",
              "      <td>0.622146</td>\n",
              "      <td>0.047236</td>\n",
              "      <td>0.705268</td>\n",
              "      <td>0.922340</td>\n",
              "      <td>0.928273</td>\n",
              "      <td>0.032608</td>\n",
              "      <td>0.081908</td>\n",
              "      <td>0.074683</td>\n",
              "      <td>1.000000</td>\n",
              "      <td>-0.118138</td>\n",
              "      <td>-0.071711</td>\n",
              "    </tr>\n",
              "    <tr>\n",
              "      <th>A_network_feature_2</th>\n",
              "      <td>-0.153272</td>\n",
              "      <td>0.043642</td>\n",
              "      <td>-0.080056</td>\n",
              "      <td>-0.062407</td>\n",
              "      <td>-0.065266</td>\n",
              "      <td>0.064242</td>\n",
              "      <td>-0.048761</td>\n",
              "      <td>-0.066125</td>\n",
              "      <td>-0.118138</td>\n",
              "      <td>1.000000</td>\n",
              "      <td>0.520617</td>\n",
              "    </tr>\n",
              "    <tr>\n",
              "      <th>A_network_feature_3</th>\n",
              "      <td>-0.036082</td>\n",
              "      <td>0.097762</td>\n",
              "      <td>-0.038574</td>\n",
              "      <td>-0.038079</td>\n",
              "      <td>-0.040301</td>\n",
              "      <td>0.035437</td>\n",
              "      <td>-0.042127</td>\n",
              "      <td>-0.018347</td>\n",
              "      <td>-0.071711</td>\n",
              "      <td>0.520617</td>\n",
              "      <td>1.000000</td>\n",
              "    </tr>\n",
              "  </tbody>\n",
              "</table>\n",
              "</div>"
            ],
            "text/plain": [
              "                     A_follower_count  ...  A_network_feature_3\n",
              "A_follower_count             1.000000  ...            -0.036082\n",
              "A_following_count            0.115834  ...             0.097762\n",
              "A_listed_count               0.815952  ...            -0.038574\n",
              "A_mentions_received          0.511609  ...            -0.038079\n",
              "A_retweets_received          0.521888  ...            -0.040301\n",
              "A_mentions_sent              0.018456  ...             0.035437\n",
              "A_retweets_sent              0.094799  ...            -0.042127\n",
              "A_posts                      0.042993  ...            -0.018347\n",
              "A_network_feature_1          0.622146  ...            -0.071711\n",
              "A_network_feature_2         -0.153272  ...             0.520617\n",
              "A_network_feature_3         -0.036082  ...             1.000000\n",
              "\n",
              "[11 rows x 11 columns]"
            ]
          },
          "metadata": {
            "tags": []
          },
          "execution_count": 52
        }
      ]
    },
    {
      "cell_type": "code",
      "metadata": {
        "colab": {
          "base_uri": "https://localhost:8080/",
          "height": 373
        },
        "id": "ztOy7YN6KWYq",
        "outputId": "269e9484-b69c-40ac-e0b9-cd821e9b4c3e"
      },
      "source": [
        "# Correlation coefficient values between variables for person B\n",
        "b_corr"
      ],
      "execution_count": null,
      "outputs": [
        {
          "output_type": "execute_result",
          "data": {
            "text/html": [
              "<div>\n",
              "<style scoped>\n",
              "    .dataframe tbody tr th:only-of-type {\n",
              "        vertical-align: middle;\n",
              "    }\n",
              "\n",
              "    .dataframe tbody tr th {\n",
              "        vertical-align: top;\n",
              "    }\n",
              "\n",
              "    .dataframe thead th {\n",
              "        text-align: right;\n",
              "    }\n",
              "</style>\n",
              "<table border=\"1\" class=\"dataframe\">\n",
              "  <thead>\n",
              "    <tr style=\"text-align: right;\">\n",
              "      <th></th>\n",
              "      <th>B_follower_count</th>\n",
              "      <th>B_following_count</th>\n",
              "      <th>B_listed_count</th>\n",
              "      <th>B_mentions_received</th>\n",
              "      <th>B_retweets_received</th>\n",
              "      <th>B_mentions_sent</th>\n",
              "      <th>B_retweets_sent</th>\n",
              "      <th>B_posts</th>\n",
              "      <th>B_network_feature_1</th>\n",
              "      <th>B_network_feature_2</th>\n",
              "      <th>B_network_feature_3</th>\n",
              "    </tr>\n",
              "  </thead>\n",
              "  <tbody>\n",
              "    <tr>\n",
              "      <th>B_follower_count</th>\n",
              "      <td>1.000000</td>\n",
              "      <td>0.206914</td>\n",
              "      <td>0.825349</td>\n",
              "      <td>0.442939</td>\n",
              "      <td>0.452106</td>\n",
              "      <td>0.016834</td>\n",
              "      <td>0.097666</td>\n",
              "      <td>0.041268</td>\n",
              "      <td>0.577502</td>\n",
              "      <td>-0.153253</td>\n",
              "      <td>-0.040810</td>\n",
              "    </tr>\n",
              "    <tr>\n",
              "      <th>B_following_count</th>\n",
              "      <td>0.206914</td>\n",
              "      <td>1.000000</td>\n",
              "      <td>0.185602</td>\n",
              "      <td>0.059341</td>\n",
              "      <td>0.051346</td>\n",
              "      <td>0.133472</td>\n",
              "      <td>-0.079185</td>\n",
              "      <td>0.156651</td>\n",
              "      <td>0.068276</td>\n",
              "      <td>0.037912</td>\n",
              "      <td>0.098967</td>\n",
              "    </tr>\n",
              "    <tr>\n",
              "      <th>B_listed_count</th>\n",
              "      <td>0.825349</td>\n",
              "      <td>0.185602</td>\n",
              "      <td>1.000000</td>\n",
              "      <td>0.646975</td>\n",
              "      <td>0.663580</td>\n",
              "      <td>0.061640</td>\n",
              "      <td>0.163548</td>\n",
              "      <td>0.062193</td>\n",
              "      <td>0.638013</td>\n",
              "      <td>-0.087283</td>\n",
              "      <td>-0.045283</td>\n",
              "    </tr>\n",
              "    <tr>\n",
              "      <th>B_mentions_received</th>\n",
              "      <td>0.442939</td>\n",
              "      <td>0.059341</td>\n",
              "      <td>0.646975</td>\n",
              "      <td>1.000000</td>\n",
              "      <td>0.986410</td>\n",
              "      <td>0.024797</td>\n",
              "      <td>0.048683</td>\n",
              "      <td>0.031186</td>\n",
              "      <td>0.907967</td>\n",
              "      <td>-0.067818</td>\n",
              "      <td>-0.043421</td>\n",
              "    </tr>\n",
              "    <tr>\n",
              "      <th>B_retweets_received</th>\n",
              "      <td>0.452106</td>\n",
              "      <td>0.051346</td>\n",
              "      <td>0.663580</td>\n",
              "      <td>0.986410</td>\n",
              "      <td>1.000000</td>\n",
              "      <td>0.021169</td>\n",
              "      <td>0.046010</td>\n",
              "      <td>0.040825</td>\n",
              "      <td>0.915914</td>\n",
              "      <td>-0.072015</td>\n",
              "      <td>-0.046866</td>\n",
              "    </tr>\n",
              "    <tr>\n",
              "      <th>B_mentions_sent</th>\n",
              "      <td>0.016834</td>\n",
              "      <td>0.133472</td>\n",
              "      <td>0.061640</td>\n",
              "      <td>0.024797</td>\n",
              "      <td>0.021169</td>\n",
              "      <td>1.000000</td>\n",
              "      <td>0.573365</td>\n",
              "      <td>0.595929</td>\n",
              "      <td>0.033309</td>\n",
              "      <td>0.034726</td>\n",
              "      <td>0.017665</td>\n",
              "    </tr>\n",
              "    <tr>\n",
              "      <th>B_retweets_sent</th>\n",
              "      <td>0.097666</td>\n",
              "      <td>-0.079185</td>\n",
              "      <td>0.163548</td>\n",
              "      <td>0.048683</td>\n",
              "      <td>0.046010</td>\n",
              "      <td>0.573365</td>\n",
              "      <td>1.000000</td>\n",
              "      <td>0.405168</td>\n",
              "      <td>0.085330</td>\n",
              "      <td>-0.062874</td>\n",
              "      <td>-0.048987</td>\n",
              "    </tr>\n",
              "    <tr>\n",
              "      <th>B_posts</th>\n",
              "      <td>0.041268</td>\n",
              "      <td>0.156651</td>\n",
              "      <td>0.062193</td>\n",
              "      <td>0.031186</td>\n",
              "      <td>0.040825</td>\n",
              "      <td>0.595929</td>\n",
              "      <td>0.405168</td>\n",
              "      <td>1.000000</td>\n",
              "      <td>0.082300</td>\n",
              "      <td>-0.084289</td>\n",
              "      <td>-0.041653</td>\n",
              "    </tr>\n",
              "    <tr>\n",
              "      <th>B_network_feature_1</th>\n",
              "      <td>0.577502</td>\n",
              "      <td>0.068276</td>\n",
              "      <td>0.638013</td>\n",
              "      <td>0.907967</td>\n",
              "      <td>0.915914</td>\n",
              "      <td>0.033309</td>\n",
              "      <td>0.085330</td>\n",
              "      <td>0.082300</td>\n",
              "      <td>1.000000</td>\n",
              "      <td>-0.124884</td>\n",
              "      <td>-0.079573</td>\n",
              "    </tr>\n",
              "    <tr>\n",
              "      <th>B_network_feature_2</th>\n",
              "      <td>-0.153253</td>\n",
              "      <td>0.037912</td>\n",
              "      <td>-0.087283</td>\n",
              "      <td>-0.067818</td>\n",
              "      <td>-0.072015</td>\n",
              "      <td>0.034726</td>\n",
              "      <td>-0.062874</td>\n",
              "      <td>-0.084289</td>\n",
              "      <td>-0.124884</td>\n",
              "      <td>1.000000</td>\n",
              "      <td>0.572694</td>\n",
              "    </tr>\n",
              "    <tr>\n",
              "      <th>B_network_feature_3</th>\n",
              "      <td>-0.040810</td>\n",
              "      <td>0.098967</td>\n",
              "      <td>-0.045283</td>\n",
              "      <td>-0.043421</td>\n",
              "      <td>-0.046866</td>\n",
              "      <td>0.017665</td>\n",
              "      <td>-0.048987</td>\n",
              "      <td>-0.041653</td>\n",
              "      <td>-0.079573</td>\n",
              "      <td>0.572694</td>\n",
              "      <td>1.000000</td>\n",
              "    </tr>\n",
              "  </tbody>\n",
              "</table>\n",
              "</div>"
            ],
            "text/plain": [
              "                     B_follower_count  ...  B_network_feature_3\n",
              "B_follower_count             1.000000  ...            -0.040810\n",
              "B_following_count            0.206914  ...             0.098967\n",
              "B_listed_count               0.825349  ...            -0.045283\n",
              "B_mentions_received          0.442939  ...            -0.043421\n",
              "B_retweets_received          0.452106  ...            -0.046866\n",
              "B_mentions_sent              0.016834  ...             0.017665\n",
              "B_retweets_sent              0.097666  ...            -0.048987\n",
              "B_posts                      0.041268  ...            -0.041653\n",
              "B_network_feature_1          0.577502  ...            -0.079573\n",
              "B_network_feature_2         -0.153253  ...             0.572694\n",
              "B_network_feature_3         -0.040810  ...             1.000000\n",
              "\n",
              "[11 rows x 11 columns]"
            ]
          },
          "metadata": {
            "tags": []
          },
          "execution_count": 53
        }
      ]
    },
    {
      "cell_type": "code",
      "metadata": {
        "id": "bfzwU9VOJ-pt",
        "colab": {
          "base_uri": "https://localhost:8080/"
        },
        "outputId": "f1a00f5f-4486-4b6b-8a2d-e926d568ff17"
      },
      "source": [
        "# Find correlation between variables in A where coefficients are between 0.6 and 0.999\n",
        "a_corr.where(np.triu((a_corr.values <= 0.9999) & (a_corr.values >= 0.6))).stack()"
      ],
      "execution_count": null,
      "outputs": [
        {
          "output_type": "execute_result",
          "data": {
            "text/plain": [
              "A_follower_count     A_listed_count         0.815952\n",
              "                     A_network_feature_1    0.622146\n",
              "A_listed_count       A_mentions_received    0.734589\n",
              "                     A_retweets_received    0.747752\n",
              "                     A_network_feature_1    0.705268\n",
              "A_mentions_received  A_retweets_received    0.990021\n",
              "                     A_network_feature_1    0.922340\n",
              "A_retweets_received  A_network_feature_1    0.928273\n",
              "A_mentions_sent      A_posts                0.607040\n",
              "dtype: float64"
            ]
          },
          "metadata": {
            "tags": []
          },
          "execution_count": 54
        }
      ]
    },
    {
      "cell_type": "code",
      "metadata": {
        "colab": {
          "base_uri": "https://localhost:8080/"
        },
        "id": "AjRF4ir2gZ81",
        "outputId": "fc3024a3-ddb5-45d1-e12c-1805faa10056"
      },
      "source": [
        "# Find correlation between variables in B where coefficients are between 0.6 and 0.999\n",
        "b_corr.where(np.triu((b_corr.values <= 0.9999) & (b_corr.values >= 0.6))).stack()"
      ],
      "execution_count": null,
      "outputs": [
        {
          "output_type": "execute_result",
          "data": {
            "text/plain": [
              "B_follower_count     B_listed_count         0.825349\n",
              "B_listed_count       B_mentions_received    0.646975\n",
              "                     B_retweets_received    0.663580\n",
              "                     B_network_feature_1    0.638013\n",
              "B_mentions_received  B_retweets_received    0.986410\n",
              "                     B_network_feature_1    0.907967\n",
              "B_retweets_received  B_network_feature_1    0.915914\n",
              "dtype: float64"
            ]
          },
          "metadata": {
            "tags": []
          },
          "execution_count": 55
        }
      ]
    },
    {
      "cell_type": "markdown",
      "metadata": {
        "id": "HyDlTpVcIiBv"
      },
      "source": [
        "**Should all variables be used?**\r\n",
        "Based on the correlation coefficients between variables, we decided to drop  X_mentions_received and X_network_feature_1 because both had high correlation with X_retweets_recieved, which we decided to keep. X_network_feature_1 also had high correlations with other variables. Dropping variables with high correlations with one another was done to prevent redundancy."
      ]
    },
    {
      "cell_type": "markdown",
      "metadata": {
        "id": "ssO5Mx2V2xIe"
      },
      "source": [
        "## Transformation of variables and trying different models"
      ]
    },
    {
      "cell_type": "code",
      "metadata": {
        "colab": {
          "base_uri": "https://localhost:8080/",
          "height": 422
        },
        "id": "xS1ed8LKK07x",
        "outputId": "ff2b87ca-c930-41f8-f2a2-e5960c180167"
      },
      "source": [
        "# Drop mentions_received and network_feature_1 for both A and B\n",
        "new_train_df = train_df.drop(['A_mentions_received','A_network_feature_1','B_mentions_received','B_network_feature_1'],axis = 1)\n",
        "new_train_df"
      ],
      "execution_count": null,
      "outputs": [
        {
          "output_type": "execute_result",
          "data": {
            "text/html": [
              "<div>\n",
              "<style scoped>\n",
              "    .dataframe tbody tr th:only-of-type {\n",
              "        vertical-align: middle;\n",
              "    }\n",
              "\n",
              "    .dataframe tbody tr th {\n",
              "        vertical-align: top;\n",
              "    }\n",
              "\n",
              "    .dataframe thead th {\n",
              "        text-align: right;\n",
              "    }\n",
              "</style>\n",
              "<table border=\"1\" class=\"dataframe\">\n",
              "  <thead>\n",
              "    <tr style=\"text-align: right;\">\n",
              "      <th></th>\n",
              "      <th>Choice</th>\n",
              "      <th>A_follower_count</th>\n",
              "      <th>A_following_count</th>\n",
              "      <th>A_listed_count</th>\n",
              "      <th>A_retweets_received</th>\n",
              "      <th>A_mentions_sent</th>\n",
              "      <th>A_retweets_sent</th>\n",
              "      <th>A_posts</th>\n",
              "      <th>A_network_feature_2</th>\n",
              "      <th>A_network_feature_3</th>\n",
              "      <th>B_follower_count</th>\n",
              "      <th>B_following_count</th>\n",
              "      <th>B_listed_count</th>\n",
              "      <th>B_retweets_received</th>\n",
              "      <th>B_mentions_sent</th>\n",
              "      <th>B_retweets_sent</th>\n",
              "      <th>B_posts</th>\n",
              "      <th>B_network_feature_2</th>\n",
              "      <th>B_network_feature_3</th>\n",
              "    </tr>\n",
              "  </thead>\n",
              "  <tbody>\n",
              "    <tr>\n",
              "      <th>0</th>\n",
              "      <td>0</td>\n",
              "      <td>228</td>\n",
              "      <td>302</td>\n",
              "      <td>3</td>\n",
              "      <td>0.100503</td>\n",
              "      <td>0.100503</td>\n",
              "      <td>0.100503</td>\n",
              "      <td>0.362150</td>\n",
              "      <td>166.500000</td>\n",
              "      <td>11355.000000</td>\n",
              "      <td>34463</td>\n",
              "      <td>29808</td>\n",
              "      <td>1689</td>\n",
              "      <td>3.984029</td>\n",
              "      <td>8.204331</td>\n",
              "      <td>0.332423</td>\n",
              "      <td>6.988815</td>\n",
              "      <td>75.530303</td>\n",
              "      <td>1916.893939</td>\n",
              "    </tr>\n",
              "    <tr>\n",
              "      <th>1</th>\n",
              "      <td>0</td>\n",
              "      <td>21591</td>\n",
              "      <td>1179</td>\n",
              "      <td>228</td>\n",
              "      <td>25.798292</td>\n",
              "      <td>5.709329</td>\n",
              "      <td>1.111159</td>\n",
              "      <td>5.176620</td>\n",
              "      <td>18.442971</td>\n",
              "      <td>1330.366048</td>\n",
              "      <td>39262</td>\n",
              "      <td>848</td>\n",
              "      <td>1610</td>\n",
              "      <td>8.943607</td>\n",
              "      <td>3.227677</td>\n",
              "      <td>0.564343</td>\n",
              "      <td>1.070321</td>\n",
              "      <td>132.030675</td>\n",
              "      <td>2931.515337</td>\n",
              "    </tr>\n",
              "    <tr>\n",
              "      <th>2</th>\n",
              "      <td>0</td>\n",
              "      <td>7310</td>\n",
              "      <td>1215</td>\n",
              "      <td>101</td>\n",
              "      <td>9.556347</td>\n",
              "      <td>5.361519</td>\n",
              "      <td>0.591206</td>\n",
              "      <td>3.589718</td>\n",
              "      <td>68.927835</td>\n",
              "      <td>5999.896907</td>\n",
              "      <td>3622</td>\n",
              "      <td>482</td>\n",
              "      <td>206</td>\n",
              "      <td>0.354379</td>\n",
              "      <td>0.603202</td>\n",
              "      <td>0.100503</td>\n",
              "      <td>0.603202</td>\n",
              "      <td>10.333333</td>\n",
              "      <td>277.333333</td>\n",
              "    </tr>\n",
              "    <tr>\n",
              "      <th>3</th>\n",
              "      <td>0</td>\n",
              "      <td>20</td>\n",
              "      <td>7</td>\n",
              "      <td>2</td>\n",
              "      <td>0.277306</td>\n",
              "      <td>1.331508</td>\n",
              "      <td>0.100503</td>\n",
              "      <td>2.830627</td>\n",
              "      <td>2.000000</td>\n",
              "      <td>96.166667</td>\n",
              "      <td>19562</td>\n",
              "      <td>17637</td>\n",
              "      <td>278</td>\n",
              "      <td>390.293681</td>\n",
              "      <td>27.552040</td>\n",
              "      <td>7.167557</td>\n",
              "      <td>32.101906</td>\n",
              "      <td>23.469296</td>\n",
              "      <td>1395.845634</td>\n",
              "    </tr>\n",
              "    <tr>\n",
              "      <th>4</th>\n",
              "      <td>1</td>\n",
              "      <td>45589</td>\n",
              "      <td>862</td>\n",
              "      <td>2641</td>\n",
              "      <td>36.998884</td>\n",
              "      <td>27.881768</td>\n",
              "      <td>3.333492</td>\n",
              "      <td>23.861282</td>\n",
              "      <td>127.404293</td>\n",
              "      <td>2833.847943</td>\n",
              "      <td>7554</td>\n",
              "      <td>1711</td>\n",
              "      <td>181</td>\n",
              "      <td>3.581661</td>\n",
              "      <td>6.764657</td>\n",
              "      <td>1.119727</td>\n",
              "      <td>4.563246</td>\n",
              "      <td>48.500000</td>\n",
              "      <td>1993.627907</td>\n",
              "    </tr>\n",
              "    <tr>\n",
              "      <th>...</th>\n",
              "      <td>...</td>\n",
              "      <td>...</td>\n",
              "      <td>...</td>\n",
              "      <td>...</td>\n",
              "      <td>...</td>\n",
              "      <td>...</td>\n",
              "      <td>...</td>\n",
              "      <td>...</td>\n",
              "      <td>...</td>\n",
              "      <td>...</td>\n",
              "      <td>...</td>\n",
              "      <td>...</td>\n",
              "      <td>...</td>\n",
              "      <td>...</td>\n",
              "      <td>...</td>\n",
              "      <td>...</td>\n",
              "      <td>...</td>\n",
              "      <td>...</td>\n",
              "      <td>...</td>\n",
              "    </tr>\n",
              "    <tr>\n",
              "      <th>5495</th>\n",
              "      <td>0</td>\n",
              "      <td>41765</td>\n",
              "      <td>185</td>\n",
              "      <td>1356</td>\n",
              "      <td>282.858500</td>\n",
              "      <td>76.809514</td>\n",
              "      <td>5.392171</td>\n",
              "      <td>104.438625</td>\n",
              "      <td>50.132042</td>\n",
              "      <td>3585.789866</td>\n",
              "      <td>804394</td>\n",
              "      <td>1370</td>\n",
              "      <td>15143</td>\n",
              "      <td>5013.642295</td>\n",
              "      <td>22.683131</td>\n",
              "      <td>2.385538</td>\n",
              "      <td>18.420981</td>\n",
              "      <td>21.324988</td>\n",
              "      <td>1413.825398</td>\n",
              "    </tr>\n",
              "    <tr>\n",
              "      <th>5496</th>\n",
              "      <td>1</td>\n",
              "      <td>112</td>\n",
              "      <td>243</td>\n",
              "      <td>5</td>\n",
              "      <td>0.100503</td>\n",
              "      <td>0.100503</td>\n",
              "      <td>0.100503</td>\n",
              "      <td>0.603177</td>\n",
              "      <td>96.600000</td>\n",
              "      <td>1414.200000</td>\n",
              "      <td>794</td>\n",
              "      <td>479</td>\n",
              "      <td>8</td>\n",
              "      <td>0.306073</td>\n",
              "      <td>0.100503</td>\n",
              "      <td>0.100503</td>\n",
              "      <td>1.621981</td>\n",
              "      <td>49.000000</td>\n",
              "      <td>4969.000000</td>\n",
              "    </tr>\n",
              "    <tr>\n",
              "      <th>5497</th>\n",
              "      <td>0</td>\n",
              "      <td>15385</td>\n",
              "      <td>673</td>\n",
              "      <td>747</td>\n",
              "      <td>22.321945</td>\n",
              "      <td>6.946233</td>\n",
              "      <td>0.341936</td>\n",
              "      <td>6.503977</td>\n",
              "      <td>152.495098</td>\n",
              "      <td>3286.617647</td>\n",
              "      <td>7554</td>\n",
              "      <td>1711</td>\n",
              "      <td>181</td>\n",
              "      <td>3.581661</td>\n",
              "      <td>6.764657</td>\n",
              "      <td>1.119727</td>\n",
              "      <td>4.563246</td>\n",
              "      <td>48.500000</td>\n",
              "      <td>1993.627907</td>\n",
              "    </tr>\n",
              "    <tr>\n",
              "      <th>5498</th>\n",
              "      <td>0</td>\n",
              "      <td>265258</td>\n",
              "      <td>209</td>\n",
              "      <td>551</td>\n",
              "      <td>457.648550</td>\n",
              "      <td>5.460985</td>\n",
              "      <td>0.100503</td>\n",
              "      <td>7.498126</td>\n",
              "      <td>3.826314</td>\n",
              "      <td>506.692136</td>\n",
              "      <td>322682</td>\n",
              "      <td>37601</td>\n",
              "      <td>22232</td>\n",
              "      <td>42.330221</td>\n",
              "      <td>6.849227</td>\n",
              "      <td>1.345073</td>\n",
              "      <td>4.359865</td>\n",
              "      <td>234.338068</td>\n",
              "      <td>7168.464489</td>\n",
              "    </tr>\n",
              "    <tr>\n",
              "      <th>5499</th>\n",
              "      <td>0</td>\n",
              "      <td>628</td>\n",
              "      <td>921</td>\n",
              "      <td>6</td>\n",
              "      <td>0.618590</td>\n",
              "      <td>4.769930</td>\n",
              "      <td>0.870136</td>\n",
              "      <td>2.953237</td>\n",
              "      <td>210.625000</td>\n",
              "      <td>14027.500000</td>\n",
              "      <td>504004</td>\n",
              "      <td>3109</td>\n",
              "      <td>12772</td>\n",
              "      <td>142.633229</td>\n",
              "      <td>4.486090</td>\n",
              "      <td>1.049408</td>\n",
              "      <td>4.806823</td>\n",
              "      <td>48.532819</td>\n",
              "      <td>1554.489575</td>\n",
              "    </tr>\n",
              "  </tbody>\n",
              "</table>\n",
              "<p>5500 rows × 19 columns</p>\n",
              "</div>"
            ],
            "text/plain": [
              "      Choice  A_follower_count  ...  B_network_feature_2  B_network_feature_3\n",
              "0          0               228  ...            75.530303          1916.893939\n",
              "1          0             21591  ...           132.030675          2931.515337\n",
              "2          0              7310  ...            10.333333           277.333333\n",
              "3          0                20  ...            23.469296          1395.845634\n",
              "4          1             45589  ...            48.500000          1993.627907\n",
              "...      ...               ...  ...                  ...                  ...\n",
              "5495       0             41765  ...            21.324988          1413.825398\n",
              "5496       1               112  ...            49.000000          4969.000000\n",
              "5497       0             15385  ...            48.500000          1993.627907\n",
              "5498       0            265258  ...           234.338068          7168.464489\n",
              "5499       0               628  ...            48.532819          1554.489575\n",
              "\n",
              "[5500 rows x 19 columns]"
            ]
          },
          "metadata": {
            "tags": []
          },
          "execution_count": 56
        }
      ]
    },
    {
      "cell_type": "code",
      "metadata": {
        "colab": {
          "base_uri": "https://localhost:8080/",
          "height": 195
        },
        "id": "r5JAWVXhK0Hq",
        "outputId": "23e40290-2ba4-4f06-9585-473b52c4c59f"
      },
      "source": [
        "# Transform dataframe to A/B\n",
        "train_ratio = pd.DataFrame(new_train_df['Choice'])\n",
        "for i in range(1,10):\n",
        "    train_ratio[new_train_df.columns[i][2:]+'_ratio'] = new_train_df[new_train_df.columns[i]]/new_train_df[new_train_df.columns[i+9]].replace(to_replace=0,value=.01)\n",
        "    \n",
        "train_ratio.head()"
      ],
      "execution_count": null,
      "outputs": [
        {
          "output_type": "execute_result",
          "data": {
            "text/html": [
              "<div>\n",
              "<style scoped>\n",
              "    .dataframe tbody tr th:only-of-type {\n",
              "        vertical-align: middle;\n",
              "    }\n",
              "\n",
              "    .dataframe tbody tr th {\n",
              "        vertical-align: top;\n",
              "    }\n",
              "\n",
              "    .dataframe thead th {\n",
              "        text-align: right;\n",
              "    }\n",
              "</style>\n",
              "<table border=\"1\" class=\"dataframe\">\n",
              "  <thead>\n",
              "    <tr style=\"text-align: right;\">\n",
              "      <th></th>\n",
              "      <th>Choice</th>\n",
              "      <th>follower_count_ratio</th>\n",
              "      <th>following_count_ratio</th>\n",
              "      <th>listed_count_ratio</th>\n",
              "      <th>retweets_received_ratio</th>\n",
              "      <th>mentions_sent_ratio</th>\n",
              "      <th>retweets_sent_ratio</th>\n",
              "      <th>posts_ratio</th>\n",
              "      <th>network_feature_2_ratio</th>\n",
              "      <th>network_feature_3_ratio</th>\n",
              "    </tr>\n",
              "  </thead>\n",
              "  <tbody>\n",
              "    <tr>\n",
              "      <th>0</th>\n",
              "      <td>0</td>\n",
              "      <td>0.006616</td>\n",
              "      <td>0.010132</td>\n",
              "      <td>0.001776</td>\n",
              "      <td>0.025227</td>\n",
              "      <td>0.012250</td>\n",
              "      <td>0.302336</td>\n",
              "      <td>0.051819</td>\n",
              "      <td>2.204413</td>\n",
              "      <td>5.923645</td>\n",
              "    </tr>\n",
              "    <tr>\n",
              "      <th>1</th>\n",
              "      <td>0</td>\n",
              "      <td>0.549921</td>\n",
              "      <td>1.390330</td>\n",
              "      <td>0.141615</td>\n",
              "      <td>2.884551</td>\n",
              "      <td>1.768866</td>\n",
              "      <td>1.968943</td>\n",
              "      <td>4.836513</td>\n",
              "      <td>0.139687</td>\n",
              "      <td>0.453815</td>\n",
              "    </tr>\n",
              "    <tr>\n",
              "      <th>2</th>\n",
              "      <td>0</td>\n",
              "      <td>2.018222</td>\n",
              "      <td>2.520747</td>\n",
              "      <td>0.490291</td>\n",
              "      <td>26.966469</td>\n",
              "      <td>8.888426</td>\n",
              "      <td>5.882446</td>\n",
              "      <td>5.951102</td>\n",
              "      <td>6.670436</td>\n",
              "      <td>21.634244</td>\n",
              "    </tr>\n",
              "    <tr>\n",
              "      <th>3</th>\n",
              "      <td>0</td>\n",
              "      <td>0.001022</td>\n",
              "      <td>0.000397</td>\n",
              "      <td>0.007194</td>\n",
              "      <td>0.000711</td>\n",
              "      <td>0.048327</td>\n",
              "      <td>0.014022</td>\n",
              "      <td>0.088176</td>\n",
              "      <td>0.085218</td>\n",
              "      <td>0.068895</td>\n",
              "    </tr>\n",
              "    <tr>\n",
              "      <th>4</th>\n",
              "      <td>1</td>\n",
              "      <td>6.035081</td>\n",
              "      <td>0.503799</td>\n",
              "      <td>14.591160</td>\n",
              "      <td>10.330091</td>\n",
              "      <td>4.121682</td>\n",
              "      <td>2.977058</td>\n",
              "      <td>5.229015</td>\n",
              "      <td>2.626893</td>\n",
              "      <td>1.421453</td>\n",
              "    </tr>\n",
              "  </tbody>\n",
              "</table>\n",
              "</div>"
            ],
            "text/plain": [
              "   Choice  ...  network_feature_3_ratio\n",
              "0       0  ...                 5.923645\n",
              "1       0  ...                 0.453815\n",
              "2       0  ...                21.634244\n",
              "3       0  ...                 0.068895\n",
              "4       1  ...                 1.421453\n",
              "\n",
              "[5 rows x 10 columns]"
            ]
          },
          "metadata": {
            "tags": []
          },
          "execution_count": 57
        }
      ]
    },
    {
      "cell_type": "code",
      "metadata": {
        "id": "CsiuEiS2LA_5"
      },
      "source": [
        "# Test accuracy for train_ratio \n",
        "y = train_ratio['Choice'].values\n",
        "X = train_ratio[train_ratio.columns[1:]].values\n",
        "\n",
        "X_train, X_test, y_train, y_test = train_test_split(X, y, test_size=0.2, random_state=2)"
      ],
      "execution_count": null,
      "outputs": []
    },
    {
      "cell_type": "code",
      "metadata": {
        "colab": {
          "base_uri": "https://localhost:8080/"
        },
        "id": "7NqymqEVLK-z",
        "outputId": "a6982653-901b-46af-9c42-c5e145e3a37a"
      },
      "source": [
        "# Logistic Regression for train_ratio\n",
        "from sklearn.linear_model import LogisticRegression as LR\n",
        "from sklearn.metrics import confusion_matrix, accuracy_score, classification_report, roc_auc_score, plot_confusion_matrix\n",
        "\n",
        "model1 = LR()\n",
        "model1.fit(X_train, y_train)\n",
        "\n",
        "prediction1 = model1.predict(X_test)\n",
        "print(confusion_matrix(y_test, prediction1))\n",
        "accuracy_score(y_test, prediction1)"
      ],
      "execution_count": null,
      "outputs": [
        {
          "output_type": "stream",
          "text": [
            "[[  2 517]\n",
            " [  1 580]]\n"
          ],
          "name": "stdout"
        },
        {
          "output_type": "execute_result",
          "data": {
            "text/plain": [
              "0.5290909090909091"
            ]
          },
          "metadata": {
            "tags": []
          },
          "execution_count": 59
        }
      ]
    },
    {
      "cell_type": "code",
      "metadata": {
        "colab": {
          "base_uri": "https://localhost:8080/",
          "height": 195
        },
        "id": "n1ZHqAAhLKop",
        "outputId": "aa20d91a-b310-4daf-d7ff-5a20cf58a231"
      },
      "source": [
        "# Transform dataframe to A-B\n",
        "train_diff = pd.DataFrame(new_train_df['Choice'])\n",
        "for i in range(1,10):\n",
        "    train_diff[new_train_df.columns[i][2:]+'_diff'] = new_train_df[new_train_df.columns[i]] - new_train_df[new_train_df.columns[i+9]]\n",
        "train_diff.head()"
      ],
      "execution_count": null,
      "outputs": [
        {
          "output_type": "execute_result",
          "data": {
            "text/html": [
              "<div>\n",
              "<style scoped>\n",
              "    .dataframe tbody tr th:only-of-type {\n",
              "        vertical-align: middle;\n",
              "    }\n",
              "\n",
              "    .dataframe tbody tr th {\n",
              "        vertical-align: top;\n",
              "    }\n",
              "\n",
              "    .dataframe thead th {\n",
              "        text-align: right;\n",
              "    }\n",
              "</style>\n",
              "<table border=\"1\" class=\"dataframe\">\n",
              "  <thead>\n",
              "    <tr style=\"text-align: right;\">\n",
              "      <th></th>\n",
              "      <th>Choice</th>\n",
              "      <th>follower_count_diff</th>\n",
              "      <th>following_count_diff</th>\n",
              "      <th>listed_count_diff</th>\n",
              "      <th>retweets_received_diff</th>\n",
              "      <th>mentions_sent_diff</th>\n",
              "      <th>retweets_sent_diff</th>\n",
              "      <th>posts_diff</th>\n",
              "      <th>network_feature_2_diff</th>\n",
              "      <th>network_feature_3_diff</th>\n",
              "    </tr>\n",
              "  </thead>\n",
              "  <tbody>\n",
              "    <tr>\n",
              "      <th>0</th>\n",
              "      <td>0</td>\n",
              "      <td>-34235</td>\n",
              "      <td>-29506</td>\n",
              "      <td>-1686</td>\n",
              "      <td>-3.883525</td>\n",
              "      <td>-8.103828</td>\n",
              "      <td>-0.231920</td>\n",
              "      <td>-6.626665</td>\n",
              "      <td>90.969697</td>\n",
              "      <td>9438.106061</td>\n",
              "    </tr>\n",
              "    <tr>\n",
              "      <th>1</th>\n",
              "      <td>0</td>\n",
              "      <td>-17671</td>\n",
              "      <td>331</td>\n",
              "      <td>-1382</td>\n",
              "      <td>16.854685</td>\n",
              "      <td>2.481652</td>\n",
              "      <td>0.546816</td>\n",
              "      <td>4.106299</td>\n",
              "      <td>-113.587704</td>\n",
              "      <td>-1601.149290</td>\n",
              "    </tr>\n",
              "    <tr>\n",
              "      <th>2</th>\n",
              "      <td>0</td>\n",
              "      <td>3688</td>\n",
              "      <td>733</td>\n",
              "      <td>-105</td>\n",
              "      <td>9.201969</td>\n",
              "      <td>4.758317</td>\n",
              "      <td>0.490702</td>\n",
              "      <td>2.986516</td>\n",
              "      <td>58.594502</td>\n",
              "      <td>5722.563574</td>\n",
              "    </tr>\n",
              "    <tr>\n",
              "      <th>3</th>\n",
              "      <td>0</td>\n",
              "      <td>-19542</td>\n",
              "      <td>-17630</td>\n",
              "      <td>-276</td>\n",
              "      <td>-390.016375</td>\n",
              "      <td>-26.220532</td>\n",
              "      <td>-7.067053</td>\n",
              "      <td>-29.271279</td>\n",
              "      <td>-21.469296</td>\n",
              "      <td>-1299.678967</td>\n",
              "    </tr>\n",
              "    <tr>\n",
              "      <th>4</th>\n",
              "      <td>1</td>\n",
              "      <td>38035</td>\n",
              "      <td>-849</td>\n",
              "      <td>2460</td>\n",
              "      <td>33.417223</td>\n",
              "      <td>21.117111</td>\n",
              "      <td>2.213765</td>\n",
              "      <td>19.298035</td>\n",
              "      <td>78.904293</td>\n",
              "      <td>840.220036</td>\n",
              "    </tr>\n",
              "  </tbody>\n",
              "</table>\n",
              "</div>"
            ],
            "text/plain": [
              "   Choice  follower_count_diff  ...  network_feature_2_diff  network_feature_3_diff\n",
              "0       0               -34235  ...               90.969697             9438.106061\n",
              "1       0               -17671  ...             -113.587704            -1601.149290\n",
              "2       0                 3688  ...               58.594502             5722.563574\n",
              "3       0               -19542  ...              -21.469296            -1299.678967\n",
              "4       1                38035  ...               78.904293              840.220036\n",
              "\n",
              "[5 rows x 10 columns]"
            ]
          },
          "metadata": {
            "tags": []
          },
          "execution_count": 60
        }
      ]
    },
    {
      "cell_type": "code",
      "metadata": {
        "id": "h4rykPphLKWz"
      },
      "source": [
        "# Test accuracy for train_diff -> this will be used as it has a higher accuracy than train_diff\n",
        "y = train_diff['Choice'].values\n",
        "X = train_diff[train_diff.columns[1:]].values\n",
        "\n",
        "X_train, X_test, y_train, y_test = train_test_split(X, y, test_size=0.2, random_state=2)"
      ],
      "execution_count": null,
      "outputs": []
    },
    {
      "cell_type": "code",
      "metadata": {
        "colab": {
          "base_uri": "https://localhost:8080/"
        },
        "id": "5Q4bHrc0LKCn",
        "outputId": "dc71d7d9-9d37-4ade-e3f2-0305ce76ebff"
      },
      "source": [
        "# Confusion Matrix for train_diff\n",
        "model2 = LR()\n",
        "model2.fit(X_train, y_train)\n",
        "\n",
        "prediction2 = model2.predict(X_test)\n",
        "print(confusion_matrix(y_test, prediction2))\n",
        "accuracy_score(y_test, prediction2)"
      ],
      "execution_count": null,
      "outputs": [
        {
          "output_type": "stream",
          "text": [
            "[[386 133]\n",
            " [142 439]]\n"
          ],
          "name": "stdout"
        },
        {
          "output_type": "execute_result",
          "data": {
            "text/plain": [
              "0.75"
            ]
          },
          "metadata": {
            "tags": []
          },
          "execution_count": 62
        }
      ]
    },
    {
      "cell_type": "markdown",
      "metadata": {
        "id": "qaMqzjbFIytZ"
      },
      "source": [
        "**Which transformation has been selected?**\r\n",
        "\r\n",
        "We decided to use A-B transformation as it has a higher accuracy (75%) compared to A/B which has a lower accuracy (52.9%). This was done to make the results easier to interpret."
      ]
    },
    {
      "cell_type": "code",
      "metadata": {
        "colab": {
          "base_uri": "https://localhost:8080/"
        },
        "id": "t_Vjk8_mLJeW",
        "outputId": "1674d418-6ad2-48d6-8ed4-68842665bcd5"
      },
      "source": [
        "# Logistic Regression Results\n",
        "import statsmodels.api as sm\n",
        "logit_model=sm.Logit(y_train,X_train)\n",
        "result=logit_model.fit()\n",
        "print(result.summary())"
      ],
      "execution_count": null,
      "outputs": [
        {
          "output_type": "stream",
          "text": [
            "Optimization terminated successfully.\n",
            "         Current function value: 0.581449\n",
            "         Iterations 7\n",
            "                           Logit Regression Results                           \n",
            "==============================================================================\n",
            "Dep. Variable:                      y   No. Observations:                 4400\n",
            "Model:                          Logit   Df Residuals:                     4391\n",
            "Method:                           MLE   Df Model:                            8\n",
            "Date:                Tue, 09 Feb 2021   Pseudo R-squ.:                  0.1611\n",
            "Time:                        05:15:03   Log-Likelihood:                -2558.4\n",
            "converged:                       True   LL-Null:                       -3049.6\n",
            "Covariance Type:            nonrobust   LLR p-value:                8.762e-207\n",
            "==============================================================================\n",
            "                 coef    std err          z      P>|z|      [0.025      0.975]\n",
            "------------------------------------------------------------------------------\n",
            "x1          -3.28e-08    3.1e-08     -1.058      0.290   -9.36e-08     2.8e-08\n",
            "x2          8.994e-07   5.88e-07      1.529      0.126   -2.54e-07    2.05e-06\n",
            "x3          9.241e-05   5.63e-06     16.408      0.000    8.14e-05       0.000\n",
            "x4          -7.48e-06   6.73e-06     -1.112      0.266   -2.07e-05    5.71e-06\n",
            "x5             0.0083      0.004      2.248      0.025       0.001       0.015\n",
            "x6             0.1058      0.019      5.621      0.000       0.069       0.143\n",
            "x7             0.0031      0.002      1.763      0.078      -0.000       0.007\n",
            "x8             0.0011      0.000      4.008      0.000       0.001       0.002\n",
            "x9          2.585e-05   5.28e-06      4.897      0.000    1.55e-05    3.62e-05\n",
            "==============================================================================\n"
          ],
          "name": "stdout"
        }
      ]
    },
    {
      "cell_type": "code",
      "metadata": {
        "colab": {
          "base_uri": "https://localhost:8080/"
        },
        "id": "yXsapVt5LJO4",
        "outputId": "c3635656-dbb8-4c65-a202-9407b891c14b"
      },
      "source": [
        "train_diff.columns"
      ],
      "execution_count": null,
      "outputs": [
        {
          "output_type": "execute_result",
          "data": {
            "text/plain": [
              "Index(['Choice', 'follower_count_diff', 'following_count_diff',\n",
              "       'listed_count_diff', 'retweets_received_diff', 'mentions_sent_diff',\n",
              "       'retweets_sent_diff', 'posts_diff', 'network_feature_2_diff',\n",
              "       'network_feature_3_diff'],\n",
              "      dtype='object')"
            ]
          },
          "metadata": {
            "tags": []
          },
          "execution_count": 64
        }
      ]
    },
    {
      "cell_type": "code",
      "metadata": {
        "id": "6g06sw0yLI7n"
      },
      "source": [
        "# Drop columns follower_count_diff, following_count_diff, retweets_received_diff, posts_diff as p-values are > 0.05 thus proving insignificant\n",
        "final_df = train_diff.drop(['follower_count_diff', 'following_count_diff', 'retweets_received_diff','posts_diff'],axis = 1)"
      ],
      "execution_count": null,
      "outputs": []
    },
    {
      "cell_type": "code",
      "metadata": {
        "colab": {
          "base_uri": "https://localhost:8080/"
        },
        "id": "J_gOJyx7Ls4y",
        "outputId": "8f631cad-f20b-4767-93df-b8457361ddb3"
      },
      "source": [
        "# Test accuracy for final_df and final confusion matrix (Best Model)\n",
        "y = final_df['Choice'].values\n",
        "X = final_df[final_df.columns[1:]].values\n",
        "\n",
        "X_train, X_test, y_train, y_test = train_test_split(X, y, test_size=0.2, random_state=2)\n",
        "\n",
        "# Logistic Regression\n",
        "model3 = LR()\n",
        "model3.fit(X_train, y_train)\n",
        "\n",
        "prediction3 = model3.predict(X_test)\n",
        "print(confusion_matrix(y_test, prediction3))\n",
        "accuracy_score(y_test, prediction3)"
      ],
      "execution_count": null,
      "outputs": [
        {
          "output_type": "stream",
          "text": [
            "[[375 144]\n",
            " [135 446]]\n"
          ],
          "name": "stdout"
        },
        {
          "output_type": "execute_result",
          "data": {
            "text/plain": [
              "0.7463636363636363"
            ]
          },
          "metadata": {
            "tags": []
          },
          "execution_count": 66
        }
      ]
    },
    {
      "cell_type": "code",
      "metadata": {
        "colab": {
          "base_uri": "https://localhost:8080/"
        },
        "id": "Sl4b92VtLsio",
        "outputId": "363a8355-e89b-4cd6-d0b7-54a111940044"
      },
      "source": [
        "# Logistic Regression Results for final model\n",
        "logit_model2=sm.Logit(y_train,X_train)\n",
        "result2=logit_model2.fit()\n",
        "print(result2.summary())"
      ],
      "execution_count": null,
      "outputs": [
        {
          "output_type": "stream",
          "text": [
            "Optimization terminated successfully.\n",
            "         Current function value: 0.582521\n",
            "         Iterations 7\n",
            "                           Logit Regression Results                           \n",
            "==============================================================================\n",
            "Dep. Variable:                      y   No. Observations:                 4400\n",
            "Model:                          Logit   Df Residuals:                     4395\n",
            "Method:                           MLE   Df Model:                            4\n",
            "Date:                Tue, 09 Feb 2021   Pseudo R-squ.:                  0.1595\n",
            "Time:                        05:15:20   Log-Likelihood:                -2563.1\n",
            "converged:                       True   LL-Null:                       -3049.6\n",
            "Covariance Type:            nonrobust   LLR p-value:                2.397e-209\n",
            "==============================================================================\n",
            "                 coef    std err          z      P>|z|      [0.025      0.975]\n",
            "------------------------------------------------------------------------------\n",
            "x1          8.813e-05   4.35e-06     20.255      0.000    7.96e-05    9.67e-05\n",
            "x2             0.0123      0.003      3.908      0.000       0.006       0.018\n",
            "x3             0.1039      0.018      5.663      0.000       0.068       0.140\n",
            "x4             0.0011      0.000      4.120      0.000       0.001       0.002\n",
            "x5          2.619e-05   5.26e-06      4.983      0.000    1.59e-05    3.65e-05\n",
            "==============================================================================\n"
          ],
          "name": "stdout"
        }
      ]
    },
    {
      "cell_type": "code",
      "metadata": {
        "colab": {
          "base_uri": "https://localhost:8080/"
        },
        "id": "o5j2MzwqLsK5",
        "outputId": "317f956c-5403-4463-83f4-9373dbe641f8"
      },
      "source": [
        "final_df.columns"
      ],
      "execution_count": null,
      "outputs": [
        {
          "output_type": "execute_result",
          "data": {
            "text/plain": [
              "Index(['Choice', 'listed_count_diff', 'mentions_sent_diff',\n",
              "       'retweets_sent_diff', 'network_feature_2_diff',\n",
              "       'network_feature_3_diff'],\n",
              "      dtype='object')"
            ]
          },
          "metadata": {
            "tags": []
          },
          "execution_count": 68
        }
      ]
    },
    {
      "cell_type": "markdown",
      "metadata": {
        "id": "eaXmV5VYI4I3"
      },
      "source": [
        "## Best Model\r\n",
        "Our best model with significant variables (p-value <0.05) were of variables 'listed_count_diff', 'mentions_sent_diff', 'retweets_sent_diff', 'network_feature_2_diff', and 'network_feature_3_diff'.\r\n",
        "\r\n",
        "The **confusion matrix** of the best model is as follows:\r\n",
        " $$\\begin{bmatrix} 375 & 144 \\\\ 135 & 446 \\end{bmatrix}$$\r\n",
        "\r\n",
        "The accuracy rate obtained from the model:\r\n",
        "74.64%\r\n",
        "\r\n",
        "The best predictors of influence are shown below:"
      ]
    },
    {
      "cell_type": "code",
      "metadata": {
        "colab": {
          "base_uri": "https://localhost:8080/",
          "height": 195
        },
        "id": "i5rAUtSALrfd",
        "outputId": "c8b84a75-b009-48ae-b12f-8f952110320b"
      },
      "source": [
        "# Important features based on coefficients\n",
        "important_features = pd.DataFrame(model3.coef_[0].transpose(), index = final_df.columns[1:], columns = [\"Coefficient\"]).sort_values(by = \"Coefficient\", ascending = False)\n",
        "important_features"
      ],
      "execution_count": null,
      "outputs": [
        {
          "output_type": "execute_result",
          "data": {
            "text/html": [
              "<div>\n",
              "<style scoped>\n",
              "    .dataframe tbody tr th:only-of-type {\n",
              "        vertical-align: middle;\n",
              "    }\n",
              "\n",
              "    .dataframe tbody tr th {\n",
              "        vertical-align: top;\n",
              "    }\n",
              "\n",
              "    .dataframe thead th {\n",
              "        text-align: right;\n",
              "    }\n",
              "</style>\n",
              "<table border=\"1\" class=\"dataframe\">\n",
              "  <thead>\n",
              "    <tr style=\"text-align: right;\">\n",
              "      <th></th>\n",
              "      <th>Coefficient</th>\n",
              "    </tr>\n",
              "  </thead>\n",
              "  <tbody>\n",
              "    <tr>\n",
              "      <th>retweets_sent_diff</th>\n",
              "      <td>0.104457</td>\n",
              "    </tr>\n",
              "    <tr>\n",
              "      <th>mentions_sent_diff</th>\n",
              "      <td>0.012275</td>\n",
              "    </tr>\n",
              "    <tr>\n",
              "      <th>network_feature_2_diff</th>\n",
              "      <td>0.001103</td>\n",
              "    </tr>\n",
              "    <tr>\n",
              "      <th>listed_count_diff</th>\n",
              "      <td>0.000088</td>\n",
              "    </tr>\n",
              "    <tr>\n",
              "      <th>network_feature_3_diff</th>\n",
              "      <td>0.000026</td>\n",
              "    </tr>\n",
              "  </tbody>\n",
              "</table>\n",
              "</div>"
            ],
            "text/plain": [
              "                        Coefficient\n",
              "retweets_sent_diff         0.104457\n",
              "mentions_sent_diff         0.012275\n",
              "network_feature_2_diff     0.001103\n",
              "listed_count_diff          0.000088\n",
              "network_feature_3_diff     0.000026"
            ]
          },
          "metadata": {
            "tags": []
          },
          "execution_count": 69
        }
      ]
    },
    {
      "cell_type": "code",
      "metadata": {
        "colab": {
          "base_uri": "https://localhost:8080/"
        },
        "id": "skVj45XYLrQw",
        "outputId": "730139c3-3ef7-4ce7-c22b-faf22fbbe53c"
      },
      "source": [
        "# Important features based on Recursive Feature Elimination\n",
        "# RFE method verifies/confirms the ranking above in order\n",
        "\n",
        "from sklearn.feature_selection import RFE\n",
        "selector = RFE(model3, n_features_to_select=1, step=1)\n",
        "selector = selector.fit(X, y)\n",
        "print(list(final_df.columns)[1:])\n",
        "selector.ranking_"
      ],
      "execution_count": null,
      "outputs": [
        {
          "output_type": "stream",
          "text": [
            "['listed_count_diff', 'mentions_sent_diff', 'retweets_sent_diff', 'network_feature_2_diff', 'network_feature_3_diff']\n"
          ],
          "name": "stdout"
        },
        {
          "output_type": "execute_result",
          "data": {
            "text/plain": [
              "array([4, 2, 1, 3, 5])"
            ]
          },
          "metadata": {
            "tags": []
          },
          "execution_count": 87
        }
      ]
    },
    {
      "cell_type": "markdown",
      "metadata": {
        "id": "4rhr0cCxJRyA"
      },
      "source": [
        "**The top predictors are as follows:**\r\n",
        "\r\n",
        "\r\n",
        "\r\n",
        "*   retweets_sent_diff\t\r\n",
        "*   mentions_sent_diff\r\n",
        "*   network_feature_2_diff\r\n",
        "*   listed_count_diff\r\n",
        "*   network_feature_3_diff\r\n",
        "\r\n"
      ]
    },
    {
      "cell_type": "markdown",
      "metadata": {
        "id": "fXWrnS2O4QAW"
      },
      "source": [
        "**How can a business use the model/results?**"
      ]
    },
    {
      "cell_type": "markdown",
      "metadata": {
        "id": "zyAzrdqMMQNx"
      },
      "source": [
        "A business could use this model to find influencers on Twitter based on these predictors for marketing opportunities. Businesses may also utilize this model to get a better understanding on which Twitter attributes possibly leads to greater influence in the social media platform to increase visibility and advertising. "
      ]
    },
    {
      "cell_type": "markdown",
      "metadata": {
        "id": "sfiHQAUr4cRT"
      },
      "source": [
        "## Financial value of model"
      ]
    },
    {
      "cell_type": "code",
      "metadata": {
        "id": "t8yW-gjPLqtd"
      },
      "source": [
        "# Creating the dataframe for the financial model\n",
        "finvalue_df = train_df[['Choice','A_follower_count','B_follower_count']]"
      ],
      "execution_count": null,
      "outputs": []
    },
    {
      "cell_type": "code",
      "metadata": {
        "colab": {
          "base_uri": "https://localhost:8080/",
          "height": 805
        },
        "id": "Xwi7FNOxLqZb",
        "outputId": "c092ad43-e90a-47c5-e4ad-cc8951502808"
      },
      "source": [
        "# Calculate the financial value of the model without analytics\n",
        "finvalue_df[\"Cost\"] = 10\n",
        "finvalue_df[\"Revenue\"] = 0.0001*10*finvalue_df[\"A_follower_count\"]\n",
        "finvalue_df.loc[(finvalue_df[\"Choice\"] == 0),\"Revenue\"] = 0.0001*10*finvalue_df[\"B_follower_count\"]\n",
        "finvalue_df[\"Profit\"] = finvalue_df[\"Revenue\"] - finvalue_df[\"Cost\"]\n",
        "finvalue_df"
      ],
      "execution_count": null,
      "outputs": [
        {
          "output_type": "stream",
          "text": [
            "/usr/local/lib/python3.6/dist-packages/ipykernel_launcher.py:2: SettingWithCopyWarning: \n",
            "A value is trying to be set on a copy of a slice from a DataFrame.\n",
            "Try using .loc[row_indexer,col_indexer] = value instead\n",
            "\n",
            "See the caveats in the documentation: https://pandas.pydata.org/pandas-docs/stable/user_guide/indexing.html#returning-a-view-versus-a-copy\n",
            "  \n",
            "/usr/local/lib/python3.6/dist-packages/ipykernel_launcher.py:3: SettingWithCopyWarning: \n",
            "A value is trying to be set on a copy of a slice from a DataFrame.\n",
            "Try using .loc[row_indexer,col_indexer] = value instead\n",
            "\n",
            "See the caveats in the documentation: https://pandas.pydata.org/pandas-docs/stable/user_guide/indexing.html#returning-a-view-versus-a-copy\n",
            "  This is separate from the ipykernel package so we can avoid doing imports until\n",
            "/usr/local/lib/python3.6/dist-packages/pandas/core/indexing.py:1743: SettingWithCopyWarning: \n",
            "A value is trying to be set on a copy of a slice from a DataFrame.\n",
            "Try using .loc[row_indexer,col_indexer] = value instead\n",
            "\n",
            "See the caveats in the documentation: https://pandas.pydata.org/pandas-docs/stable/user_guide/indexing.html#returning-a-view-versus-a-copy\n",
            "  isetter(ilocs[0], value)\n",
            "/usr/local/lib/python3.6/dist-packages/ipykernel_launcher.py:5: SettingWithCopyWarning: \n",
            "A value is trying to be set on a copy of a slice from a DataFrame.\n",
            "Try using .loc[row_indexer,col_indexer] = value instead\n",
            "\n",
            "See the caveats in the documentation: https://pandas.pydata.org/pandas-docs/stable/user_guide/indexing.html#returning-a-view-versus-a-copy\n",
            "  \"\"\"\n"
          ],
          "name": "stderr"
        },
        {
          "output_type": "execute_result",
          "data": {
            "text/html": [
              "<div>\n",
              "<style scoped>\n",
              "    .dataframe tbody tr th:only-of-type {\n",
              "        vertical-align: middle;\n",
              "    }\n",
              "\n",
              "    .dataframe tbody tr th {\n",
              "        vertical-align: top;\n",
              "    }\n",
              "\n",
              "    .dataframe thead th {\n",
              "        text-align: right;\n",
              "    }\n",
              "</style>\n",
              "<table border=\"1\" class=\"dataframe\">\n",
              "  <thead>\n",
              "    <tr style=\"text-align: right;\">\n",
              "      <th></th>\n",
              "      <th>Choice</th>\n",
              "      <th>A_follower_count</th>\n",
              "      <th>B_follower_count</th>\n",
              "      <th>Cost</th>\n",
              "      <th>Revenue</th>\n",
              "      <th>Profit</th>\n",
              "    </tr>\n",
              "  </thead>\n",
              "  <tbody>\n",
              "    <tr>\n",
              "      <th>0</th>\n",
              "      <td>0</td>\n",
              "      <td>228</td>\n",
              "      <td>34463</td>\n",
              "      <td>10</td>\n",
              "      <td>34.463</td>\n",
              "      <td>24.463</td>\n",
              "    </tr>\n",
              "    <tr>\n",
              "      <th>1</th>\n",
              "      <td>0</td>\n",
              "      <td>21591</td>\n",
              "      <td>39262</td>\n",
              "      <td>10</td>\n",
              "      <td>39.262</td>\n",
              "      <td>29.262</td>\n",
              "    </tr>\n",
              "    <tr>\n",
              "      <th>2</th>\n",
              "      <td>0</td>\n",
              "      <td>7310</td>\n",
              "      <td>3622</td>\n",
              "      <td>10</td>\n",
              "      <td>3.622</td>\n",
              "      <td>-6.378</td>\n",
              "    </tr>\n",
              "    <tr>\n",
              "      <th>3</th>\n",
              "      <td>0</td>\n",
              "      <td>20</td>\n",
              "      <td>19562</td>\n",
              "      <td>10</td>\n",
              "      <td>19.562</td>\n",
              "      <td>9.562</td>\n",
              "    </tr>\n",
              "    <tr>\n",
              "      <th>4</th>\n",
              "      <td>1</td>\n",
              "      <td>45589</td>\n",
              "      <td>7554</td>\n",
              "      <td>10</td>\n",
              "      <td>45.589</td>\n",
              "      <td>35.589</td>\n",
              "    </tr>\n",
              "    <tr>\n",
              "      <th>...</th>\n",
              "      <td>...</td>\n",
              "      <td>...</td>\n",
              "      <td>...</td>\n",
              "      <td>...</td>\n",
              "      <td>...</td>\n",
              "      <td>...</td>\n",
              "    </tr>\n",
              "    <tr>\n",
              "      <th>5495</th>\n",
              "      <td>0</td>\n",
              "      <td>41765</td>\n",
              "      <td>804394</td>\n",
              "      <td>10</td>\n",
              "      <td>804.394</td>\n",
              "      <td>794.394</td>\n",
              "    </tr>\n",
              "    <tr>\n",
              "      <th>5496</th>\n",
              "      <td>1</td>\n",
              "      <td>112</td>\n",
              "      <td>794</td>\n",
              "      <td>10</td>\n",
              "      <td>0.112</td>\n",
              "      <td>-9.888</td>\n",
              "    </tr>\n",
              "    <tr>\n",
              "      <th>5497</th>\n",
              "      <td>0</td>\n",
              "      <td>15385</td>\n",
              "      <td>7554</td>\n",
              "      <td>10</td>\n",
              "      <td>7.554</td>\n",
              "      <td>-2.446</td>\n",
              "    </tr>\n",
              "    <tr>\n",
              "      <th>5498</th>\n",
              "      <td>0</td>\n",
              "      <td>265258</td>\n",
              "      <td>322682</td>\n",
              "      <td>10</td>\n",
              "      <td>322.682</td>\n",
              "      <td>312.682</td>\n",
              "    </tr>\n",
              "    <tr>\n",
              "      <th>5499</th>\n",
              "      <td>0</td>\n",
              "      <td>628</td>\n",
              "      <td>504004</td>\n",
              "      <td>10</td>\n",
              "      <td>504.004</td>\n",
              "      <td>494.004</td>\n",
              "    </tr>\n",
              "  </tbody>\n",
              "</table>\n",
              "<p>5500 rows × 6 columns</p>\n",
              "</div>"
            ],
            "text/plain": [
              "      Choice  A_follower_count  B_follower_count  Cost  Revenue   Profit\n",
              "0          0               228             34463    10   34.463   24.463\n",
              "1          0             21591             39262    10   39.262   29.262\n",
              "2          0              7310              3622    10    3.622   -6.378\n",
              "3          0                20             19562    10   19.562    9.562\n",
              "4          1             45589              7554    10   45.589   35.589\n",
              "...      ...               ...               ...   ...      ...      ...\n",
              "5495       0             41765            804394    10  804.394  794.394\n",
              "5496       1               112               794    10    0.112   -9.888\n",
              "5497       0             15385              7554    10    7.554   -2.446\n",
              "5498       0            265258            322682    10  322.682  312.682\n",
              "5499       0               628            504004    10  504.004  494.004\n",
              "\n",
              "[5500 rows x 6 columns]"
            ]
          },
          "metadata": {
            "tags": []
          },
          "execution_count": 72
        }
      ]
    },
    {
      "cell_type": "code",
      "metadata": {
        "colab": {
          "base_uri": "https://localhost:8080/"
        },
        "id": "2EK8aqs3Lp_4",
        "outputId": "f8c38e15-e0a9-44e0-84e0-323bf730a7ce"
      },
      "source": [
        "# Without analytics profit sum\n",
        "finvalue_df[\"Profit\"].sum()"
      ],
      "execution_count": null,
      "outputs": [
        {
          "output_type": "execute_result",
          "data": {
            "text/plain": [
              "5321568.593"
            ]
          },
          "metadata": {
            "tags": []
          },
          "execution_count": 75
        }
      ]
    },
    {
      "cell_type": "code",
      "metadata": {
        "colab": {
          "base_uri": "https://localhost:8080/"
        },
        "id": "5Rgw8OLMLpn8",
        "outputId": "17cd4265-c19e-42ec-e7c8-61a72292c109"
      },
      "source": [
        "# Without analytics profict average\n",
        "finvalue_df[\"Profit\"].mean()"
      ],
      "execution_count": null,
      "outputs": [
        {
          "output_type": "execute_result",
          "data": {
            "text/plain": [
              "967.557925999997"
            ]
          },
          "metadata": {
            "tags": []
          },
          "execution_count": 76
        }
      ]
    },
    {
      "cell_type": "code",
      "metadata": {
        "colab": {
          "base_uri": "https://localhost:8080/"
        },
        "id": "hYZ7HtPwLpLW",
        "outputId": "dcb634e6-5464-4203-94b3-e378f94f1f7c"
      },
      "source": [
        "# Calculate the financial value of the model with analytics\n",
        "finvalue_analytics = train_df[['Choice','A_follower_count','B_follower_count']]\n",
        "finvalue_analytics[\"Prediction\"] = model3.predict(X)\n",
        "finvalue_analytics[\"Cost\"] = 10\n",
        "finvalue_analytics[\"Revenue\"] = 0\n",
        "\n",
        "finvalue_analytics.loc[(finvalue_analytics[\"Choice\"] == 0) & (finvalue_analytics[\"Prediction\"] == 0),\"Revenue\"] = 0.00015*10*finvalue_analytics[\"B_follower_count\"]\n",
        "finvalue_analytics.loc[(finvalue_analytics[\"Choice\"] == 1) & (finvalue_analytics[\"Prediction\"] == 1),\"Revenue\"] = 0.00015*10*finvalue_analytics[\"A_follower_count\"]\n",
        "\n",
        "finvalue_analytics[\"Profit\"] = finvalue_analytics[\"Revenue\"] - finvalue_analytics[\"Cost\"]"
      ],
      "execution_count": null,
      "outputs": [
        {
          "output_type": "stream",
          "text": [
            "/usr/local/lib/python3.6/dist-packages/ipykernel_launcher.py:3: SettingWithCopyWarning: \n",
            "A value is trying to be set on a copy of a slice from a DataFrame.\n",
            "Try using .loc[row_indexer,col_indexer] = value instead\n",
            "\n",
            "See the caveats in the documentation: https://pandas.pydata.org/pandas-docs/stable/user_guide/indexing.html#returning-a-view-versus-a-copy\n",
            "  This is separate from the ipykernel package so we can avoid doing imports until\n",
            "/usr/local/lib/python3.6/dist-packages/ipykernel_launcher.py:4: SettingWithCopyWarning: \n",
            "A value is trying to be set on a copy of a slice from a DataFrame.\n",
            "Try using .loc[row_indexer,col_indexer] = value instead\n",
            "\n",
            "See the caveats in the documentation: https://pandas.pydata.org/pandas-docs/stable/user_guide/indexing.html#returning-a-view-versus-a-copy\n",
            "  after removing the cwd from sys.path.\n",
            "/usr/local/lib/python3.6/dist-packages/ipykernel_launcher.py:5: SettingWithCopyWarning: \n",
            "A value is trying to be set on a copy of a slice from a DataFrame.\n",
            "Try using .loc[row_indexer,col_indexer] = value instead\n",
            "\n",
            "See the caveats in the documentation: https://pandas.pydata.org/pandas-docs/stable/user_guide/indexing.html#returning-a-view-versus-a-copy\n",
            "  \"\"\"\n",
            "/usr/local/lib/python3.6/dist-packages/pandas/core/indexing.py:1743: SettingWithCopyWarning: \n",
            "A value is trying to be set on a copy of a slice from a DataFrame.\n",
            "Try using .loc[row_indexer,col_indexer] = value instead\n",
            "\n",
            "See the caveats in the documentation: https://pandas.pydata.org/pandas-docs/stable/user_guide/indexing.html#returning-a-view-versus-a-copy\n",
            "  isetter(ilocs[0], value)\n",
            "/usr/local/lib/python3.6/dist-packages/pandas/core/indexing.py:1743: SettingWithCopyWarning: \n",
            "A value is trying to be set on a copy of a slice from a DataFrame.\n",
            "Try using .loc[row_indexer,col_indexer] = value instead\n",
            "\n",
            "See the caveats in the documentation: https://pandas.pydata.org/pandas-docs/stable/user_guide/indexing.html#returning-a-view-versus-a-copy\n",
            "  isetter(ilocs[0], value)\n",
            "/usr/local/lib/python3.6/dist-packages/ipykernel_launcher.py:10: SettingWithCopyWarning: \n",
            "A value is trying to be set on a copy of a slice from a DataFrame.\n",
            "Try using .loc[row_indexer,col_indexer] = value instead\n",
            "\n",
            "See the caveats in the documentation: https://pandas.pydata.org/pandas-docs/stable/user_guide/indexing.html#returning-a-view-versus-a-copy\n",
            "  # Remove the CWD from sys.path while we load stuff.\n"
          ],
          "name": "stderr"
        }
      ]
    },
    {
      "cell_type": "code",
      "metadata": {
        "colab": {
          "base_uri": "https://localhost:8080/",
          "height": 402
        },
        "id": "Wm0zZg61Mmu8",
        "outputId": "bd4d8da6-fe92-4877-d72c-923698154849"
      },
      "source": [
        "finvalue_analytics"
      ],
      "execution_count": null,
      "outputs": [
        {
          "output_type": "execute_result",
          "data": {
            "text/html": [
              "<div>\n",
              "<style scoped>\n",
              "    .dataframe tbody tr th:only-of-type {\n",
              "        vertical-align: middle;\n",
              "    }\n",
              "\n",
              "    .dataframe tbody tr th {\n",
              "        vertical-align: top;\n",
              "    }\n",
              "\n",
              "    .dataframe thead th {\n",
              "        text-align: right;\n",
              "    }\n",
              "</style>\n",
              "<table border=\"1\" class=\"dataframe\">\n",
              "  <thead>\n",
              "    <tr style=\"text-align: right;\">\n",
              "      <th></th>\n",
              "      <th>Choice</th>\n",
              "      <th>A_follower_count</th>\n",
              "      <th>B_follower_count</th>\n",
              "      <th>Prediction</th>\n",
              "      <th>Cost</th>\n",
              "      <th>Revenue</th>\n",
              "      <th>Profit</th>\n",
              "    </tr>\n",
              "  </thead>\n",
              "  <tbody>\n",
              "    <tr>\n",
              "      <th>0</th>\n",
              "      <td>0</td>\n",
              "      <td>228</td>\n",
              "      <td>34463</td>\n",
              "      <td>1</td>\n",
              "      <td>10</td>\n",
              "      <td>0.0000</td>\n",
              "      <td>-10.0000</td>\n",
              "    </tr>\n",
              "    <tr>\n",
              "      <th>1</th>\n",
              "      <td>0</td>\n",
              "      <td>21591</td>\n",
              "      <td>39262</td>\n",
              "      <td>0</td>\n",
              "      <td>10</td>\n",
              "      <td>58.8930</td>\n",
              "      <td>48.8930</td>\n",
              "    </tr>\n",
              "    <tr>\n",
              "      <th>2</th>\n",
              "      <td>0</td>\n",
              "      <td>7310</td>\n",
              "      <td>3622</td>\n",
              "      <td>1</td>\n",
              "      <td>10</td>\n",
              "      <td>0.0000</td>\n",
              "      <td>-10.0000</td>\n",
              "    </tr>\n",
              "    <tr>\n",
              "      <th>3</th>\n",
              "      <td>0</td>\n",
              "      <td>20</td>\n",
              "      <td>19562</td>\n",
              "      <td>0</td>\n",
              "      <td>10</td>\n",
              "      <td>29.3430</td>\n",
              "      <td>19.3430</td>\n",
              "    </tr>\n",
              "    <tr>\n",
              "      <th>4</th>\n",
              "      <td>1</td>\n",
              "      <td>45589</td>\n",
              "      <td>7554</td>\n",
              "      <td>1</td>\n",
              "      <td>10</td>\n",
              "      <td>68.3835</td>\n",
              "      <td>58.3835</td>\n",
              "    </tr>\n",
              "    <tr>\n",
              "      <th>...</th>\n",
              "      <td>...</td>\n",
              "      <td>...</td>\n",
              "      <td>...</td>\n",
              "      <td>...</td>\n",
              "      <td>...</td>\n",
              "      <td>...</td>\n",
              "      <td>...</td>\n",
              "    </tr>\n",
              "    <tr>\n",
              "      <th>5495</th>\n",
              "      <td>0</td>\n",
              "      <td>41765</td>\n",
              "      <td>804394</td>\n",
              "      <td>0</td>\n",
              "      <td>10</td>\n",
              "      <td>1206.5910</td>\n",
              "      <td>1196.5910</td>\n",
              "    </tr>\n",
              "    <tr>\n",
              "      <th>5496</th>\n",
              "      <td>1</td>\n",
              "      <td>112</td>\n",
              "      <td>794</td>\n",
              "      <td>0</td>\n",
              "      <td>10</td>\n",
              "      <td>0.0000</td>\n",
              "      <td>-10.0000</td>\n",
              "    </tr>\n",
              "    <tr>\n",
              "      <th>5497</th>\n",
              "      <td>0</td>\n",
              "      <td>15385</td>\n",
              "      <td>7554</td>\n",
              "      <td>1</td>\n",
              "      <td>10</td>\n",
              "      <td>0.0000</td>\n",
              "      <td>-10.0000</td>\n",
              "    </tr>\n",
              "    <tr>\n",
              "      <th>5498</th>\n",
              "      <td>0</td>\n",
              "      <td>265258</td>\n",
              "      <td>322682</td>\n",
              "      <td>0</td>\n",
              "      <td>10</td>\n",
              "      <td>484.0230</td>\n",
              "      <td>474.0230</td>\n",
              "    </tr>\n",
              "    <tr>\n",
              "      <th>5499</th>\n",
              "      <td>0</td>\n",
              "      <td>628</td>\n",
              "      <td>504004</td>\n",
              "      <td>0</td>\n",
              "      <td>10</td>\n",
              "      <td>756.0060</td>\n",
              "      <td>746.0060</td>\n",
              "    </tr>\n",
              "  </tbody>\n",
              "</table>\n",
              "<p>5500 rows × 7 columns</p>\n",
              "</div>"
            ],
            "text/plain": [
              "      Choice  A_follower_count  B_follower_count  ...  Cost    Revenue     Profit\n",
              "0          0               228             34463  ...    10     0.0000   -10.0000\n",
              "1          0             21591             39262  ...    10    58.8930    48.8930\n",
              "2          0              7310              3622  ...    10     0.0000   -10.0000\n",
              "3          0                20             19562  ...    10    29.3430    19.3430\n",
              "4          1             45589              7554  ...    10    68.3835    58.3835\n",
              "...      ...               ...               ...  ...   ...        ...        ...\n",
              "5495       0             41765            804394  ...    10  1206.5910  1196.5910\n",
              "5496       1               112               794  ...    10     0.0000   -10.0000\n",
              "5497       0             15385              7554  ...    10     0.0000   -10.0000\n",
              "5498       0            265258            322682  ...    10   484.0230   474.0230\n",
              "5499       0               628            504004  ...    10   756.0060   746.0060\n",
              "\n",
              "[5500 rows x 7 columns]"
            ]
          },
          "metadata": {
            "tags": []
          },
          "execution_count": 78
        }
      ]
    },
    {
      "cell_type": "code",
      "metadata": {
        "colab": {
          "base_uri": "https://localhost:8080/"
        },
        "id": "D5RoRsVmMmbZ",
        "outputId": "fad77b8c-aade-4240-f147-adc3b4b7ee77"
      },
      "source": [
        "# With analytics profit sum\n",
        "finvalue_analytics[\"Profit\"].sum()"
      ],
      "execution_count": null,
      "outputs": [
        {
          "output_type": "execute_result",
          "data": {
            "text/plain": [
              "7320068.93"
            ]
          },
          "metadata": {
            "tags": []
          },
          "execution_count": 79
        }
      ]
    },
    {
      "cell_type": "code",
      "metadata": {
        "colab": {
          "base_uri": "https://localhost:8080/"
        },
        "id": "A1Z72vl8MmC3",
        "outputId": "240607e7-51a3-46b3-ead6-bcf867d065b6"
      },
      "source": [
        "# With anaytics profit average\n",
        "finvalue_analytics[\"Profit\"].mean()"
      ],
      "execution_count": null,
      "outputs": [
        {
          "output_type": "execute_result",
          "data": {
            "text/plain": [
              "1330.9216236363634"
            ]
          },
          "metadata": {
            "tags": []
          },
          "execution_count": 80
        }
      ]
    },
    {
      "cell_type": "code",
      "metadata": {
        "colab": {
          "base_uri": "https://localhost:8080/"
        },
        "id": "2UXAratfMlnc",
        "outputId": "17b9231d-e755-424b-b092-db920b071be9"
      },
      "source": [
        "# Calculate the financial value of the perfect model analytics\n",
        "\n",
        "finvalue_perfect = train_df[['Choice','A_follower_count','B_follower_count']]\n",
        "finvalue_perfect[\"Cost\"] = 10\n",
        "finvalue_perfect[\"Revenue\"] = 0\n",
        "\n",
        "finvalue_perfect.loc[(finvalue_perfect[\"Choice\"] == 0),\"Revenue\"] = 0.00015*10*finvalue_perfect[\"B_follower_count\"]\n",
        "finvalue_perfect.loc[(finvalue_perfect[\"Choice\"] == 1),\"Revenue\"] = 0.00015*10*finvalue_perfect[\"A_follower_count\"]\n",
        "\n",
        "finvalue_perfect[\"Profit\"] = finvalue_perfect[\"Revenue\"] - finvalue_perfect[\"Cost\"]"
      ],
      "execution_count": null,
      "outputs": [
        {
          "output_type": "stream",
          "text": [
            "/usr/local/lib/python3.6/dist-packages/ipykernel_launcher.py:4: SettingWithCopyWarning: \n",
            "A value is trying to be set on a copy of a slice from a DataFrame.\n",
            "Try using .loc[row_indexer,col_indexer] = value instead\n",
            "\n",
            "See the caveats in the documentation: https://pandas.pydata.org/pandas-docs/stable/user_guide/indexing.html#returning-a-view-versus-a-copy\n",
            "  after removing the cwd from sys.path.\n",
            "/usr/local/lib/python3.6/dist-packages/ipykernel_launcher.py:5: SettingWithCopyWarning: \n",
            "A value is trying to be set on a copy of a slice from a DataFrame.\n",
            "Try using .loc[row_indexer,col_indexer] = value instead\n",
            "\n",
            "See the caveats in the documentation: https://pandas.pydata.org/pandas-docs/stable/user_guide/indexing.html#returning-a-view-versus-a-copy\n",
            "  \"\"\"\n",
            "/usr/local/lib/python3.6/dist-packages/pandas/core/indexing.py:1743: SettingWithCopyWarning: \n",
            "A value is trying to be set on a copy of a slice from a DataFrame.\n",
            "Try using .loc[row_indexer,col_indexer] = value instead\n",
            "\n",
            "See the caveats in the documentation: https://pandas.pydata.org/pandas-docs/stable/user_guide/indexing.html#returning-a-view-versus-a-copy\n",
            "  isetter(ilocs[0], value)\n",
            "/usr/local/lib/python3.6/dist-packages/pandas/core/indexing.py:1743: SettingWithCopyWarning: \n",
            "A value is trying to be set on a copy of a slice from a DataFrame.\n",
            "Try using .loc[row_indexer,col_indexer] = value instead\n",
            "\n",
            "See the caveats in the documentation: https://pandas.pydata.org/pandas-docs/stable/user_guide/indexing.html#returning-a-view-versus-a-copy\n",
            "  isetter(ilocs[0], value)\n",
            "/usr/local/lib/python3.6/dist-packages/ipykernel_launcher.py:10: SettingWithCopyWarning: \n",
            "A value is trying to be set on a copy of a slice from a DataFrame.\n",
            "Try using .loc[row_indexer,col_indexer] = value instead\n",
            "\n",
            "See the caveats in the documentation: https://pandas.pydata.org/pandas-docs/stable/user_guide/indexing.html#returning-a-view-versus-a-copy\n",
            "  # Remove the CWD from sys.path while we load stuff.\n"
          ],
          "name": "stderr"
        }
      ]
    },
    {
      "cell_type": "code",
      "metadata": {
        "colab": {
          "base_uri": "https://localhost:8080/",
          "height": 402
        },
        "id": "RLNKbNkAMlUB",
        "outputId": "1b3ff5e9-e511-4f53-a2f0-96b624b82d91"
      },
      "source": [
        "finvalue_perfect"
      ],
      "execution_count": null,
      "outputs": [
        {
          "output_type": "execute_result",
          "data": {
            "text/html": [
              "<div>\n",
              "<style scoped>\n",
              "    .dataframe tbody tr th:only-of-type {\n",
              "        vertical-align: middle;\n",
              "    }\n",
              "\n",
              "    .dataframe tbody tr th {\n",
              "        vertical-align: top;\n",
              "    }\n",
              "\n",
              "    .dataframe thead th {\n",
              "        text-align: right;\n",
              "    }\n",
              "</style>\n",
              "<table border=\"1\" class=\"dataframe\">\n",
              "  <thead>\n",
              "    <tr style=\"text-align: right;\">\n",
              "      <th></th>\n",
              "      <th>Choice</th>\n",
              "      <th>A_follower_count</th>\n",
              "      <th>B_follower_count</th>\n",
              "      <th>Cost</th>\n",
              "      <th>Revenue</th>\n",
              "      <th>Profit</th>\n",
              "    </tr>\n",
              "  </thead>\n",
              "  <tbody>\n",
              "    <tr>\n",
              "      <th>0</th>\n",
              "      <td>0</td>\n",
              "      <td>228</td>\n",
              "      <td>34463</td>\n",
              "      <td>10</td>\n",
              "      <td>51.6945</td>\n",
              "      <td>41.6945</td>\n",
              "    </tr>\n",
              "    <tr>\n",
              "      <th>1</th>\n",
              "      <td>0</td>\n",
              "      <td>21591</td>\n",
              "      <td>39262</td>\n",
              "      <td>10</td>\n",
              "      <td>58.8930</td>\n",
              "      <td>48.8930</td>\n",
              "    </tr>\n",
              "    <tr>\n",
              "      <th>2</th>\n",
              "      <td>0</td>\n",
              "      <td>7310</td>\n",
              "      <td>3622</td>\n",
              "      <td>10</td>\n",
              "      <td>5.4330</td>\n",
              "      <td>-4.5670</td>\n",
              "    </tr>\n",
              "    <tr>\n",
              "      <th>3</th>\n",
              "      <td>0</td>\n",
              "      <td>20</td>\n",
              "      <td>19562</td>\n",
              "      <td>10</td>\n",
              "      <td>29.3430</td>\n",
              "      <td>19.3430</td>\n",
              "    </tr>\n",
              "    <tr>\n",
              "      <th>4</th>\n",
              "      <td>1</td>\n",
              "      <td>45589</td>\n",
              "      <td>7554</td>\n",
              "      <td>10</td>\n",
              "      <td>68.3835</td>\n",
              "      <td>58.3835</td>\n",
              "    </tr>\n",
              "    <tr>\n",
              "      <th>...</th>\n",
              "      <td>...</td>\n",
              "      <td>...</td>\n",
              "      <td>...</td>\n",
              "      <td>...</td>\n",
              "      <td>...</td>\n",
              "      <td>...</td>\n",
              "    </tr>\n",
              "    <tr>\n",
              "      <th>5495</th>\n",
              "      <td>0</td>\n",
              "      <td>41765</td>\n",
              "      <td>804394</td>\n",
              "      <td>10</td>\n",
              "      <td>1206.5910</td>\n",
              "      <td>1196.5910</td>\n",
              "    </tr>\n",
              "    <tr>\n",
              "      <th>5496</th>\n",
              "      <td>1</td>\n",
              "      <td>112</td>\n",
              "      <td>794</td>\n",
              "      <td>10</td>\n",
              "      <td>0.1680</td>\n",
              "      <td>-9.8320</td>\n",
              "    </tr>\n",
              "    <tr>\n",
              "      <th>5497</th>\n",
              "      <td>0</td>\n",
              "      <td>15385</td>\n",
              "      <td>7554</td>\n",
              "      <td>10</td>\n",
              "      <td>11.3310</td>\n",
              "      <td>1.3310</td>\n",
              "    </tr>\n",
              "    <tr>\n",
              "      <th>5498</th>\n",
              "      <td>0</td>\n",
              "      <td>265258</td>\n",
              "      <td>322682</td>\n",
              "      <td>10</td>\n",
              "      <td>484.0230</td>\n",
              "      <td>474.0230</td>\n",
              "    </tr>\n",
              "    <tr>\n",
              "      <th>5499</th>\n",
              "      <td>0</td>\n",
              "      <td>628</td>\n",
              "      <td>504004</td>\n",
              "      <td>10</td>\n",
              "      <td>756.0060</td>\n",
              "      <td>746.0060</td>\n",
              "    </tr>\n",
              "  </tbody>\n",
              "</table>\n",
              "<p>5500 rows × 6 columns</p>\n",
              "</div>"
            ],
            "text/plain": [
              "      Choice  A_follower_count  B_follower_count  Cost    Revenue     Profit\n",
              "0          0               228             34463    10    51.6945    41.6945\n",
              "1          0             21591             39262    10    58.8930    48.8930\n",
              "2          0              7310              3622    10     5.4330    -4.5670\n",
              "3          0                20             19562    10    29.3430    19.3430\n",
              "4          1             45589              7554    10    68.3835    58.3835\n",
              "...      ...               ...               ...   ...        ...        ...\n",
              "5495       0             41765            804394    10  1206.5910  1196.5910\n",
              "5496       1               112               794    10     0.1680    -9.8320\n",
              "5497       0             15385              7554    10    11.3310     1.3310\n",
              "5498       0            265258            322682    10   484.0230   474.0230\n",
              "5499       0               628            504004    10   756.0060   746.0060\n",
              "\n",
              "[5500 rows x 6 columns]"
            ]
          },
          "metadata": {
            "tags": []
          },
          "execution_count": 82
        }
      ]
    },
    {
      "cell_type": "code",
      "metadata": {
        "colab": {
          "base_uri": "https://localhost:8080/"
        },
        "id": "Xkspa9ToMk2-",
        "outputId": "55de3746-eac9-44bd-cf51-7731aa541a1e"
      },
      "source": [
        "# Perfect model profit sum\n",
        "finvalue_perfect[\"Profit\"].sum()"
      ],
      "execution_count": null,
      "outputs": [
        {
          "output_type": "execute_result",
          "data": {
            "text/plain": [
              "8009852.8895"
            ]
          },
          "metadata": {
            "tags": []
          },
          "execution_count": 83
        }
      ]
    },
    {
      "cell_type": "code",
      "metadata": {
        "colab": {
          "base_uri": "https://localhost:8080/"
        },
        "id": "cJ2cqfwuM3o8",
        "outputId": "0de7eb07-760d-4a9d-bacd-ef86dcc1f6e4"
      },
      "source": [
        "# Perfect model profit average\n",
        "finvalue_perfect[\"Profit\"].mean()"
      ],
      "execution_count": null,
      "outputs": [
        {
          "output_type": "execute_result",
          "data": {
            "text/plain": [
              "1456.3368889999986"
            ]
          },
          "metadata": {
            "tags": []
          },
          "execution_count": 84
        }
      ]
    },
    {
      "cell_type": "markdown",
      "metadata": {
        "id": "6_BZQZga413R"
      },
      "source": [
        "**What is the lift in expected net profit from using analytic model?**\n",
        "\n"
      ]
    },
    {
      "cell_type": "markdown",
      "metadata": {
        "id": "WIQWvurb5B6L"
      },
      "source": [
        "Lift in expected net profit from using Analytic Model: (Mean Profit with analytics - Mean Profit without analytics)/Mean Profit without analytics: (1330.9216236363634 - 967.557925999997)/967.557925999997 = 0.376\r\n",
        "\r\n",
        "*Using analytics increased the average profit per person by 37.6%*"
      ]
    },
    {
      "cell_type": "markdown",
      "metadata": {
        "id": "sQgUKurd5Huv"
      },
      "source": [
        "**What is the lift in net profit from using a perfect analytic model?**"
      ]
    },
    {
      "cell_type": "markdown",
      "metadata": {
        "id": "TLN-GbMLM8YP"
      },
      "source": [
        "Lift in expected net profit from using Perfect model:\n",
        "(Mean Profit of perfect model with analytics - Mean Profit without analytics)/Mean Profit without analytics: (1456.3368889999986 - 967.557925999997)/967.557925999997 = 0.505\n",
        "\n",
        "*Using the perfect model with analytics increased the average profit per person by 50.5%*\n",
        "\n",
        "\n"
      ]
    },
    {
      "cell_type": "markdown",
      "metadata": {
        "id": "5EuQN5jbOM0e"
      },
      "source": [
        "# Part 2.1 Twitter Scraping "
      ]
    },
    {
      "cell_type": "markdown",
      "metadata": {
        "id": "Zi_3qA9r6bZU"
      },
      "source": [
        "The topic chosen for the project is the impeachment of President Trump. The hashtags that were searched are:\r\n",
        "\r\n",
        "1.   #impeachment\r\n",
        "2.   #DonaldTrump\r\n",
        "3.   #insurrectionists\r\n",
        "4.   #UScapitol\r\n",
        "\r\n"
      ]
    },
    {
      "cell_type": "code",
      "metadata": {
        "id": "bGEyNADlJ-tE"
      },
      "source": [
        " #!/usr/bin/python2.7\n",
        "# change keywords in line 82; this script will fecth 3000 tweets\n",
        "# if you get no module named oauth2, install with pip2.7 install --user oauth2\n",
        "# the tweets will be written in a file tweets.csv\n",
        "# make sure you change the outout file name when you run this script multiple timees.\n",
        "!pip install oauth2\n",
        "#!pip install urllib2\n",
        "import oauth2 as oauth\n",
        "import csv\n",
        "from csv import writer\n",
        "import json\n",
        "import time\n",
        "#import urllib2 as urllib\n",
        "import urllib.request as urllib\n",
        "import pandas as pd\n",
        "\n",
        "import os\n",
        "\n",
        "from google.colab import drive \n",
        "drive.mount('/content/drive/')\n",
        "\n",
        "os.chdir('/content/drive/Shared drives/UTMSBA SMA/HW1/twitter data')"
      ],
      "execution_count": null,
      "outputs": []
    },
    {
      "cell_type": "markdown",
      "metadata": {
        "id": "9t1FUAFCmMQP"
      },
      "source": [
        "Set up the developer keys to scrape Twitter"
      ]
    },
    {
      "cell_type": "code",
      "metadata": {
        "id": "D0FSExGyOObs"
      },
      "source": [
        "'''\n",
        "api_key = \"C5hjotqtklX1lOAm2fbtyjzCZ\"\n",
        "api_secret = \"gj4ZwiAHaOlDU24FqboWKmjBcBYVVkngwifoUeN9J67KdMX2R4\"\n",
        "access_token_key = \"103593847-0lo2TTtkQG9GlOuPwzyFeRQoCzF9lWwEQO0uw03k\"\n",
        "access_token_secret = \"mY2SE7tndPFKiNT82w7DWgPptvl2NyO6J3Khe5D6Rpgp1\"\n",
        "'''\n",
        "api_key = \"8FgvmN0U8guMURWdECfJuenw1\"\n",
        "api_secret = \"LiPmqyuxWrfXcWOeFppGbXePjnhmZ5QEzPd8C2uC2C2ymQ3NsP\"\n",
        "access_token_key = \"435122233-pKq1sbPM9VfSF0V79DVMh6ye7EE56NqJ7F4MdrLg\"\n",
        "access_token_secret = \"BuyCyNN9niLFDAGTs5KBzkk2lTy1UvnnL0CuJ2ePvCzLb\"\n",
        "\n",
        "\n",
        "\n",
        "_debug=0\n",
        "\n",
        "oauth_token    = oauth.Token(key=access_token_key, secret=access_token_secret)\n",
        "oauth_consumer = oauth.Consumer(key=api_key, secret=api_secret)\n",
        "\n",
        "signature_method_hmac_sha1 = oauth.SignatureMethod_HMAC_SHA1()\n",
        "\n",
        "http_method = \"GET\"\n",
        "\n",
        "http_handler  = urllib.HTTPHandler(debuglevel=_debug)\n",
        "https_handler = urllib.HTTPSHandler(debuglevel=_debug)"
      ],
      "execution_count": null,
      "outputs": []
    },
    {
      "cell_type": "markdown",
      "metadata": {
        "id": "J5Rr1fYDmcBV"
      },
      "source": [
        "Fetch a topic that has plenty of tweets and use its list of \"max_id\" to scrape for our topic"
      ]
    },
    {
      "cell_type": "code",
      "metadata": {
        "id": "PvLWfnLcOOek"
      },
      "source": [
        "'''\n",
        "Construct, sign, and open a twitter request\n",
        "using the hard-coded credentials above.\n",
        "'''\n",
        "def twitterreq(url, method, parameters):\n",
        "  req = oauth.Request.from_consumer_and_token(oauth_consumer,\n",
        "                                             token=oauth_token,\n",
        "                                             http_method=http_method,\n",
        "                                             http_url=url,\n",
        "                                             parameters=parameters)\n",
        "\n",
        "  req.sign_request(signature_method_hmac_sha1, oauth_consumer, oauth_token)\n",
        "\n",
        "  headers = req.to_header()\n",
        "\n",
        "  if http_method == \"POST\":\n",
        "    encoded_post_data = req.to_postdata()\n",
        "  else:\n",
        "    encoded_post_data = None\n",
        "    url = req.to_url()\n",
        "\n",
        "  opener = urllib.OpenerDirector()\n",
        "  opener.add_handler(http_handler)\n",
        "  opener.add_handler(https_handler)\n",
        "\n",
        "  response = opener.open(url, encoded_post_data)\n",
        "\n",
        "  return response\n",
        "\n",
        "\n",
        "#####get big ben clock tweets id\n",
        "def fetch_bigben():\n",
        "  url = \"https://api.twitter.com/1.1/search/tweets.json?q=big_ben_clock&count=100&result_type=recent\"\n",
        "  parameters = []\n",
        "  response = twitterreq(url, \"GET\", parameters)\n",
        "  return response\n",
        "\n",
        "id_list=[]\n",
        "\n",
        "re=fetch_bigben()\n",
        "\n",
        "re_j=json.load(re)\n",
        "re_j=re_j['statuses']\n",
        "for a in re_j:\n",
        "  id_list.append(a[\"id\"])\n",
        "#####end of big ben\n",
        "\n",
        "\n",
        "#####get tweets about a topic\n",
        "# tags searched: \n",
        "# #impeachment, #DonaldTrump, #insurrectionists, #UScapitol\n",
        "tweets_num=3000 # number of tweets we want   <3000\n",
        "parameters = []\n",
        "js=[]\n",
        "for i in range(int(tweets_num/100)):\n",
        "  url = \"https://api.twitter.com/1.1/search/tweets.json?q=%23impeachment&lang=en&count=100&result_type=recent&max_id=\"+str(id_list[2*i])\n",
        "  response = twitterreq(url, \"GET\", parameters)\n",
        "  re_j=json.load(response)\n",
        "  re_j=re_j['statuses']\n",
        "  js.append(re_j)\n",
        "  time.sleep(1)\n"
      ],
      "execution_count": null,
      "outputs": []
    },
    {
      "cell_type": "code",
      "metadata": {
        "id": "ZkJoORLqOOjM"
      },
      "source": [
        "ids=[]\n",
        "create_time=[]\n",
        "screen_name=[]\n",
        "followers=[]\n",
        "listed=[]\n",
        "retweet=[]\n",
        "inreplyto=[]\n",
        "favorite=[]\n",
        "friends=[]\n",
        "text=[]\n",
        "location=[]\n",
        "\n",
        "for tweets in js:\n",
        "  for tweet in tweets:\n",
        "    if tweet.get('user'):\n",
        "        ids.append(tweet['user']['id'])\n",
        "        create_time.append(tweet['created_at'])\n",
        "        retweet.append(tweet['retweet_count'])\n",
        "        favorite.append(tweet['favorite_count'])\n",
        "        inreplyto.append(tweet['in_reply_to_screen_name'])\n",
        "        friends.append(tweet['user']['friends_count'])\n",
        "        screen_name.append(tweet['user']['screen_name'])\n",
        "        followers.append(tweet['user']['followers_count'])\n",
        "        listed.append(tweet['user']['listed_count'])\n",
        "        text.append(tweet['text'])\n",
        "        location.append(tweet['user']['location'])\n"
      ],
      "execution_count": null,
      "outputs": []
    },
    {
      "cell_type": "code",
      "metadata": {
        "id": "fgZXwFYJOOpg"
      },
      "source": [
        "#######output tweets file\n",
        "out = open('twitter.csv','w')\n",
        "#print >> out, 'ids, screen_name, followers, retweet, inreplyto, favorite, friends, listed, location, text'\n",
        "\n",
        "rows = zip(ids, create_time, screen_name, followers, retweet, inreplyto, favorite, friends, listed, location, text)\n",
        "field_names = ['ids','create_time','screen_name','followers','retweet','inreplyto','favorite','friends','listed','location','text']\n",
        "\n",
        "csv = writer(out)\n",
        "csv.writerow(field_names)\n",
        "for row in rows:\n",
        "    values = [(value.encode('utf8') if hasattr(value, 'encode') else value) for value in row]\n",
        "    csv.writerow(values)\n",
        "print(\"Written to tweets.csv in Files\")\n",
        "out.close()"
      ],
      "execution_count": null,
      "outputs": []
    },
    {
      "cell_type": "markdown",
      "metadata": {
        "id": "pkYmdhavmsJP"
      },
      "source": [
        "Loop through the file destination to combine all csv files"
      ]
    },
    {
      "cell_type": "code",
      "metadata": {
        "id": "zt1SGF-DOQZI"
      },
      "source": [
        "import pandas as pd\n",
        "import glob\n",
        "\n",
        "path = '/content/drive/Shared drives/UTMSBA SMA/HW1/twitter data/*.csv'"
      ],
      "execution_count": null,
      "outputs": []
    },
    {
      "cell_type": "code",
      "metadata": {
        "id": "xerAK6bUOQdh"
      },
      "source": [
        "# Create empty dataframe\n",
        "df1 = pd.DataFrame()\n",
        "for fname in glob.glob(path):\n",
        "    tmp = pd.read_csv(fname)\n",
        "    filename = os.path.basename(fname).rstrip('.csv')\n",
        "    tmp['csv_topic'] = filename\n",
        "    df1 = df1.append(tmp, ignore_index=True)\n",
        "len(df1)\n"
      ],
      "execution_count": null,
      "outputs": []
    },
    {
      "cell_type": "markdown",
      "metadata": {
        "id": "vWqLdQyOnGBq"
      },
      "source": [
        "Drop duplicates if a tweet is scraped in multiple csv"
      ]
    },
    {
      "cell_type": "code",
      "metadata": {
        "id": "R3ZZv-S1oKeK"
      },
      "source": [
        "df11 = df1.drop_duplicates(ignore_index=True)\n",
        "len(df11)"
      ],
      "execution_count": null,
      "outputs": []
    },
    {
      "cell_type": "code",
      "metadata": {
        "id": "TVcpoGEqoM5X"
      },
      "source": [
        "df2 = df1.drop(columns=['csv_topic'])\n",
        "df = df2.drop_duplicates(ignore_index=True)\n",
        "len(df)"
      ],
      "execution_count": null,
      "outputs": []
    },
    {
      "cell_type": "code",
      "metadata": {
        "id": "fC7GaHnXoOdw"
      },
      "source": [
        "df.to_csv('combined.csv')"
      ],
      "execution_count": null,
      "outputs": []
    },
    {
      "cell_type": "markdown",
      "metadata": {
        "id": "FFI-BzRAPdA3"
      },
      "source": [
        "# Part 2.2 Twitter Analytics "
      ]
    },
    {
      "cell_type": "markdown",
      "metadata": {
        "id": "Y_ihaFkLvTOM"
      },
      "source": [
        "The tweets that were searched for in the previous section correspond to the impeachment of President Trump. It is expected that the primary influencers in the network will be politicians and major media outlets."
      ]
    },
    {
      "cell_type": "markdown",
      "metadata": {
        "id": "Kd_bdoOvLG4G"
      },
      "source": [
        "The first step is to read in the tweets that have been scraped."
      ]
    },
    {
      "cell_type": "code",
      "metadata": {
        "id": "Q6AV-p0PVpR_"
      },
      "source": [
        "import pandas as pd \n",
        "import numpy as np\n",
        "import os\n",
        "import re "
      ],
      "execution_count": null,
      "outputs": []
    },
    {
      "cell_type": "code",
      "metadata": {
        "id": "dtSWp8YAVt9N",
        "colab": {
          "base_uri": "https://localhost:8080/"
        },
        "outputId": "037a7146-6b11-40bc-80fb-9dffedf5f655"
      },
      "source": [
        "from google.colab import drive\n",
        "drive.mount('/content/drive')"
      ],
      "execution_count": null,
      "outputs": [
        {
          "output_type": "stream",
          "text": [
            "Drive already mounted at /content/drive; to attempt to forcibly remount, call drive.mount(\"/content/drive\", force_remount=True).\n"
          ],
          "name": "stdout"
        }
      ]
    },
    {
      "cell_type": "code",
      "metadata": {
        "id": "Xgn0XzLPVuC9"
      },
      "source": [
        "df = pd.read_csv('/content/drive/Shareddrives/UTMSBA SMA/HW1_trial_2/combined.csv', index_col=0)"
      ],
      "execution_count": null,
      "outputs": []
    },
    {
      "cell_type": "code",
      "metadata": {
        "id": "SDUET78KVuNy",
        "colab": {
          "base_uri": "https://localhost:8080/",
          "height": 204
        },
        "outputId": "7958d4f9-6f01-45c4-e494-95e3ecd23621"
      },
      "source": [
        "df.head()"
      ],
      "execution_count": null,
      "outputs": [
        {
          "output_type": "execute_result",
          "data": {
            "text/html": [
              "<div>\n",
              "<style scoped>\n",
              "    .dataframe tbody tr th:only-of-type {\n",
              "        vertical-align: middle;\n",
              "    }\n",
              "\n",
              "    .dataframe tbody tr th {\n",
              "        vertical-align: top;\n",
              "    }\n",
              "\n",
              "    .dataframe thead th {\n",
              "        text-align: right;\n",
              "    }\n",
              "</style>\n",
              "<table border=\"1\" class=\"dataframe\">\n",
              "  <thead>\n",
              "    <tr style=\"text-align: right;\">\n",
              "      <th></th>\n",
              "      <th>ids</th>\n",
              "      <th>create_time</th>\n",
              "      <th>screen_name</th>\n",
              "      <th>followers</th>\n",
              "      <th>retweet</th>\n",
              "      <th>inreplyto</th>\n",
              "      <th>favorite</th>\n",
              "      <th>friends</th>\n",
              "      <th>listed</th>\n",
              "      <th>location</th>\n",
              "      <th>text</th>\n",
              "    </tr>\n",
              "  </thead>\n",
              "  <tbody>\n",
              "    <tr>\n",
              "      <th>0</th>\n",
              "      <td>386329908</td>\n",
              "      <td>b'Sun Feb 07 07:41:28 +0000 2021'</td>\n",
              "      <td>b'Rubygirl_Tweets'</td>\n",
              "      <td>1978</td>\n",
              "      <td>2549</td>\n",
              "      <td>NaN</td>\n",
              "      <td>0</td>\n",
              "      <td>2813</td>\n",
              "      <td>4</td>\n",
              "      <td>b'Democratic Hellscape'</td>\n",
              "      <td>b'RT @rgoodlaw: NEW\\n\\nExclusive footage of Ro...</td>\n",
              "    </tr>\n",
              "    <tr>\n",
              "      <th>1</th>\n",
              "      <td>163299688</td>\n",
              "      <td>b'Sun Feb 07 07:41:16 +0000 2021'</td>\n",
              "      <td>b'DennisCardiff'</td>\n",
              "      <td>140010</td>\n",
              "      <td>2549</td>\n",
              "      <td>NaN</td>\n",
              "      <td>0</td>\n",
              "      <td>153976</td>\n",
              "      <td>1752</td>\n",
              "      <td>b'Ottawa, Canada'</td>\n",
              "      <td>b'RT @rgoodlaw: NEW\\n\\nExclusive footage of Ro...</td>\n",
              "    </tr>\n",
              "    <tr>\n",
              "      <th>2</th>\n",
              "      <td>1372464902</td>\n",
              "      <td>b'Sun Feb 07 07:39:42 +0000 2021'</td>\n",
              "      <td>b'ajisfabulous'</td>\n",
              "      <td>2380</td>\n",
              "      <td>2549</td>\n",
              "      <td>NaN</td>\n",
              "      <td>0</td>\n",
              "      <td>204</td>\n",
              "      <td>20</td>\n",
              "      <td>b''</td>\n",
              "      <td>b'RT @rgoodlaw: NEW\\n\\nExclusive footage of Ro...</td>\n",
              "    </tr>\n",
              "    <tr>\n",
              "      <th>3</th>\n",
              "      <td>23308670</td>\n",
              "      <td>b'Sun Feb 07 07:37:47 +0000 2021'</td>\n",
              "      <td>b'PurrpleKrystal'</td>\n",
              "      <td>627</td>\n",
              "      <td>0</td>\n",
              "      <td>b'MaddowBlog'</td>\n",
              "      <td>0</td>\n",
              "      <td>1552</td>\n",
              "      <td>20</td>\n",
              "      <td>b'San Diego'</td>\n",
              "      <td>b'@MaddowBlog I hope this is brought up in the...</td>\n",
              "    </tr>\n",
              "    <tr>\n",
              "      <th>4</th>\n",
              "      <td>23308670</td>\n",
              "      <td>b'Sun Feb 07 07:37:18 +0000 2021'</td>\n",
              "      <td>b'PurrpleKrystal'</td>\n",
              "      <td>627</td>\n",
              "      <td>0</td>\n",
              "      <td>NaN</td>\n",
              "      <td>0</td>\n",
              "      <td>1552</td>\n",
              "      <td>20</td>\n",
              "      <td>b'San Diego'</td>\n",
              "      <td>b'I hope this is brought up in the #ConvictAnd...</td>\n",
              "    </tr>\n",
              "  </tbody>\n",
              "</table>\n",
              "</div>"
            ],
            "text/plain": [
              "          ids  ...                                               text\n",
              "0   386329908  ...  b'RT @rgoodlaw: NEW\\n\\nExclusive footage of Ro...\n",
              "1   163299688  ...  b'RT @rgoodlaw: NEW\\n\\nExclusive footage of Ro...\n",
              "2  1372464902  ...  b'RT @rgoodlaw: NEW\\n\\nExclusive footage of Ro...\n",
              "3    23308670  ...  b'@MaddowBlog I hope this is brought up in the...\n",
              "4    23308670  ...  b'I hope this is brought up in the #ConvictAnd...\n",
              "\n",
              "[5 rows x 11 columns]"
            ]
          },
          "metadata": {
            "tags": []
          },
          "execution_count": 7
        }
      ]
    },
    {
      "cell_type": "markdown",
      "metadata": {
        "id": "VMdFRBBSu6i7"
      },
      "source": [
        "The total number of tweets as well as values in each column is shown below."
      ]
    },
    {
      "cell_type": "code",
      "metadata": {
        "id": "8Z5_J0T_V8px",
        "colab": {
          "base_uri": "https://localhost:8080/"
        },
        "outputId": "e9ec42e7-d5ac-4b64-ce7d-fe8e324eeaf0"
      },
      "source": [
        "df.count()"
      ],
      "execution_count": null,
      "outputs": [
        {
          "output_type": "execute_result",
          "data": {
            "text/plain": [
              "ids            6031\n",
              "create_time    6031\n",
              "screen_name    6031\n",
              "followers      6031\n",
              "retweet        6031\n",
              "inreplyto       464\n",
              "favorite       6031\n",
              "friends        6031\n",
              "listed         6031\n",
              "location       6031\n",
              "text           6031\n",
              "dtype: int64"
            ]
          },
          "metadata": {
            "tags": []
          },
          "execution_count": 8
        }
      ]
    },
    {
      "cell_type": "markdown",
      "metadata": {
        "id": "ADeq1zuIV_2U"
      },
      "source": [
        "The next step is to create functions that will be used to create the three column csv file. The function *screen_name_extractor* returns the name of the twitter user. The next function, *find_twitter_handles* is used to find twitter handles in the text of the tweet. The final function, *classify_tweets* is used to classify the tweet as a mention or reply, retweet or just a tweet."
      ]
    },
    {
      "cell_type": "code",
      "metadata": {
        "id": "3qhk0uqWV80l"
      },
      "source": [
        "def screen_name_extractor(string):\n",
        "    new_string = string.lstrip(\"b'\")\n",
        "    new_string = new_string.rstrip(\"'\")\n",
        "    return new_string\n",
        "\n",
        "def find_twitter_handles(s):\n",
        "    tweeter = re.findall('\\s@[a-zA-Z0-9_]+:', s)\n",
        "    if tweeter == []:\n",
        "        direct = re.findall('@[a-zA-Z0-9_]+', s)\n",
        "        if direct == []:\n",
        "            return np.NaN\n",
        "        else:\n",
        "            return direct[0].lstrip('@')\n",
        "    else:\n",
        "        new_tweeter =  tweeter[0].lstrip(' @')\n",
        "        return new_tweeter.rstrip(':')\n",
        "\n",
        "def classify_tweet(s):\n",
        "    tweeter = re.findall('\\s@[a-zA-Z0-9_]+:', s)\n",
        "    if tweeter == []:\n",
        "        direct = re.findall('@[a-zA-Z0-9_]+', s)\n",
        "        if direct == []:\n",
        "            return 'Tweet (self-loop)'\n",
        "        else:\n",
        "            return 'Mention'\n",
        "    else:\n",
        "        return 'RT'"
      ],
      "execution_count": null,
      "outputs": []
    },
    {
      "cell_type": "markdown",
      "metadata": {
        "id": "fQ5qFI5TWHCZ"
      },
      "source": [
        "The *screen_name_extractor* function is used below. The screen names are returned to the clean_screen_name colum."
      ]
    },
    {
      "cell_type": "code",
      "metadata": {
        "id": "x88eQAM2V84Q"
      },
      "source": [
        "df['clean_screen_name'] = df['screen_name'].map(screen_name_extractor)"
      ],
      "execution_count": null,
      "outputs": []
    },
    {
      "cell_type": "code",
      "metadata": {
        "id": "SPLDpLNnV9CG",
        "colab": {
          "base_uri": "https://localhost:8080/",
          "height": 289
        },
        "outputId": "169621fb-c45c-4ae4-c813-fd4f69b69fe7"
      },
      "source": [
        "df.head()"
      ],
      "execution_count": null,
      "outputs": [
        {
          "output_type": "execute_result",
          "data": {
            "text/html": [
              "<div>\n",
              "<style scoped>\n",
              "    .dataframe tbody tr th:only-of-type {\n",
              "        vertical-align: middle;\n",
              "    }\n",
              "\n",
              "    .dataframe tbody tr th {\n",
              "        vertical-align: top;\n",
              "    }\n",
              "\n",
              "    .dataframe thead th {\n",
              "        text-align: right;\n",
              "    }\n",
              "</style>\n",
              "<table border=\"1\" class=\"dataframe\">\n",
              "  <thead>\n",
              "    <tr style=\"text-align: right;\">\n",
              "      <th></th>\n",
              "      <th>ids</th>\n",
              "      <th>create_time</th>\n",
              "      <th>screen_name</th>\n",
              "      <th>followers</th>\n",
              "      <th>retweet</th>\n",
              "      <th>inreplyto</th>\n",
              "      <th>favorite</th>\n",
              "      <th>friends</th>\n",
              "      <th>listed</th>\n",
              "      <th>location</th>\n",
              "      <th>text</th>\n",
              "      <th>clean_screen_name</th>\n",
              "    </tr>\n",
              "  </thead>\n",
              "  <tbody>\n",
              "    <tr>\n",
              "      <th>0</th>\n",
              "      <td>386329908</td>\n",
              "      <td>b'Sun Feb 07 07:41:28 +0000 2021'</td>\n",
              "      <td>b'Rubygirl_Tweets'</td>\n",
              "      <td>1978</td>\n",
              "      <td>2549</td>\n",
              "      <td>NaN</td>\n",
              "      <td>0</td>\n",
              "      <td>2813</td>\n",
              "      <td>4</td>\n",
              "      <td>b'Democratic Hellscape'</td>\n",
              "      <td>b'RT @rgoodlaw: NEW\\n\\nExclusive footage of Ro...</td>\n",
              "      <td>Rubygirl_Tweets</td>\n",
              "    </tr>\n",
              "    <tr>\n",
              "      <th>1</th>\n",
              "      <td>163299688</td>\n",
              "      <td>b'Sun Feb 07 07:41:16 +0000 2021'</td>\n",
              "      <td>b'DennisCardiff'</td>\n",
              "      <td>140010</td>\n",
              "      <td>2549</td>\n",
              "      <td>NaN</td>\n",
              "      <td>0</td>\n",
              "      <td>153976</td>\n",
              "      <td>1752</td>\n",
              "      <td>b'Ottawa, Canada'</td>\n",
              "      <td>b'RT @rgoodlaw: NEW\\n\\nExclusive footage of Ro...</td>\n",
              "      <td>DennisCardiff</td>\n",
              "    </tr>\n",
              "    <tr>\n",
              "      <th>2</th>\n",
              "      <td>1372464902</td>\n",
              "      <td>b'Sun Feb 07 07:39:42 +0000 2021'</td>\n",
              "      <td>b'ajisfabulous'</td>\n",
              "      <td>2380</td>\n",
              "      <td>2549</td>\n",
              "      <td>NaN</td>\n",
              "      <td>0</td>\n",
              "      <td>204</td>\n",
              "      <td>20</td>\n",
              "      <td>b''</td>\n",
              "      <td>b'RT @rgoodlaw: NEW\\n\\nExclusive footage of Ro...</td>\n",
              "      <td>ajisfabulous</td>\n",
              "    </tr>\n",
              "    <tr>\n",
              "      <th>3</th>\n",
              "      <td>23308670</td>\n",
              "      <td>b'Sun Feb 07 07:37:47 +0000 2021'</td>\n",
              "      <td>b'PurrpleKrystal'</td>\n",
              "      <td>627</td>\n",
              "      <td>0</td>\n",
              "      <td>b'MaddowBlog'</td>\n",
              "      <td>0</td>\n",
              "      <td>1552</td>\n",
              "      <td>20</td>\n",
              "      <td>b'San Diego'</td>\n",
              "      <td>b'@MaddowBlog I hope this is brought up in the...</td>\n",
              "      <td>PurrpleKrystal</td>\n",
              "    </tr>\n",
              "    <tr>\n",
              "      <th>4</th>\n",
              "      <td>23308670</td>\n",
              "      <td>b'Sun Feb 07 07:37:18 +0000 2021'</td>\n",
              "      <td>b'PurrpleKrystal'</td>\n",
              "      <td>627</td>\n",
              "      <td>0</td>\n",
              "      <td>NaN</td>\n",
              "      <td>0</td>\n",
              "      <td>1552</td>\n",
              "      <td>20</td>\n",
              "      <td>b'San Diego'</td>\n",
              "      <td>b'I hope this is brought up in the #ConvictAnd...</td>\n",
              "      <td>PurrpleKrystal</td>\n",
              "    </tr>\n",
              "  </tbody>\n",
              "</table>\n",
              "</div>"
            ],
            "text/plain": [
              "          ids  ... clean_screen_name\n",
              "0   386329908  ...   Rubygirl_Tweets\n",
              "1   163299688  ...     DennisCardiff\n",
              "2  1372464902  ...      ajisfabulous\n",
              "3    23308670  ...    PurrpleKrystal\n",
              "4    23308670  ...    PurrpleKrystal\n",
              "\n",
              "[5 rows x 12 columns]"
            ]
          },
          "metadata": {
            "tags": []
          },
          "execution_count": 12
        }
      ]
    },
    {
      "cell_type": "markdown",
      "metadata": {
        "id": "AJkw-mbGWToq"
      },
      "source": [
        "Below, the *find_twitter_handles* function is used to find the twitter handles in a tweet. The values are returned to the column called rt."
      ]
    },
    {
      "cell_type": "code",
      "metadata": {
        "id": "JDV3nimPV9NB"
      },
      "source": [
        "df['rt'] = df['text'].map(find_twitter_handles)"
      ],
      "execution_count": null,
      "outputs": []
    },
    {
      "cell_type": "code",
      "metadata": {
        "id": "kQbcHZ3iWWwc",
        "colab": {
          "base_uri": "https://localhost:8080/",
          "height": 289
        },
        "outputId": "22e5e1b8-fe44-4c9f-cf9a-e23c0cf23e7b"
      },
      "source": [
        "df.head()"
      ],
      "execution_count": null,
      "outputs": [
        {
          "output_type": "execute_result",
          "data": {
            "text/html": [
              "<div>\n",
              "<style scoped>\n",
              "    .dataframe tbody tr th:only-of-type {\n",
              "        vertical-align: middle;\n",
              "    }\n",
              "\n",
              "    .dataframe tbody tr th {\n",
              "        vertical-align: top;\n",
              "    }\n",
              "\n",
              "    .dataframe thead th {\n",
              "        text-align: right;\n",
              "    }\n",
              "</style>\n",
              "<table border=\"1\" class=\"dataframe\">\n",
              "  <thead>\n",
              "    <tr style=\"text-align: right;\">\n",
              "      <th></th>\n",
              "      <th>ids</th>\n",
              "      <th>create_time</th>\n",
              "      <th>screen_name</th>\n",
              "      <th>followers</th>\n",
              "      <th>retweet</th>\n",
              "      <th>inreplyto</th>\n",
              "      <th>favorite</th>\n",
              "      <th>friends</th>\n",
              "      <th>listed</th>\n",
              "      <th>location</th>\n",
              "      <th>text</th>\n",
              "      <th>clean_screen_name</th>\n",
              "      <th>rt</th>\n",
              "    </tr>\n",
              "  </thead>\n",
              "  <tbody>\n",
              "    <tr>\n",
              "      <th>0</th>\n",
              "      <td>386329908</td>\n",
              "      <td>b'Sun Feb 07 07:41:28 +0000 2021'</td>\n",
              "      <td>b'Rubygirl_Tweets'</td>\n",
              "      <td>1978</td>\n",
              "      <td>2549</td>\n",
              "      <td>NaN</td>\n",
              "      <td>0</td>\n",
              "      <td>2813</td>\n",
              "      <td>4</td>\n",
              "      <td>b'Democratic Hellscape'</td>\n",
              "      <td>b'RT @rgoodlaw: NEW\\n\\nExclusive footage of Ro...</td>\n",
              "      <td>Rubygirl_Tweets</td>\n",
              "      <td>rgoodlaw</td>\n",
              "    </tr>\n",
              "    <tr>\n",
              "      <th>1</th>\n",
              "      <td>163299688</td>\n",
              "      <td>b'Sun Feb 07 07:41:16 +0000 2021'</td>\n",
              "      <td>b'DennisCardiff'</td>\n",
              "      <td>140010</td>\n",
              "      <td>2549</td>\n",
              "      <td>NaN</td>\n",
              "      <td>0</td>\n",
              "      <td>153976</td>\n",
              "      <td>1752</td>\n",
              "      <td>b'Ottawa, Canada'</td>\n",
              "      <td>b'RT @rgoodlaw: NEW\\n\\nExclusive footage of Ro...</td>\n",
              "      <td>DennisCardiff</td>\n",
              "      <td>rgoodlaw</td>\n",
              "    </tr>\n",
              "    <tr>\n",
              "      <th>2</th>\n",
              "      <td>1372464902</td>\n",
              "      <td>b'Sun Feb 07 07:39:42 +0000 2021'</td>\n",
              "      <td>b'ajisfabulous'</td>\n",
              "      <td>2380</td>\n",
              "      <td>2549</td>\n",
              "      <td>NaN</td>\n",
              "      <td>0</td>\n",
              "      <td>204</td>\n",
              "      <td>20</td>\n",
              "      <td>b''</td>\n",
              "      <td>b'RT @rgoodlaw: NEW\\n\\nExclusive footage of Ro...</td>\n",
              "      <td>ajisfabulous</td>\n",
              "      <td>rgoodlaw</td>\n",
              "    </tr>\n",
              "    <tr>\n",
              "      <th>3</th>\n",
              "      <td>23308670</td>\n",
              "      <td>b'Sun Feb 07 07:37:47 +0000 2021'</td>\n",
              "      <td>b'PurrpleKrystal'</td>\n",
              "      <td>627</td>\n",
              "      <td>0</td>\n",
              "      <td>b'MaddowBlog'</td>\n",
              "      <td>0</td>\n",
              "      <td>1552</td>\n",
              "      <td>20</td>\n",
              "      <td>b'San Diego'</td>\n",
              "      <td>b'@MaddowBlog I hope this is brought up in the...</td>\n",
              "      <td>PurrpleKrystal</td>\n",
              "      <td>MaddowBlog</td>\n",
              "    </tr>\n",
              "    <tr>\n",
              "      <th>4</th>\n",
              "      <td>23308670</td>\n",
              "      <td>b'Sun Feb 07 07:37:18 +0000 2021'</td>\n",
              "      <td>b'PurrpleKrystal'</td>\n",
              "      <td>627</td>\n",
              "      <td>0</td>\n",
              "      <td>NaN</td>\n",
              "      <td>0</td>\n",
              "      <td>1552</td>\n",
              "      <td>20</td>\n",
              "      <td>b'San Diego'</td>\n",
              "      <td>b'I hope this is brought up in the #ConvictAnd...</td>\n",
              "      <td>PurrpleKrystal</td>\n",
              "      <td>NaN</td>\n",
              "    </tr>\n",
              "  </tbody>\n",
              "</table>\n",
              "</div>"
            ],
            "text/plain": [
              "          ids                        create_time  ... clean_screen_name          rt\n",
              "0   386329908  b'Sun Feb 07 07:41:28 +0000 2021'  ...   Rubygirl_Tweets    rgoodlaw\n",
              "1   163299688  b'Sun Feb 07 07:41:16 +0000 2021'  ...     DennisCardiff    rgoodlaw\n",
              "2  1372464902  b'Sun Feb 07 07:39:42 +0000 2021'  ...      ajisfabulous    rgoodlaw\n",
              "3    23308670  b'Sun Feb 07 07:37:47 +0000 2021'  ...    PurrpleKrystal  MaddowBlog\n",
              "4    23308670  b'Sun Feb 07 07:37:18 +0000 2021'  ...    PurrpleKrystal         NaN\n",
              "\n",
              "[5 rows x 13 columns]"
            ]
          },
          "metadata": {
            "tags": []
          },
          "execution_count": 14
        }
      ]
    },
    {
      "cell_type": "markdown",
      "metadata": {
        "id": "-Y05Ejw_Wdl3"
      },
      "source": [
        "The number shown below is used to demonstrate the fact that there are some rows in the dataframe where the rt column contains null values. This indicates the presence of original tweets in the data set."
      ]
    },
    {
      "cell_type": "code",
      "metadata": {
        "id": "Vf3Jr5GeWWzr",
        "colab": {
          "base_uri": "https://localhost:8080/"
        },
        "outputId": "fce99ae5-41bf-4486-a731-79025492b657"
      },
      "source": [
        "len(df[df['rt'].isna()==True])"
      ],
      "execution_count": null,
      "outputs": [
        {
          "output_type": "execute_result",
          "data": {
            "text/plain": [
              "942"
            ]
          },
          "metadata": {
            "tags": []
          },
          "execution_count": 16
        }
      ]
    },
    {
      "cell_type": "markdown",
      "metadata": {
        "id": "2utodFmKWqlW"
      },
      "source": [
        "The nulls in the column rt are replaced with clean_screen_name to indicate the self loop."
      ]
    },
    {
      "cell_type": "code",
      "metadata": {
        "id": "SuMraMNbWW5J"
      },
      "source": [
        "df.loc[df['rt'].isnull(),'rt'] = df['clean_screen_name']"
      ],
      "execution_count": null,
      "outputs": []
    },
    {
      "cell_type": "code",
      "metadata": {
        "id": "MtTfteJVWW-t",
        "colab": {
          "base_uri": "https://localhost:8080/",
          "height": 289
        },
        "outputId": "4ef29b6b-00f9-4912-f63e-2410ce45486b"
      },
      "source": [
        "df.head()"
      ],
      "execution_count": null,
      "outputs": [
        {
          "output_type": "execute_result",
          "data": {
            "text/html": [
              "<div>\n",
              "<style scoped>\n",
              "    .dataframe tbody tr th:only-of-type {\n",
              "        vertical-align: middle;\n",
              "    }\n",
              "\n",
              "    .dataframe tbody tr th {\n",
              "        vertical-align: top;\n",
              "    }\n",
              "\n",
              "    .dataframe thead th {\n",
              "        text-align: right;\n",
              "    }\n",
              "</style>\n",
              "<table border=\"1\" class=\"dataframe\">\n",
              "  <thead>\n",
              "    <tr style=\"text-align: right;\">\n",
              "      <th></th>\n",
              "      <th>ids</th>\n",
              "      <th>create_time</th>\n",
              "      <th>screen_name</th>\n",
              "      <th>followers</th>\n",
              "      <th>retweet</th>\n",
              "      <th>inreplyto</th>\n",
              "      <th>favorite</th>\n",
              "      <th>friends</th>\n",
              "      <th>listed</th>\n",
              "      <th>location</th>\n",
              "      <th>text</th>\n",
              "      <th>clean_screen_name</th>\n",
              "      <th>rt</th>\n",
              "    </tr>\n",
              "  </thead>\n",
              "  <tbody>\n",
              "    <tr>\n",
              "      <th>0</th>\n",
              "      <td>386329908</td>\n",
              "      <td>b'Sun Feb 07 07:41:28 +0000 2021'</td>\n",
              "      <td>b'Rubygirl_Tweets'</td>\n",
              "      <td>1978</td>\n",
              "      <td>2549</td>\n",
              "      <td>NaN</td>\n",
              "      <td>0</td>\n",
              "      <td>2813</td>\n",
              "      <td>4</td>\n",
              "      <td>b'Democratic Hellscape'</td>\n",
              "      <td>b'RT @rgoodlaw: NEW\\n\\nExclusive footage of Ro...</td>\n",
              "      <td>Rubygirl_Tweets</td>\n",
              "      <td>rgoodlaw</td>\n",
              "    </tr>\n",
              "    <tr>\n",
              "      <th>1</th>\n",
              "      <td>163299688</td>\n",
              "      <td>b'Sun Feb 07 07:41:16 +0000 2021'</td>\n",
              "      <td>b'DennisCardiff'</td>\n",
              "      <td>140010</td>\n",
              "      <td>2549</td>\n",
              "      <td>NaN</td>\n",
              "      <td>0</td>\n",
              "      <td>153976</td>\n",
              "      <td>1752</td>\n",
              "      <td>b'Ottawa, Canada'</td>\n",
              "      <td>b'RT @rgoodlaw: NEW\\n\\nExclusive footage of Ro...</td>\n",
              "      <td>DennisCardiff</td>\n",
              "      <td>rgoodlaw</td>\n",
              "    </tr>\n",
              "    <tr>\n",
              "      <th>2</th>\n",
              "      <td>1372464902</td>\n",
              "      <td>b'Sun Feb 07 07:39:42 +0000 2021'</td>\n",
              "      <td>b'ajisfabulous'</td>\n",
              "      <td>2380</td>\n",
              "      <td>2549</td>\n",
              "      <td>NaN</td>\n",
              "      <td>0</td>\n",
              "      <td>204</td>\n",
              "      <td>20</td>\n",
              "      <td>b''</td>\n",
              "      <td>b'RT @rgoodlaw: NEW\\n\\nExclusive footage of Ro...</td>\n",
              "      <td>ajisfabulous</td>\n",
              "      <td>rgoodlaw</td>\n",
              "    </tr>\n",
              "    <tr>\n",
              "      <th>3</th>\n",
              "      <td>23308670</td>\n",
              "      <td>b'Sun Feb 07 07:37:47 +0000 2021'</td>\n",
              "      <td>b'PurrpleKrystal'</td>\n",
              "      <td>627</td>\n",
              "      <td>0</td>\n",
              "      <td>b'MaddowBlog'</td>\n",
              "      <td>0</td>\n",
              "      <td>1552</td>\n",
              "      <td>20</td>\n",
              "      <td>b'San Diego'</td>\n",
              "      <td>b'@MaddowBlog I hope this is brought up in the...</td>\n",
              "      <td>PurrpleKrystal</td>\n",
              "      <td>MaddowBlog</td>\n",
              "    </tr>\n",
              "    <tr>\n",
              "      <th>4</th>\n",
              "      <td>23308670</td>\n",
              "      <td>b'Sun Feb 07 07:37:18 +0000 2021'</td>\n",
              "      <td>b'PurrpleKrystal'</td>\n",
              "      <td>627</td>\n",
              "      <td>0</td>\n",
              "      <td>NaN</td>\n",
              "      <td>0</td>\n",
              "      <td>1552</td>\n",
              "      <td>20</td>\n",
              "      <td>b'San Diego'</td>\n",
              "      <td>b'I hope this is brought up in the #ConvictAnd...</td>\n",
              "      <td>PurrpleKrystal</td>\n",
              "      <td>PurrpleKrystal</td>\n",
              "    </tr>\n",
              "  </tbody>\n",
              "</table>\n",
              "</div>"
            ],
            "text/plain": [
              "          ids  ...              rt\n",
              "0   386329908  ...        rgoodlaw\n",
              "1   163299688  ...        rgoodlaw\n",
              "2  1372464902  ...        rgoodlaw\n",
              "3    23308670  ...      MaddowBlog\n",
              "4    23308670  ...  PurrpleKrystal\n",
              "\n",
              "[5 rows x 13 columns]"
            ]
          },
          "metadata": {
            "tags": []
          },
          "execution_count": 18
        }
      ]
    },
    {
      "cell_type": "markdown",
      "metadata": {
        "id": "p_lynSXHWyvS"
      },
      "source": [
        "The final function, *tweet_classification* is used to classify the tweet based on some regular expression operations."
      ]
    },
    {
      "cell_type": "code",
      "metadata": {
        "id": "HjUTBl6uWy9S"
      },
      "source": [
        "df['tweet_classification'] = df['text'].map(classify_tweet)"
      ],
      "execution_count": null,
      "outputs": []
    },
    {
      "cell_type": "code",
      "metadata": {
        "id": "KT5LN6wqWzBs",
        "colab": {
          "base_uri": "https://localhost:8080/",
          "height": 374
        },
        "outputId": "53a8bb4f-e231-4847-91f8-abde2e603dd0"
      },
      "source": [
        "df.head()"
      ],
      "execution_count": null,
      "outputs": [
        {
          "output_type": "execute_result",
          "data": {
            "text/html": [
              "<div>\n",
              "<style scoped>\n",
              "    .dataframe tbody tr th:only-of-type {\n",
              "        vertical-align: middle;\n",
              "    }\n",
              "\n",
              "    .dataframe tbody tr th {\n",
              "        vertical-align: top;\n",
              "    }\n",
              "\n",
              "    .dataframe thead th {\n",
              "        text-align: right;\n",
              "    }\n",
              "</style>\n",
              "<table border=\"1\" class=\"dataframe\">\n",
              "  <thead>\n",
              "    <tr style=\"text-align: right;\">\n",
              "      <th></th>\n",
              "      <th>ids</th>\n",
              "      <th>create_time</th>\n",
              "      <th>screen_name</th>\n",
              "      <th>followers</th>\n",
              "      <th>retweet</th>\n",
              "      <th>inreplyto</th>\n",
              "      <th>favorite</th>\n",
              "      <th>friends</th>\n",
              "      <th>listed</th>\n",
              "      <th>location</th>\n",
              "      <th>text</th>\n",
              "      <th>clean_screen_name</th>\n",
              "      <th>rt</th>\n",
              "      <th>tweet_classification</th>\n",
              "    </tr>\n",
              "  </thead>\n",
              "  <tbody>\n",
              "    <tr>\n",
              "      <th>0</th>\n",
              "      <td>386329908</td>\n",
              "      <td>b'Sun Feb 07 07:41:28 +0000 2021'</td>\n",
              "      <td>b'Rubygirl_Tweets'</td>\n",
              "      <td>1978</td>\n",
              "      <td>2549</td>\n",
              "      <td>NaN</td>\n",
              "      <td>0</td>\n",
              "      <td>2813</td>\n",
              "      <td>4</td>\n",
              "      <td>b'Democratic Hellscape'</td>\n",
              "      <td>b'RT @rgoodlaw: NEW\\n\\nExclusive footage of Ro...</td>\n",
              "      <td>Rubygirl_Tweets</td>\n",
              "      <td>rgoodlaw</td>\n",
              "      <td>RT</td>\n",
              "    </tr>\n",
              "    <tr>\n",
              "      <th>1</th>\n",
              "      <td>163299688</td>\n",
              "      <td>b'Sun Feb 07 07:41:16 +0000 2021'</td>\n",
              "      <td>b'DennisCardiff'</td>\n",
              "      <td>140010</td>\n",
              "      <td>2549</td>\n",
              "      <td>NaN</td>\n",
              "      <td>0</td>\n",
              "      <td>153976</td>\n",
              "      <td>1752</td>\n",
              "      <td>b'Ottawa, Canada'</td>\n",
              "      <td>b'RT @rgoodlaw: NEW\\n\\nExclusive footage of Ro...</td>\n",
              "      <td>DennisCardiff</td>\n",
              "      <td>rgoodlaw</td>\n",
              "      <td>RT</td>\n",
              "    </tr>\n",
              "    <tr>\n",
              "      <th>2</th>\n",
              "      <td>1372464902</td>\n",
              "      <td>b'Sun Feb 07 07:39:42 +0000 2021'</td>\n",
              "      <td>b'ajisfabulous'</td>\n",
              "      <td>2380</td>\n",
              "      <td>2549</td>\n",
              "      <td>NaN</td>\n",
              "      <td>0</td>\n",
              "      <td>204</td>\n",
              "      <td>20</td>\n",
              "      <td>b''</td>\n",
              "      <td>b'RT @rgoodlaw: NEW\\n\\nExclusive footage of Ro...</td>\n",
              "      <td>ajisfabulous</td>\n",
              "      <td>rgoodlaw</td>\n",
              "      <td>RT</td>\n",
              "    </tr>\n",
              "    <tr>\n",
              "      <th>3</th>\n",
              "      <td>23308670</td>\n",
              "      <td>b'Sun Feb 07 07:37:47 +0000 2021'</td>\n",
              "      <td>b'PurrpleKrystal'</td>\n",
              "      <td>627</td>\n",
              "      <td>0</td>\n",
              "      <td>b'MaddowBlog'</td>\n",
              "      <td>0</td>\n",
              "      <td>1552</td>\n",
              "      <td>20</td>\n",
              "      <td>b'San Diego'</td>\n",
              "      <td>b'@MaddowBlog I hope this is brought up in the...</td>\n",
              "      <td>PurrpleKrystal</td>\n",
              "      <td>MaddowBlog</td>\n",
              "      <td>Mention</td>\n",
              "    </tr>\n",
              "    <tr>\n",
              "      <th>4</th>\n",
              "      <td>23308670</td>\n",
              "      <td>b'Sun Feb 07 07:37:18 +0000 2021'</td>\n",
              "      <td>b'PurrpleKrystal'</td>\n",
              "      <td>627</td>\n",
              "      <td>0</td>\n",
              "      <td>NaN</td>\n",
              "      <td>0</td>\n",
              "      <td>1552</td>\n",
              "      <td>20</td>\n",
              "      <td>b'San Diego'</td>\n",
              "      <td>b'I hope this is brought up in the #ConvictAnd...</td>\n",
              "      <td>PurrpleKrystal</td>\n",
              "      <td>PurrpleKrystal</td>\n",
              "      <td>Tweet (self-loop)</td>\n",
              "    </tr>\n",
              "  </tbody>\n",
              "</table>\n",
              "</div>"
            ],
            "text/plain": [
              "          ids  ... tweet_classification\n",
              "0   386329908  ...                   RT\n",
              "1   163299688  ...                   RT\n",
              "2  1372464902  ...                   RT\n",
              "3    23308670  ...              Mention\n",
              "4    23308670  ...    Tweet (self-loop)\n",
              "\n",
              "[5 rows x 14 columns]"
            ]
          },
          "metadata": {
            "tags": []
          },
          "execution_count": 20
        }
      ]
    },
    {
      "cell_type": "markdown",
      "metadata": {
        "id": "QNdNfYUo-GBL"
      },
      "source": [
        "A file *tweet_clean.csv* is created to save all the information gathered in the previous exercises."
      ]
    },
    {
      "cell_type": "code",
      "metadata": {
        "id": "Llpgt8zKWzNp"
      },
      "source": [
        "df.to_csv('tweet_clean.csv')"
      ],
      "execution_count": null,
      "outputs": []
    },
    {
      "cell_type": "markdown",
      "metadata": {
        "id": "X_lXJzL1XF20"
      },
      "source": [
        "The three column csv deliverable is demonstrated and saved using the lines of code below."
      ]
    },
    {
      "cell_type": "code",
      "metadata": {
        "id": "Cq6m1g65WzXU"
      },
      "source": [
        "df_new = df[['clean_screen_name','rt','tweet_classification']].copy()"
      ],
      "execution_count": null,
      "outputs": []
    },
    {
      "cell_type": "code",
      "metadata": {
        "id": "2pIcspITXJjh",
        "colab": {
          "base_uri": "https://localhost:8080/",
          "height": 204
        },
        "outputId": "848ecb7c-c088-4c01-f60b-3526f54a70f5"
      },
      "source": [
        "df_new.head()"
      ],
      "execution_count": null,
      "outputs": [
        {
          "output_type": "execute_result",
          "data": {
            "text/html": [
              "<div>\n",
              "<style scoped>\n",
              "    .dataframe tbody tr th:only-of-type {\n",
              "        vertical-align: middle;\n",
              "    }\n",
              "\n",
              "    .dataframe tbody tr th {\n",
              "        vertical-align: top;\n",
              "    }\n",
              "\n",
              "    .dataframe thead th {\n",
              "        text-align: right;\n",
              "    }\n",
              "</style>\n",
              "<table border=\"1\" class=\"dataframe\">\n",
              "  <thead>\n",
              "    <tr style=\"text-align: right;\">\n",
              "      <th></th>\n",
              "      <th>clean_screen_name</th>\n",
              "      <th>rt</th>\n",
              "      <th>tweet_classification</th>\n",
              "    </tr>\n",
              "  </thead>\n",
              "  <tbody>\n",
              "    <tr>\n",
              "      <th>0</th>\n",
              "      <td>Rubygirl_Tweets</td>\n",
              "      <td>rgoodlaw</td>\n",
              "      <td>RT</td>\n",
              "    </tr>\n",
              "    <tr>\n",
              "      <th>1</th>\n",
              "      <td>DennisCardiff</td>\n",
              "      <td>rgoodlaw</td>\n",
              "      <td>RT</td>\n",
              "    </tr>\n",
              "    <tr>\n",
              "      <th>2</th>\n",
              "      <td>ajisfabulous</td>\n",
              "      <td>rgoodlaw</td>\n",
              "      <td>RT</td>\n",
              "    </tr>\n",
              "    <tr>\n",
              "      <th>3</th>\n",
              "      <td>PurrpleKrystal</td>\n",
              "      <td>MaddowBlog</td>\n",
              "      <td>Mention</td>\n",
              "    </tr>\n",
              "    <tr>\n",
              "      <th>4</th>\n",
              "      <td>PurrpleKrystal</td>\n",
              "      <td>PurrpleKrystal</td>\n",
              "      <td>Tweet (self-loop)</td>\n",
              "    </tr>\n",
              "  </tbody>\n",
              "</table>\n",
              "</div>"
            ],
            "text/plain": [
              "  clean_screen_name              rt tweet_classification\n",
              "0   Rubygirl_Tweets        rgoodlaw                   RT\n",
              "1     DennisCardiff        rgoodlaw                   RT\n",
              "2      ajisfabulous        rgoodlaw                   RT\n",
              "3    PurrpleKrystal      MaddowBlog              Mention\n",
              "4    PurrpleKrystal  PurrpleKrystal    Tweet (self-loop)"
            ]
          },
          "metadata": {
            "tags": []
          },
          "execution_count": 22
        }
      ]
    },
    {
      "cell_type": "code",
      "metadata": {
        "id": "6mGja_wLWXCw"
      },
      "source": [
        "df_new.to_csv('gephi_input_2.csv')#this file has been renamed Three Columns.csv. Columns from this file were used to create the network on Gephi."
      ],
      "execution_count": null,
      "outputs": []
    },
    {
      "cell_type": "markdown",
      "metadata": {
        "id": "iiMWJxrALLl9"
      },
      "source": [
        "## Running network analysis using file from Gephi"
      ]
    },
    {
      "cell_type": "markdown",
      "metadata": {
        "id": "c0Ay7fj_DvpA"
      },
      "source": [
        "The tweets as well as the metrics from gephi are read using the lines of code below:"
      ]
    },
    {
      "cell_type": "code",
      "metadata": {
        "id": "E3E85CyCOQon"
      },
      "source": [
        "tweets = pd.read_csv('/content/drive/Shareddrives/UTMSBA SMA/HW1_trial_2/tweet_clean.csv', index_col=0)"
      ],
      "execution_count": null,
      "outputs": []
    },
    {
      "cell_type": "markdown",
      "metadata": {
        "id": "bJ3DnlFM8XDK"
      },
      "source": [
        "**Calculate the degree, betweenness and closeness of each node in the network**\r\n",
        "\r\n",
        "The network metric were calculated using Gephi and the output is shown below:"
      ]
    },
    {
      "cell_type": "code",
      "metadata": {
        "id": "Y8F32zzROQqm"
      },
      "source": [
        "network = pd.read_csv('/content/drive/Shareddrives/UTMSBA SMA/HW1_trial_2/Network Calculations.csv', index_col=0)"
      ],
      "execution_count": null,
      "outputs": []
    },
    {
      "cell_type": "code",
      "metadata": {
        "colab": {
          "base_uri": "https://localhost:8080/",
          "height": 235
        },
        "id": "7QCW6h7L8j1o",
        "outputId": "344f0aab-2bcd-431b-ff40-8749c7a89f67"
      },
      "source": [
        "network.head()"
      ],
      "execution_count": null,
      "outputs": [
        {
          "output_type": "execute_result",
          "data": {
            "text/html": [
              "<div>\n",
              "<style scoped>\n",
              "    .dataframe tbody tr th:only-of-type {\n",
              "        vertical-align: middle;\n",
              "    }\n",
              "\n",
              "    .dataframe tbody tr th {\n",
              "        vertical-align: top;\n",
              "    }\n",
              "\n",
              "    .dataframe thead th {\n",
              "        text-align: right;\n",
              "    }\n",
              "</style>\n",
              "<table border=\"1\" class=\"dataframe\">\n",
              "  <thead>\n",
              "    <tr style=\"text-align: right;\">\n",
              "      <th></th>\n",
              "      <th>Label</th>\n",
              "      <th>timeset</th>\n",
              "      <th>indegree</th>\n",
              "      <th>outdegree</th>\n",
              "      <th>Degree</th>\n",
              "      <th>closnesscentrality</th>\n",
              "      <th>harmonicclosnesscentrality</th>\n",
              "      <th>betweenesscentrality</th>\n",
              "    </tr>\n",
              "    <tr>\n",
              "      <th>Id</th>\n",
              "      <th></th>\n",
              "      <th></th>\n",
              "      <th></th>\n",
              "      <th></th>\n",
              "      <th></th>\n",
              "      <th></th>\n",
              "      <th></th>\n",
              "      <th></th>\n",
              "    </tr>\n",
              "  </thead>\n",
              "  <tbody>\n",
              "    <tr>\n",
              "      <th>Rubygirl_Tweets</th>\n",
              "      <td>Rubygirl_Tweets</td>\n",
              "      <td>NaN</td>\n",
              "      <td>0</td>\n",
              "      <td>1</td>\n",
              "      <td>1</td>\n",
              "      <td>1.0</td>\n",
              "      <td>1.0</td>\n",
              "      <td>0.0</td>\n",
              "    </tr>\n",
              "    <tr>\n",
              "      <th>rgoodlaw</th>\n",
              "      <td>rgoodlaw</td>\n",
              "      <td>NaN</td>\n",
              "      <td>1406</td>\n",
              "      <td>1</td>\n",
              "      <td>1407</td>\n",
              "      <td>0.0</td>\n",
              "      <td>0.0</td>\n",
              "      <td>0.0</td>\n",
              "    </tr>\n",
              "    <tr>\n",
              "      <th>DennisCardiff</th>\n",
              "      <td>DennisCardiff</td>\n",
              "      <td>NaN</td>\n",
              "      <td>0</td>\n",
              "      <td>2</td>\n",
              "      <td>2</td>\n",
              "      <td>1.0</td>\n",
              "      <td>1.0</td>\n",
              "      <td>0.0</td>\n",
              "    </tr>\n",
              "    <tr>\n",
              "      <th>ajisfabulous</th>\n",
              "      <td>ajisfabulous</td>\n",
              "      <td>NaN</td>\n",
              "      <td>0</td>\n",
              "      <td>1</td>\n",
              "      <td>1</td>\n",
              "      <td>1.0</td>\n",
              "      <td>1.0</td>\n",
              "      <td>0.0</td>\n",
              "    </tr>\n",
              "    <tr>\n",
              "      <th>PurrpleKrystal</th>\n",
              "      <td>PurrpleKrystal</td>\n",
              "      <td>NaN</td>\n",
              "      <td>1</td>\n",
              "      <td>2</td>\n",
              "      <td>3</td>\n",
              "      <td>1.0</td>\n",
              "      <td>1.0</td>\n",
              "      <td>0.0</td>\n",
              "    </tr>\n",
              "  </tbody>\n",
              "</table>\n",
              "</div>"
            ],
            "text/plain": [
              "                           Label  ...  betweenesscentrality\n",
              "Id                                ...                      \n",
              "Rubygirl_Tweets  Rubygirl_Tweets  ...                   0.0\n",
              "rgoodlaw                rgoodlaw  ...                   0.0\n",
              "DennisCardiff      DennisCardiff  ...                   0.0\n",
              "ajisfabulous        ajisfabulous  ...                   0.0\n",
              "PurrpleKrystal    PurrpleKrystal  ...                   0.0\n",
              "\n",
              "[5 rows x 8 columns]"
            ]
          },
          "metadata": {
            "tags": []
          },
          "execution_count": 6
        }
      ]
    },
    {
      "cell_type": "markdown",
      "metadata": {
        "id": "39k8IW53EDCf"
      },
      "source": [
        "The network created using gephi is shown below. Clearly there are some important players in this network and it should yield some intereting results in terms of the score."
      ]
    },
    {
      "cell_type": "markdown",
      "metadata": {
        "id": "Rd0MKoiNG0Jp"
      },
      "source": [
        "![network.png](data:image/png;base64,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)"
      ]
    },
    {
      "cell_type": "markdown",
      "metadata": {
        "id": "fGondG5XHGAh"
      },
      "source": [
        "Below, the two dataframes are merged. Data could not be gathered for the variable associated with mentions, hence it has been ignored for the purposes of calculating a score. "
      ]
    },
    {
      "cell_type": "code",
      "metadata": {
        "id": "mXWDWZQ_OQtU"
      },
      "source": [
        "df = tweets.merge(network, how = 'left', left_on = 'clean_screen_name', right_on = 'Label')"
      ],
      "execution_count": null,
      "outputs": []
    },
    {
      "cell_type": "code",
      "metadata": {
        "colab": {
          "base_uri": "https://localhost:8080/",
          "height": 411
        },
        "id": "rYmDR4AuHrZb",
        "outputId": "c730eb90-add9-4876-96b1-b86871676dab"
      },
      "source": [
        "df = df.loc[:,df.columns !='Unnamed: 0.1']\r\n",
        "df.head()"
      ],
      "execution_count": null,
      "outputs": [
        {
          "output_type": "execute_result",
          "data": {
            "text/html": [
              "<div>\n",
              "<style scoped>\n",
              "    .dataframe tbody tr th:only-of-type {\n",
              "        vertical-align: middle;\n",
              "    }\n",
              "\n",
              "    .dataframe tbody tr th {\n",
              "        vertical-align: top;\n",
              "    }\n",
              "\n",
              "    .dataframe thead th {\n",
              "        text-align: right;\n",
              "    }\n",
              "</style>\n",
              "<table border=\"1\" class=\"dataframe\">\n",
              "  <thead>\n",
              "    <tr style=\"text-align: right;\">\n",
              "      <th></th>\n",
              "      <th>ids</th>\n",
              "      <th>create_time</th>\n",
              "      <th>screen_name</th>\n",
              "      <th>followers</th>\n",
              "      <th>retweet</th>\n",
              "      <th>inreplyto</th>\n",
              "      <th>favorite</th>\n",
              "      <th>friends</th>\n",
              "      <th>listed</th>\n",
              "      <th>location</th>\n",
              "      <th>text</th>\n",
              "      <th>clean_screen_name</th>\n",
              "      <th>rt</th>\n",
              "      <th>tweet_classification</th>\n",
              "      <th>Label</th>\n",
              "      <th>timeset</th>\n",
              "      <th>indegree</th>\n",
              "      <th>outdegree</th>\n",
              "      <th>Degree</th>\n",
              "      <th>closnesscentrality</th>\n",
              "      <th>harmonicclosnesscentrality</th>\n",
              "      <th>betweenesscentrality</th>\n",
              "    </tr>\n",
              "  </thead>\n",
              "  <tbody>\n",
              "    <tr>\n",
              "      <th>0</th>\n",
              "      <td>386329908</td>\n",
              "      <td>b'Sun Feb 07 07:41:28 +0000 2021'</td>\n",
              "      <td>b'Rubygirl_Tweets'</td>\n",
              "      <td>1978</td>\n",
              "      <td>2549</td>\n",
              "      <td>NaN</td>\n",
              "      <td>0</td>\n",
              "      <td>2813</td>\n",
              "      <td>4</td>\n",
              "      <td>b'Democratic Hellscape'</td>\n",
              "      <td>b'RT @rgoodlaw: NEW\\n\\nExclusive footage of Ro...</td>\n",
              "      <td>Rubygirl_Tweets</td>\n",
              "      <td>rgoodlaw</td>\n",
              "      <td>RT</td>\n",
              "      <td>Rubygirl_Tweets</td>\n",
              "      <td>NaN</td>\n",
              "      <td>0</td>\n",
              "      <td>1</td>\n",
              "      <td>1</td>\n",
              "      <td>1.0</td>\n",
              "      <td>1.0</td>\n",
              "      <td>0.0</td>\n",
              "    </tr>\n",
              "    <tr>\n",
              "      <th>1</th>\n",
              "      <td>163299688</td>\n",
              "      <td>b'Sun Feb 07 07:41:16 +0000 2021'</td>\n",
              "      <td>b'DennisCardiff'</td>\n",
              "      <td>140010</td>\n",
              "      <td>2549</td>\n",
              "      <td>NaN</td>\n",
              "      <td>0</td>\n",
              "      <td>153976</td>\n",
              "      <td>1752</td>\n",
              "      <td>b'Ottawa, Canada'</td>\n",
              "      <td>b'RT @rgoodlaw: NEW\\n\\nExclusive footage of Ro...</td>\n",
              "      <td>DennisCardiff</td>\n",
              "      <td>rgoodlaw</td>\n",
              "      <td>RT</td>\n",
              "      <td>DennisCardiff</td>\n",
              "      <td>NaN</td>\n",
              "      <td>0</td>\n",
              "      <td>2</td>\n",
              "      <td>2</td>\n",
              "      <td>1.0</td>\n",
              "      <td>1.0</td>\n",
              "      <td>0.0</td>\n",
              "    </tr>\n",
              "    <tr>\n",
              "      <th>2</th>\n",
              "      <td>1372464902</td>\n",
              "      <td>b'Sun Feb 07 07:39:42 +0000 2021'</td>\n",
              "      <td>b'ajisfabulous'</td>\n",
              "      <td>2380</td>\n",
              "      <td>2549</td>\n",
              "      <td>NaN</td>\n",
              "      <td>0</td>\n",
              "      <td>204</td>\n",
              "      <td>20</td>\n",
              "      <td>b''</td>\n",
              "      <td>b'RT @rgoodlaw: NEW\\n\\nExclusive footage of Ro...</td>\n",
              "      <td>ajisfabulous</td>\n",
              "      <td>rgoodlaw</td>\n",
              "      <td>RT</td>\n",
              "      <td>ajisfabulous</td>\n",
              "      <td>NaN</td>\n",
              "      <td>0</td>\n",
              "      <td>1</td>\n",
              "      <td>1</td>\n",
              "      <td>1.0</td>\n",
              "      <td>1.0</td>\n",
              "      <td>0.0</td>\n",
              "    </tr>\n",
              "    <tr>\n",
              "      <th>3</th>\n",
              "      <td>23308670</td>\n",
              "      <td>b'Sun Feb 07 07:37:47 +0000 2021'</td>\n",
              "      <td>b'PurrpleKrystal'</td>\n",
              "      <td>627</td>\n",
              "      <td>0</td>\n",
              "      <td>b'MaddowBlog'</td>\n",
              "      <td>0</td>\n",
              "      <td>1552</td>\n",
              "      <td>20</td>\n",
              "      <td>b'San Diego'</td>\n",
              "      <td>b'@MaddowBlog I hope this is brought up in the...</td>\n",
              "      <td>PurrpleKrystal</td>\n",
              "      <td>MaddowBlog</td>\n",
              "      <td>Mention</td>\n",
              "      <td>PurrpleKrystal</td>\n",
              "      <td>NaN</td>\n",
              "      <td>1</td>\n",
              "      <td>2</td>\n",
              "      <td>3</td>\n",
              "      <td>1.0</td>\n",
              "      <td>1.0</td>\n",
              "      <td>0.0</td>\n",
              "    </tr>\n",
              "    <tr>\n",
              "      <th>4</th>\n",
              "      <td>23308670</td>\n",
              "      <td>b'Sun Feb 07 07:37:18 +0000 2021'</td>\n",
              "      <td>b'PurrpleKrystal'</td>\n",
              "      <td>627</td>\n",
              "      <td>0</td>\n",
              "      <td>NaN</td>\n",
              "      <td>0</td>\n",
              "      <td>1552</td>\n",
              "      <td>20</td>\n",
              "      <td>b'San Diego'</td>\n",
              "      <td>b'I hope this is brought up in the #ConvictAnd...</td>\n",
              "      <td>PurrpleKrystal</td>\n",
              "      <td>PurrpleKrystal</td>\n",
              "      <td>Tweet (self-loop)</td>\n",
              "      <td>PurrpleKrystal</td>\n",
              "      <td>NaN</td>\n",
              "      <td>1</td>\n",
              "      <td>2</td>\n",
              "      <td>3</td>\n",
              "      <td>1.0</td>\n",
              "      <td>1.0</td>\n",
              "      <td>0.0</td>\n",
              "    </tr>\n",
              "  </tbody>\n",
              "</table>\n",
              "</div>"
            ],
            "text/plain": [
              "          ids  ... betweenesscentrality\n",
              "0   386329908  ...                  0.0\n",
              "1   163299688  ...                  0.0\n",
              "2  1372464902  ...                  0.0\n",
              "3    23308670  ...                  0.0\n",
              "4    23308670  ...                  0.0\n",
              "\n",
              "[5 rows x 22 columns]"
            ]
          },
          "metadata": {
            "tags": []
          },
          "execution_count": 6
        }
      ]
    },
    {
      "cell_type": "markdown",
      "metadata": {
        "id": "nYRupoIdKFe_"
      },
      "source": [
        "The weights were chosen based on trials and in order of importance of the factors from Part 1. It has to be noted that the *listed* and *retweet* variables have been scaled separately. The network metrics were provided as scaled values from the software."
      ]
    },
    {
      "cell_type": "code",
      "metadata": {
        "id": "_eRb5CUyMC4p"
      },
      "source": [
        "w1 = 0.45\r\n",
        "w2 = 0.25\r\n",
        "w3 = 0.20\r\n",
        "w4 = 0.10\r\n",
        "df['score'] = (w1*df['retweet']/df['retweet'].sum()+w2*df['betweenesscentrality']+w3*df['listed']/df['listed'].sum()+w4*df['closnesscentrality'])\r\n",
        "df_ordered = df.sort_values(by = 'score', ascending = False)"
      ],
      "execution_count": null,
      "outputs": []
    },
    {
      "cell_type": "markdown",
      "metadata": {
        "id": "q65ozboTKl4Q"
      },
      "source": [
        "The list of the top 25 influencers is shown below:"
      ]
    },
    {
      "cell_type": "code",
      "metadata": {
        "colab": {
          "base_uri": "https://localhost:8080/",
          "height": 824
        },
        "id": "5BqL2mDuKiQE",
        "outputId": "2babc6d3-626a-4e0d-a969-022d0fc89b8d"
      },
      "source": [
        "df_ordered[['Label','score']].drop_duplicates(subset = 'Label')[0:25]"
      ],
      "execution_count": null,
      "outputs": [
        {
          "output_type": "execute_result",
          "data": {
            "text/html": [
              "<div>\n",
              "<style scoped>\n",
              "    .dataframe tbody tr th:only-of-type {\n",
              "        vertical-align: middle;\n",
              "    }\n",
              "\n",
              "    .dataframe tbody tr th {\n",
              "        vertical-align: top;\n",
              "    }\n",
              "\n",
              "    .dataframe thead th {\n",
              "        text-align: right;\n",
              "    }\n",
              "</style>\n",
              "<table border=\"1\" class=\"dataframe\">\n",
              "  <thead>\n",
              "    <tr style=\"text-align: right;\">\n",
              "      <th></th>\n",
              "      <th>Label</th>\n",
              "      <th>score</th>\n",
              "    </tr>\n",
              "  </thead>\n",
              "  <tbody>\n",
              "    <tr>\n",
              "      <th>3004</th>\n",
              "      <td>johncusack</td>\n",
              "      <td>0.106952</td>\n",
              "    </tr>\n",
              "    <tr>\n",
              "      <th>3118</th>\n",
              "      <td>JoyAnnReid</td>\n",
              "      <td>0.105769</td>\n",
              "    </tr>\n",
              "    <tr>\n",
              "      <th>1905</th>\n",
              "      <td>LindseyGrahamSC</td>\n",
              "      <td>0.104018</td>\n",
              "    </tr>\n",
              "    <tr>\n",
              "      <th>2546</th>\n",
              "      <td>Jerusalem_Post</td>\n",
              "      <td>0.104016</td>\n",
              "    </tr>\n",
              "    <tr>\n",
              "      <th>5930</th>\n",
              "      <td>SputnikInt</td>\n",
              "      <td>0.103146</td>\n",
              "    </tr>\n",
              "    <tr>\n",
              "      <th>5001</th>\n",
              "      <td>lilyellowgirl</td>\n",
              "      <td>0.102000</td>\n",
              "    </tr>\n",
              "    <tr>\n",
              "      <th>4902</th>\n",
              "      <td>Story_2tell</td>\n",
              "      <td>0.101992</td>\n",
              "    </tr>\n",
              "    <tr>\n",
              "      <th>4610</th>\n",
              "      <td>Thiswayplease16</td>\n",
              "      <td>0.101991</td>\n",
              "    </tr>\n",
              "    <tr>\n",
              "      <th>2529</th>\n",
              "      <td>BurtonBrown</td>\n",
              "      <td>0.101677</td>\n",
              "    </tr>\n",
              "    <tr>\n",
              "      <th>6004</th>\n",
              "      <td>jmlpyt</td>\n",
              "      <td>0.101646</td>\n",
              "    </tr>\n",
              "    <tr>\n",
              "      <th>1673</th>\n",
              "      <td>StevenTDennis</td>\n",
              "      <td>0.101467</td>\n",
              "    </tr>\n",
              "    <tr>\n",
              "      <th>5423</th>\n",
              "      <td>004nino</td>\n",
              "      <td>0.101431</td>\n",
              "    </tr>\n",
              "    <tr>\n",
              "      <th>4742</th>\n",
              "      <td>moneycontrolcom</td>\n",
              "      <td>0.101295</td>\n",
              "    </tr>\n",
              "    <tr>\n",
              "      <th>1259</th>\n",
              "      <td>Timodc</td>\n",
              "      <td>0.101278</td>\n",
              "    </tr>\n",
              "    <tr>\n",
              "      <th>1179</th>\n",
              "      <td>jasondecker55</td>\n",
              "      <td>0.101246</td>\n",
              "    </tr>\n",
              "    <tr>\n",
              "      <th>2813</th>\n",
              "      <td>TheDemCoalition</td>\n",
              "      <td>0.101221</td>\n",
              "    </tr>\n",
              "    <tr>\n",
              "      <th>2271</th>\n",
              "      <td>morgfair</td>\n",
              "      <td>0.101202</td>\n",
              "    </tr>\n",
              "    <tr>\n",
              "      <th>1774</th>\n",
              "      <td>margbrennan</td>\n",
              "      <td>0.101192</td>\n",
              "    </tr>\n",
              "    <tr>\n",
              "      <th>1280</th>\n",
              "      <td>dobbs_randall</td>\n",
              "      <td>0.101188</td>\n",
              "    </tr>\n",
              "    <tr>\n",
              "      <th>1177</th>\n",
              "      <td>IsbetB</td>\n",
              "      <td>0.101188</td>\n",
              "    </tr>\n",
              "    <tr>\n",
              "      <th>3148</th>\n",
              "      <td>Redhead196749</td>\n",
              "      <td>0.101188</td>\n",
              "    </tr>\n",
              "    <tr>\n",
              "      <th>1064</th>\n",
              "      <td>amcInCal</td>\n",
              "      <td>0.101188</td>\n",
              "    </tr>\n",
              "    <tr>\n",
              "      <th>1292</th>\n",
              "      <td>MEC02081229</td>\n",
              "      <td>0.101188</td>\n",
              "    </tr>\n",
              "    <tr>\n",
              "      <th>1352</th>\n",
              "      <td>jimm3783349</td>\n",
              "      <td>0.101188</td>\n",
              "    </tr>\n",
              "    <tr>\n",
              "      <th>3061</th>\n",
              "      <td>nonaWlynwinni</td>\n",
              "      <td>0.101188</td>\n",
              "    </tr>\n",
              "  </tbody>\n",
              "</table>\n",
              "</div>"
            ],
            "text/plain": [
              "                Label     score\n",
              "3004       johncusack  0.106952\n",
              "3118       JoyAnnReid  0.105769\n",
              "1905  LindseyGrahamSC  0.104018\n",
              "2546   Jerusalem_Post  0.104016\n",
              "5930       SputnikInt  0.103146\n",
              "5001    lilyellowgirl  0.102000\n",
              "4902      Story_2tell  0.101992\n",
              "4610  Thiswayplease16  0.101991\n",
              "2529      BurtonBrown  0.101677\n",
              "6004           jmlpyt  0.101646\n",
              "1673    StevenTDennis  0.101467\n",
              "5423          004nino  0.101431\n",
              "4742  moneycontrolcom  0.101295\n",
              "1259           Timodc  0.101278\n",
              "1179    jasondecker55  0.101246\n",
              "2813  TheDemCoalition  0.101221\n",
              "2271         morgfair  0.101202\n",
              "1774      margbrennan  0.101192\n",
              "1280    dobbs_randall  0.101188\n",
              "1177           IsbetB  0.101188\n",
              "3148    Redhead196749  0.101188\n",
              "1064         amcInCal  0.101188\n",
              "1292      MEC02081229  0.101188\n",
              "1352      jimm3783349  0.101188\n",
              "3061    nonaWlynwinni  0.101188"
            ]
          },
          "metadata": {
            "tags": []
          },
          "execution_count": 9
        }
      ]
    },
    {
      "cell_type": "markdown",
      "metadata": {
        "id": "nDKynLDkvKlf"
      },
      "source": [
        "As can be seen, some of the top influencers in the network are TV personalities and politicians. The influencer with the highest score according to our study is actor John Cusack. A quick look at Mr Cusack's twitter account shows that he is fairly active on twitter with approximately 1.7M followers. Furthermore, he has been actively tweeting and retweeting about President Trump and seems to occupy the more progressive side of the political spectrum. \r\n",
        "\r\n",
        "The fact that proved to be more interesting was that foreign media outlets were among the top 5 influencers in a network that dealt with the impeachment of an American president. The Jersusalem Post is a newspaper founded in 1932 and based in Jerusalem whereas Sputnik is a Russian state owned news agency founded in 2014.\r\n",
        "\r\n",
        "Also, it was interesting to see individuals who, according to Google searches cannot be classified as famous, made it to the top 25 influencers list. Accounts such @amcInCal, @Redhead196749 and @jimm3783349 seem to belong to everyday citizens, but because of their activity on Twitter with regards to the impeachment trial, can be classified as influencers."
      ]
    }
  ]
}